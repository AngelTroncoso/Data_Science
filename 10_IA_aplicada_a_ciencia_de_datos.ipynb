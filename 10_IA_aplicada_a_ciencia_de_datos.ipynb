{
  "nbformat": 4,
  "nbformat_minor": 0,
  "metadata": {
    "colab": {
      "provenance": [],
      "include_colab_link": true
    },
    "kernelspec": {
      "name": "python3",
      "display_name": "Python 3"
    },
    "language_info": {
      "name": "python"
    }
  },
  "cells": [
    {
      "cell_type": "markdown",
      "metadata": {
        "id": "view-in-github",
        "colab_type": "text"
      },
      "source": [
        "<a href=\"https://colab.research.google.com/github/AngelTroncoso/Data_Science/blob/main/10_IA_aplicada_a_ciencia_de_datos.ipynb\" target=\"_parent\"><img src=\"https://colab.research.google.com/assets/colab-badge.svg\" alt=\"Open In Colab\"/></a>"
      ]
    },
    {
      "cell_type": "markdown",
      "source": [
        "# <strong><font color=\"7b71ff\">IA aplicada a Data Science: Utilizando IA en la construcción de visualizaciones de datos</font></strong>\n",
        "\n",
        "\n",
        "---"
      ],
      "metadata": {
        "id": "xH5tFkmkRt_n"
      }
    },
    {
      "cell_type": "markdown",
      "source": [
        "<img src=\"https://raw.githubusercontent.com/alura-cursos/ia-datascience-dataviz/main/imagens/logos/logo_branca_fundo_azul.png\" alt=\"inserir alt\">"
      ],
      "metadata": {
        "id": "sQ_RdGPMSWeu"
      }
    },
    {
      "cell_type": "markdown",
      "source": [
        "# **Aula 1 - Conociendo los datos**"
      ],
      "metadata": {
        "id": "heBVzgb0SeZH"
      }
    },
    {
      "cell_type": "markdown",
      "source": [
        " Zoop es una gran minorista que atiende a todas las regiones de México a través de su e-commerce. Es conocida por la amplia variedad de productos que ofrece, buscando satisfacer a todo tipo de público. Posee una serie de centros de distribución (CDs) para la entrega de sus productos, la mayoría de ellos situados en el estado de Mexico.\n",
        "\n",
        "Para gestionar su alcance, así como la facturación de su sector en tiendas online, consolida los datos en diferentes períodos de tiempo y evalúa estos datos para generar insights y tomar decisiones estratégicas en su negocio. En este proyecto, tendremos acceso a los datos de parte de su clientela de e-commerce durante el año 2023.\n",
        "\n",
        "Tú, como analista de datos de la empresa, necesitarás generar visualizaciones que ayuden en la elaboración de informes de acuerdo con algunas premisas proporcionadas por las partes interesadas, realizando un rápido análisis de la clientela que tenemos en la tienda virtual y de la facturación de la empresa.\n",
        "\n",
        "**Problema de negocio:**\n",
        "\n",
        "El equipo de datos de Zoop necesita extraer los datos y generar información a través de visuales que puedan presentarse a la directiva de la empresa, destacando los datos de facturación, perfil del cliente y otros indicadores que puedan ayudar en la toma de decisiones en su tienda online.\n",
        "\n",
        "**Base de datos**\n",
        "\n",
        "Vamos a importar dos bases de datos:\n",
        "\n",
        "Datos de los clientes del e-commerce de Zoop, separados por el código identificador de la compra.\n",
        "\n",
        "Datos de ventas del e-commerce de Zoop en 2023, separados por el código identificador de la compra.\n",
        "\n",
        "Estos datos se leerán desde el repositorio compartido en GitHub.\n",
        "\n",
        "**Desafío**\n",
        "\n",
        "Tú, como analista de datos del equipo de datos de Zoop, tienes el desafío de extraer los datos de ambas bases y construir visualizaciones que puedan agregar valor a la presentación de los resultados de Zoop en 2023. Para ello, se te presentarán 7 preguntas para que puedas contribuir en la construcción del storytelling de las ventas de la empresa.\n",
        "\n",
        "Para agilizar el proceso de análisis exploratorio de datos (AED) y la creación de visuales, utilizaremos la IA de ChatGPT como nuestra asistente, teniendo en cuenta el corto plazo para los análisis y la calidad de la entrega."
      ],
      "metadata": {
        "id": "o9mGhpCVSxFt"
      }
    },
    {
      "cell_type": "markdown",
      "source": [
        "## **1.2 - Obteniendo los datos**\n",
        "\n",
        "---\n",
        "\n"
      ],
      "metadata": {
        "id": "Gug4N1McUbeN"
      }
    },
    {
      "cell_type": "markdown",
      "source": [
        "Vamos inicialmente a proveer el link del repositorio con las dos bases que utilizaremos en el proyecto:"
      ],
      "metadata": {
        "id": "xI-XtppmUii6"
      }
    },
    {
      "cell_type": "code",
      "source": [
        "url_clientes = \"https://gist.githubusercontent.com/ahcamachod/d08898e1cc84c7271856e78d9558ca3d/raw/2f7e1fa53711efe6433a5c5ec79948f600591cb9/clientes_zoop.csv\"\n",
        "url_ventas = \"https://gist.githubusercontent.com/ahcamachod/966d7162a3c3a2769b8770b35abf1bcc/raw/d79941b3fa46a450f3611589abd8663399c1277b/ventas_zoop.csv\""
      ],
      "metadata": {
        "id": "t6OFqAHOSOeJ"
      },
      "execution_count": 1,
      "outputs": []
    },
    {
      "cell_type": "markdown",
      "source": [
        "Después de esta etapa, vamos a crear 2 dataframes con los datos de los clientes y de las ventas de Zoop separadamente y realizar una pequeña verificación en las tablas extraídas."
      ],
      "metadata": {
        "id": "B6dG4mpIU1st"
      }
    },
    {
      "cell_type": "code",
      "source": [
        "import pandas as pd\n",
        "import warnings\n",
        "\n",
        "warnings.filterwarnings('ignore')"
      ],
      "metadata": {
        "id": "pKX3QMfJ-vsP"
      },
      "execution_count": 3,
      "outputs": []
    },
    {
      "cell_type": "code",
      "source": [
        "clientes = pd.read_csv(url_clientes)\n",
        "clientes.head()"
      ],
      "metadata": {
        "id": "yN2USgCt-vor",
        "colab": {
          "base_uri": "https://localhost:8080/",
          "height": 206
        },
        "outputId": "1bf8f03e-2623-4a71-9fea-4df30eb35e6c"
      },
      "execution_count": 5,
      "outputs": [
        {
          "output_type": "execute_result",
          "data": {
            "text/plain": [
              "   ID_compra  ID_cliente            ciudad            estado    region  edad  \\\n",
              "0        904        8972  Oaxaca de Juárez            Oaxaca       Sur    49   \n",
              "1       4613        5120  Ciudad de México  Ciudad de México    Centro    49   \n",
              "2       5579        1847  Ciudad de México  Ciudad de México    Centro    24   \n",
              "3       2405        2846  Ciudad de México  Ciudad de México    Centro    38   \n",
              "4       2485        2715         Chihuahua         Chihuahua  Noroeste    30   \n",
              "\n",
              "  sexo_biologico cashback  nota  \n",
              "0      Masculino       No     9  \n",
              "1       Femenino       No     9  \n",
              "2       Femenino       No     8  \n",
              "3       Femenino       Sí     7  \n",
              "4       Femenino       No    10  "
            ],
            "text/html": [
              "\n",
              "  <div id=\"df-018b03c4-6fd7-4f2b-90ff-9bc5898990fe\" class=\"colab-df-container\">\n",
              "    <div>\n",
              "<style scoped>\n",
              "    .dataframe tbody tr th:only-of-type {\n",
              "        vertical-align: middle;\n",
              "    }\n",
              "\n",
              "    .dataframe tbody tr th {\n",
              "        vertical-align: top;\n",
              "    }\n",
              "\n",
              "    .dataframe thead th {\n",
              "        text-align: right;\n",
              "    }\n",
              "</style>\n",
              "<table border=\"1\" class=\"dataframe\">\n",
              "  <thead>\n",
              "    <tr style=\"text-align: right;\">\n",
              "      <th></th>\n",
              "      <th>ID_compra</th>\n",
              "      <th>ID_cliente</th>\n",
              "      <th>ciudad</th>\n",
              "      <th>estado</th>\n",
              "      <th>region</th>\n",
              "      <th>edad</th>\n",
              "      <th>sexo_biologico</th>\n",
              "      <th>cashback</th>\n",
              "      <th>nota</th>\n",
              "    </tr>\n",
              "  </thead>\n",
              "  <tbody>\n",
              "    <tr>\n",
              "      <th>0</th>\n",
              "      <td>904</td>\n",
              "      <td>8972</td>\n",
              "      <td>Oaxaca de Juárez</td>\n",
              "      <td>Oaxaca</td>\n",
              "      <td>Sur</td>\n",
              "      <td>49</td>\n",
              "      <td>Masculino</td>\n",
              "      <td>No</td>\n",
              "      <td>9</td>\n",
              "    </tr>\n",
              "    <tr>\n",
              "      <th>1</th>\n",
              "      <td>4613</td>\n",
              "      <td>5120</td>\n",
              "      <td>Ciudad de México</td>\n",
              "      <td>Ciudad de México</td>\n",
              "      <td>Centro</td>\n",
              "      <td>49</td>\n",
              "      <td>Femenino</td>\n",
              "      <td>No</td>\n",
              "      <td>9</td>\n",
              "    </tr>\n",
              "    <tr>\n",
              "      <th>2</th>\n",
              "      <td>5579</td>\n",
              "      <td>1847</td>\n",
              "      <td>Ciudad de México</td>\n",
              "      <td>Ciudad de México</td>\n",
              "      <td>Centro</td>\n",
              "      <td>24</td>\n",
              "      <td>Femenino</td>\n",
              "      <td>No</td>\n",
              "      <td>8</td>\n",
              "    </tr>\n",
              "    <tr>\n",
              "      <th>3</th>\n",
              "      <td>2405</td>\n",
              "      <td>2846</td>\n",
              "      <td>Ciudad de México</td>\n",
              "      <td>Ciudad de México</td>\n",
              "      <td>Centro</td>\n",
              "      <td>38</td>\n",
              "      <td>Femenino</td>\n",
              "      <td>Sí</td>\n",
              "      <td>7</td>\n",
              "    </tr>\n",
              "    <tr>\n",
              "      <th>4</th>\n",
              "      <td>2485</td>\n",
              "      <td>2715</td>\n",
              "      <td>Chihuahua</td>\n",
              "      <td>Chihuahua</td>\n",
              "      <td>Noroeste</td>\n",
              "      <td>30</td>\n",
              "      <td>Femenino</td>\n",
              "      <td>No</td>\n",
              "      <td>10</td>\n",
              "    </tr>\n",
              "  </tbody>\n",
              "</table>\n",
              "</div>\n",
              "    <div class=\"colab-df-buttons\">\n",
              "\n",
              "  <div class=\"colab-df-container\">\n",
              "    <button class=\"colab-df-convert\" onclick=\"convertToInteractive('df-018b03c4-6fd7-4f2b-90ff-9bc5898990fe')\"\n",
              "            title=\"Convert this dataframe to an interactive table.\"\n",
              "            style=\"display:none;\">\n",
              "\n",
              "  <svg xmlns=\"http://www.w3.org/2000/svg\" height=\"24px\" viewBox=\"0 -960 960 960\">\n",
              "    <path d=\"M120-120v-720h720v720H120Zm60-500h600v-160H180v160Zm220 220h160v-160H400v160Zm0 220h160v-160H400v160ZM180-400h160v-160H180v160Zm440 0h160v-160H620v160ZM180-180h160v-160H180v160Zm440 0h160v-160H620v160Z\"/>\n",
              "  </svg>\n",
              "    </button>\n",
              "\n",
              "  <style>\n",
              "    .colab-df-container {\n",
              "      display:flex;\n",
              "      gap: 12px;\n",
              "    }\n",
              "\n",
              "    .colab-df-convert {\n",
              "      background-color: #E8F0FE;\n",
              "      border: none;\n",
              "      border-radius: 50%;\n",
              "      cursor: pointer;\n",
              "      display: none;\n",
              "      fill: #1967D2;\n",
              "      height: 32px;\n",
              "      padding: 0 0 0 0;\n",
              "      width: 32px;\n",
              "    }\n",
              "\n",
              "    .colab-df-convert:hover {\n",
              "      background-color: #E2EBFA;\n",
              "      box-shadow: 0px 1px 2px rgba(60, 64, 67, 0.3), 0px 1px 3px 1px rgba(60, 64, 67, 0.15);\n",
              "      fill: #174EA6;\n",
              "    }\n",
              "\n",
              "    .colab-df-buttons div {\n",
              "      margin-bottom: 4px;\n",
              "    }\n",
              "\n",
              "    [theme=dark] .colab-df-convert {\n",
              "      background-color: #3B4455;\n",
              "      fill: #D2E3FC;\n",
              "    }\n",
              "\n",
              "    [theme=dark] .colab-df-convert:hover {\n",
              "      background-color: #434B5C;\n",
              "      box-shadow: 0px 1px 3px 1px rgba(0, 0, 0, 0.15);\n",
              "      filter: drop-shadow(0px 1px 2px rgba(0, 0, 0, 0.3));\n",
              "      fill: #FFFFFF;\n",
              "    }\n",
              "  </style>\n",
              "\n",
              "    <script>\n",
              "      const buttonEl =\n",
              "        document.querySelector('#df-018b03c4-6fd7-4f2b-90ff-9bc5898990fe button.colab-df-convert');\n",
              "      buttonEl.style.display =\n",
              "        google.colab.kernel.accessAllowed ? 'block' : 'none';\n",
              "\n",
              "      async function convertToInteractive(key) {\n",
              "        const element = document.querySelector('#df-018b03c4-6fd7-4f2b-90ff-9bc5898990fe');\n",
              "        const dataTable =\n",
              "          await google.colab.kernel.invokeFunction('convertToInteractive',\n",
              "                                                    [key], {});\n",
              "        if (!dataTable) return;\n",
              "\n",
              "        const docLinkHtml = 'Like what you see? Visit the ' +\n",
              "          '<a target=\"_blank\" href=https://colab.research.google.com/notebooks/data_table.ipynb>data table notebook</a>'\n",
              "          + ' to learn more about interactive tables.';\n",
              "        element.innerHTML = '';\n",
              "        dataTable['output_type'] = 'display_data';\n",
              "        await google.colab.output.renderOutput(dataTable, element);\n",
              "        const docLink = document.createElement('div');\n",
              "        docLink.innerHTML = docLinkHtml;\n",
              "        element.appendChild(docLink);\n",
              "      }\n",
              "    </script>\n",
              "  </div>\n",
              "\n",
              "\n",
              "    <div id=\"df-b1442450-54ab-4733-97bd-4d4217b7c0d7\">\n",
              "      <button class=\"colab-df-quickchart\" onclick=\"quickchart('df-b1442450-54ab-4733-97bd-4d4217b7c0d7')\"\n",
              "                title=\"Suggest charts\"\n",
              "                style=\"display:none;\">\n",
              "\n",
              "<svg xmlns=\"http://www.w3.org/2000/svg\" height=\"24px\"viewBox=\"0 0 24 24\"\n",
              "     width=\"24px\">\n",
              "    <g>\n",
              "        <path d=\"M19 3H5c-1.1 0-2 .9-2 2v14c0 1.1.9 2 2 2h14c1.1 0 2-.9 2-2V5c0-1.1-.9-2-2-2zM9 17H7v-7h2v7zm4 0h-2V7h2v10zm4 0h-2v-4h2v4z\"/>\n",
              "    </g>\n",
              "</svg>\n",
              "      </button>\n",
              "\n",
              "<style>\n",
              "  .colab-df-quickchart {\n",
              "      --bg-color: #E8F0FE;\n",
              "      --fill-color: #1967D2;\n",
              "      --hover-bg-color: #E2EBFA;\n",
              "      --hover-fill-color: #174EA6;\n",
              "      --disabled-fill-color: #AAA;\n",
              "      --disabled-bg-color: #DDD;\n",
              "  }\n",
              "\n",
              "  [theme=dark] .colab-df-quickchart {\n",
              "      --bg-color: #3B4455;\n",
              "      --fill-color: #D2E3FC;\n",
              "      --hover-bg-color: #434B5C;\n",
              "      --hover-fill-color: #FFFFFF;\n",
              "      --disabled-bg-color: #3B4455;\n",
              "      --disabled-fill-color: #666;\n",
              "  }\n",
              "\n",
              "  .colab-df-quickchart {\n",
              "    background-color: var(--bg-color);\n",
              "    border: none;\n",
              "    border-radius: 50%;\n",
              "    cursor: pointer;\n",
              "    display: none;\n",
              "    fill: var(--fill-color);\n",
              "    height: 32px;\n",
              "    padding: 0;\n",
              "    width: 32px;\n",
              "  }\n",
              "\n",
              "  .colab-df-quickchart:hover {\n",
              "    background-color: var(--hover-bg-color);\n",
              "    box-shadow: 0 1px 2px rgba(60, 64, 67, 0.3), 0 1px 3px 1px rgba(60, 64, 67, 0.15);\n",
              "    fill: var(--button-hover-fill-color);\n",
              "  }\n",
              "\n",
              "  .colab-df-quickchart-complete:disabled,\n",
              "  .colab-df-quickchart-complete:disabled:hover {\n",
              "    background-color: var(--disabled-bg-color);\n",
              "    fill: var(--disabled-fill-color);\n",
              "    box-shadow: none;\n",
              "  }\n",
              "\n",
              "  .colab-df-spinner {\n",
              "    border: 2px solid var(--fill-color);\n",
              "    border-color: transparent;\n",
              "    border-bottom-color: var(--fill-color);\n",
              "    animation:\n",
              "      spin 1s steps(1) infinite;\n",
              "  }\n",
              "\n",
              "  @keyframes spin {\n",
              "    0% {\n",
              "      border-color: transparent;\n",
              "      border-bottom-color: var(--fill-color);\n",
              "      border-left-color: var(--fill-color);\n",
              "    }\n",
              "    20% {\n",
              "      border-color: transparent;\n",
              "      border-left-color: var(--fill-color);\n",
              "      border-top-color: var(--fill-color);\n",
              "    }\n",
              "    30% {\n",
              "      border-color: transparent;\n",
              "      border-left-color: var(--fill-color);\n",
              "      border-top-color: var(--fill-color);\n",
              "      border-right-color: var(--fill-color);\n",
              "    }\n",
              "    40% {\n",
              "      border-color: transparent;\n",
              "      border-right-color: var(--fill-color);\n",
              "      border-top-color: var(--fill-color);\n",
              "    }\n",
              "    60% {\n",
              "      border-color: transparent;\n",
              "      border-right-color: var(--fill-color);\n",
              "    }\n",
              "    80% {\n",
              "      border-color: transparent;\n",
              "      border-right-color: var(--fill-color);\n",
              "      border-bottom-color: var(--fill-color);\n",
              "    }\n",
              "    90% {\n",
              "      border-color: transparent;\n",
              "      border-bottom-color: var(--fill-color);\n",
              "    }\n",
              "  }\n",
              "</style>\n",
              "\n",
              "      <script>\n",
              "        async function quickchart(key) {\n",
              "          const quickchartButtonEl =\n",
              "            document.querySelector('#' + key + ' button');\n",
              "          quickchartButtonEl.disabled = true;  // To prevent multiple clicks.\n",
              "          quickchartButtonEl.classList.add('colab-df-spinner');\n",
              "          try {\n",
              "            const charts = await google.colab.kernel.invokeFunction(\n",
              "                'suggestCharts', [key], {});\n",
              "          } catch (error) {\n",
              "            console.error('Error during call to suggestCharts:', error);\n",
              "          }\n",
              "          quickchartButtonEl.classList.remove('colab-df-spinner');\n",
              "          quickchartButtonEl.classList.add('colab-df-quickchart-complete');\n",
              "        }\n",
              "        (() => {\n",
              "          let quickchartButtonEl =\n",
              "            document.querySelector('#df-b1442450-54ab-4733-97bd-4d4217b7c0d7 button');\n",
              "          quickchartButtonEl.style.display =\n",
              "            google.colab.kernel.accessAllowed ? 'block' : 'none';\n",
              "        })();\n",
              "      </script>\n",
              "    </div>\n",
              "\n",
              "    </div>\n",
              "  </div>\n"
            ],
            "application/vnd.google.colaboratory.intrinsic+json": {
              "type": "dataframe",
              "variable_name": "clientes",
              "summary": "{\n  \"name\": \"clientes\",\n  \"rows\": 6169,\n  \"fields\": [\n    {\n      \"column\": \"ID_compra\",\n      \"properties\": {\n        \"dtype\": \"number\",\n        \"std\": 1780,\n        \"min\": 1,\n        \"max\": 6169,\n        \"num_unique_values\": 6169,\n        \"samples\": [\n          1418,\n          5069,\n          64\n        ],\n        \"semantic_type\": \"\",\n        \"description\": \"\"\n      }\n    },\n    {\n      \"column\": \"ID_cliente\",\n      \"properties\": {\n        \"dtype\": \"number\",\n        \"std\": 2610,\n        \"min\": 1005,\n        \"max\": 9999,\n        \"num_unique_values\": 4453,\n        \"samples\": [\n          5545,\n          1982,\n          6905\n        ],\n        \"semantic_type\": \"\",\n        \"description\": \"\"\n      }\n    },\n    {\n      \"column\": \"ciudad\",\n      \"properties\": {\n        \"dtype\": \"category\",\n        \"num_unique_values\": 94,\n        \"samples\": [\n          \"Tizimin\",\n          \"Tuxtla Guti\\u00e9rrez\",\n          \"Coacalco de Berrioz\\u00e1bal\"\n        ],\n        \"semantic_type\": \"\",\n        \"description\": \"\"\n      }\n    },\n    {\n      \"column\": \"estado\",\n      \"properties\": {\n        \"dtype\": \"category\",\n        \"num_unique_values\": 28,\n        \"samples\": [\n          \"Veracruz\",\n          \"Campeche\",\n          \"Estado de M\\u00e9xico\"\n        ],\n        \"semantic_type\": \"\",\n        \"description\": \"\"\n      }\n    },\n    {\n      \"column\": \"region\",\n      \"properties\": {\n        \"dtype\": \"category\",\n        \"num_unique_values\": 9,\n        \"samples\": [\n          \"Centro-Norte\",\n          \"Centro\",\n          \"Centro-Sur\"\n        ],\n        \"semantic_type\": \"\",\n        \"description\": \"\"\n      }\n    },\n    {\n      \"column\": \"edad\",\n      \"properties\": {\n        \"dtype\": \"number\",\n        \"std\": 9,\n        \"min\": 18,\n        \"max\": 70,\n        \"num_unique_values\": 53,\n        \"samples\": [\n          45,\n          57,\n          66\n        ],\n        \"semantic_type\": \"\",\n        \"description\": \"\"\n      }\n    },\n    {\n      \"column\": \"sexo_biologico\",\n      \"properties\": {\n        \"dtype\": \"category\",\n        \"num_unique_values\": 2,\n        \"samples\": [\n          \"Femenino\",\n          \"Masculino\"\n        ],\n        \"semantic_type\": \"\",\n        \"description\": \"\"\n      }\n    },\n    {\n      \"column\": \"cashback\",\n      \"properties\": {\n        \"dtype\": \"category\",\n        \"num_unique_values\": 2,\n        \"samples\": [\n          \"S\\u00ed\",\n          \"No\"\n        ],\n        \"semantic_type\": \"\",\n        \"description\": \"\"\n      }\n    },\n    {\n      \"column\": \"nota\",\n      \"properties\": {\n        \"dtype\": \"number\",\n        \"std\": 1,\n        \"min\": 0,\n        \"max\": 10,\n        \"num_unique_values\": 11,\n        \"samples\": [\n          4,\n          9\n        ],\n        \"semantic_type\": \"\",\n        \"description\": \"\"\n      }\n    }\n  ]\n}"
            }
          },
          "metadata": {},
          "execution_count": 5
        }
      ]
    },
    {
      "cell_type": "code",
      "source": [
        "ventas = pd.read_csv(url_ventas)"
      ],
      "metadata": {
        "id": "TP7FS5Va-vl6"
      },
      "execution_count": 6,
      "outputs": []
    },
    {
      "cell_type": "code",
      "source": [
        "ventas.tail()"
      ],
      "metadata": {
        "id": "ssCTn_Em-xp6",
        "colab": {
          "base_uri": "https://localhost:8080/",
          "height": 206
        },
        "outputId": "dfc128d1-2320-4a35-b1c9-dfb4ab1689ce"
      },
      "execution_count": 8,
      "outputs": [
        {
          "output_type": "execute_result",
          "data": {
            "text/plain": [
              "      ID_compra       fecha horario            categoria  precio_unitario  \\\n",
              "6164       6141  2023-12-31   17:49    Electrodomésticos           1509.9   \n",
              "6165       6148  2023-12-31   23:02  Papelería y oficina             14.0   \n",
              "6166       6123  2023-12-31   21:25  Alimentos y bebidas             77.9   \n",
              "6167       6147  2023-12-31   21:38               Libros            142.9   \n",
              "6168       6122  2023-12-31   22:11    Belleza e higiene             89.9   \n",
              "\n",
              "      cantidad   envio         metodo_pago  \n",
              "6164         5  377.48  Tarjeta de Crédito  \n",
              "6165         2    3.36       Transferencia  \n",
              "6166         1    7.79  Tarjeta de Crédito  \n",
              "6167         4   17.15  Tarjeta de Crédito  \n",
              "6168         5   13.48  Tarjeta de Crédito  "
            ],
            "text/html": [
              "\n",
              "  <div id=\"df-ebfacf62-6497-4be4-8024-fd166efb33e8\" class=\"colab-df-container\">\n",
              "    <div>\n",
              "<style scoped>\n",
              "    .dataframe tbody tr th:only-of-type {\n",
              "        vertical-align: middle;\n",
              "    }\n",
              "\n",
              "    .dataframe tbody tr th {\n",
              "        vertical-align: top;\n",
              "    }\n",
              "\n",
              "    .dataframe thead th {\n",
              "        text-align: right;\n",
              "    }\n",
              "</style>\n",
              "<table border=\"1\" class=\"dataframe\">\n",
              "  <thead>\n",
              "    <tr style=\"text-align: right;\">\n",
              "      <th></th>\n",
              "      <th>ID_compra</th>\n",
              "      <th>fecha</th>\n",
              "      <th>horario</th>\n",
              "      <th>categoria</th>\n",
              "      <th>precio_unitario</th>\n",
              "      <th>cantidad</th>\n",
              "      <th>envio</th>\n",
              "      <th>metodo_pago</th>\n",
              "    </tr>\n",
              "  </thead>\n",
              "  <tbody>\n",
              "    <tr>\n",
              "      <th>6164</th>\n",
              "      <td>6141</td>\n",
              "      <td>2023-12-31</td>\n",
              "      <td>17:49</td>\n",
              "      <td>Electrodomésticos</td>\n",
              "      <td>1509.9</td>\n",
              "      <td>5</td>\n",
              "      <td>377.48</td>\n",
              "      <td>Tarjeta de Crédito</td>\n",
              "    </tr>\n",
              "    <tr>\n",
              "      <th>6165</th>\n",
              "      <td>6148</td>\n",
              "      <td>2023-12-31</td>\n",
              "      <td>23:02</td>\n",
              "      <td>Papelería y oficina</td>\n",
              "      <td>14.0</td>\n",
              "      <td>2</td>\n",
              "      <td>3.36</td>\n",
              "      <td>Transferencia</td>\n",
              "    </tr>\n",
              "    <tr>\n",
              "      <th>6166</th>\n",
              "      <td>6123</td>\n",
              "      <td>2023-12-31</td>\n",
              "      <td>21:25</td>\n",
              "      <td>Alimentos y bebidas</td>\n",
              "      <td>77.9</td>\n",
              "      <td>1</td>\n",
              "      <td>7.79</td>\n",
              "      <td>Tarjeta de Crédito</td>\n",
              "    </tr>\n",
              "    <tr>\n",
              "      <th>6167</th>\n",
              "      <td>6147</td>\n",
              "      <td>2023-12-31</td>\n",
              "      <td>21:38</td>\n",
              "      <td>Libros</td>\n",
              "      <td>142.9</td>\n",
              "      <td>4</td>\n",
              "      <td>17.15</td>\n",
              "      <td>Tarjeta de Crédito</td>\n",
              "    </tr>\n",
              "    <tr>\n",
              "      <th>6168</th>\n",
              "      <td>6122</td>\n",
              "      <td>2023-12-31</td>\n",
              "      <td>22:11</td>\n",
              "      <td>Belleza e higiene</td>\n",
              "      <td>89.9</td>\n",
              "      <td>5</td>\n",
              "      <td>13.48</td>\n",
              "      <td>Tarjeta de Crédito</td>\n",
              "    </tr>\n",
              "  </tbody>\n",
              "</table>\n",
              "</div>\n",
              "    <div class=\"colab-df-buttons\">\n",
              "\n",
              "  <div class=\"colab-df-container\">\n",
              "    <button class=\"colab-df-convert\" onclick=\"convertToInteractive('df-ebfacf62-6497-4be4-8024-fd166efb33e8')\"\n",
              "            title=\"Convert this dataframe to an interactive table.\"\n",
              "            style=\"display:none;\">\n",
              "\n",
              "  <svg xmlns=\"http://www.w3.org/2000/svg\" height=\"24px\" viewBox=\"0 -960 960 960\">\n",
              "    <path d=\"M120-120v-720h720v720H120Zm60-500h600v-160H180v160Zm220 220h160v-160H400v160Zm0 220h160v-160H400v160ZM180-400h160v-160H180v160Zm440 0h160v-160H620v160ZM180-180h160v-160H180v160Zm440 0h160v-160H620v160Z\"/>\n",
              "  </svg>\n",
              "    </button>\n",
              "\n",
              "  <style>\n",
              "    .colab-df-container {\n",
              "      display:flex;\n",
              "      gap: 12px;\n",
              "    }\n",
              "\n",
              "    .colab-df-convert {\n",
              "      background-color: #E8F0FE;\n",
              "      border: none;\n",
              "      border-radius: 50%;\n",
              "      cursor: pointer;\n",
              "      display: none;\n",
              "      fill: #1967D2;\n",
              "      height: 32px;\n",
              "      padding: 0 0 0 0;\n",
              "      width: 32px;\n",
              "    }\n",
              "\n",
              "    .colab-df-convert:hover {\n",
              "      background-color: #E2EBFA;\n",
              "      box-shadow: 0px 1px 2px rgba(60, 64, 67, 0.3), 0px 1px 3px 1px rgba(60, 64, 67, 0.15);\n",
              "      fill: #174EA6;\n",
              "    }\n",
              "\n",
              "    .colab-df-buttons div {\n",
              "      margin-bottom: 4px;\n",
              "    }\n",
              "\n",
              "    [theme=dark] .colab-df-convert {\n",
              "      background-color: #3B4455;\n",
              "      fill: #D2E3FC;\n",
              "    }\n",
              "\n",
              "    [theme=dark] .colab-df-convert:hover {\n",
              "      background-color: #434B5C;\n",
              "      box-shadow: 0px 1px 3px 1px rgba(0, 0, 0, 0.15);\n",
              "      filter: drop-shadow(0px 1px 2px rgba(0, 0, 0, 0.3));\n",
              "      fill: #FFFFFF;\n",
              "    }\n",
              "  </style>\n",
              "\n",
              "    <script>\n",
              "      const buttonEl =\n",
              "        document.querySelector('#df-ebfacf62-6497-4be4-8024-fd166efb33e8 button.colab-df-convert');\n",
              "      buttonEl.style.display =\n",
              "        google.colab.kernel.accessAllowed ? 'block' : 'none';\n",
              "\n",
              "      async function convertToInteractive(key) {\n",
              "        const element = document.querySelector('#df-ebfacf62-6497-4be4-8024-fd166efb33e8');\n",
              "        const dataTable =\n",
              "          await google.colab.kernel.invokeFunction('convertToInteractive',\n",
              "                                                    [key], {});\n",
              "        if (!dataTable) return;\n",
              "\n",
              "        const docLinkHtml = 'Like what you see? Visit the ' +\n",
              "          '<a target=\"_blank\" href=https://colab.research.google.com/notebooks/data_table.ipynb>data table notebook</a>'\n",
              "          + ' to learn more about interactive tables.';\n",
              "        element.innerHTML = '';\n",
              "        dataTable['output_type'] = 'display_data';\n",
              "        await google.colab.output.renderOutput(dataTable, element);\n",
              "        const docLink = document.createElement('div');\n",
              "        docLink.innerHTML = docLinkHtml;\n",
              "        element.appendChild(docLink);\n",
              "      }\n",
              "    </script>\n",
              "  </div>\n",
              "\n",
              "\n",
              "    <div id=\"df-793239b7-7fba-4d5f-b6e2-9bcf6e27c7ef\">\n",
              "      <button class=\"colab-df-quickchart\" onclick=\"quickchart('df-793239b7-7fba-4d5f-b6e2-9bcf6e27c7ef')\"\n",
              "                title=\"Suggest charts\"\n",
              "                style=\"display:none;\">\n",
              "\n",
              "<svg xmlns=\"http://www.w3.org/2000/svg\" height=\"24px\"viewBox=\"0 0 24 24\"\n",
              "     width=\"24px\">\n",
              "    <g>\n",
              "        <path d=\"M19 3H5c-1.1 0-2 .9-2 2v14c0 1.1.9 2 2 2h14c1.1 0 2-.9 2-2V5c0-1.1-.9-2-2-2zM9 17H7v-7h2v7zm4 0h-2V7h2v10zm4 0h-2v-4h2v4z\"/>\n",
              "    </g>\n",
              "</svg>\n",
              "      </button>\n",
              "\n",
              "<style>\n",
              "  .colab-df-quickchart {\n",
              "      --bg-color: #E8F0FE;\n",
              "      --fill-color: #1967D2;\n",
              "      --hover-bg-color: #E2EBFA;\n",
              "      --hover-fill-color: #174EA6;\n",
              "      --disabled-fill-color: #AAA;\n",
              "      --disabled-bg-color: #DDD;\n",
              "  }\n",
              "\n",
              "  [theme=dark] .colab-df-quickchart {\n",
              "      --bg-color: #3B4455;\n",
              "      --fill-color: #D2E3FC;\n",
              "      --hover-bg-color: #434B5C;\n",
              "      --hover-fill-color: #FFFFFF;\n",
              "      --disabled-bg-color: #3B4455;\n",
              "      --disabled-fill-color: #666;\n",
              "  }\n",
              "\n",
              "  .colab-df-quickchart {\n",
              "    background-color: var(--bg-color);\n",
              "    border: none;\n",
              "    border-radius: 50%;\n",
              "    cursor: pointer;\n",
              "    display: none;\n",
              "    fill: var(--fill-color);\n",
              "    height: 32px;\n",
              "    padding: 0;\n",
              "    width: 32px;\n",
              "  }\n",
              "\n",
              "  .colab-df-quickchart:hover {\n",
              "    background-color: var(--hover-bg-color);\n",
              "    box-shadow: 0 1px 2px rgba(60, 64, 67, 0.3), 0 1px 3px 1px rgba(60, 64, 67, 0.15);\n",
              "    fill: var(--button-hover-fill-color);\n",
              "  }\n",
              "\n",
              "  .colab-df-quickchart-complete:disabled,\n",
              "  .colab-df-quickchart-complete:disabled:hover {\n",
              "    background-color: var(--disabled-bg-color);\n",
              "    fill: var(--disabled-fill-color);\n",
              "    box-shadow: none;\n",
              "  }\n",
              "\n",
              "  .colab-df-spinner {\n",
              "    border: 2px solid var(--fill-color);\n",
              "    border-color: transparent;\n",
              "    border-bottom-color: var(--fill-color);\n",
              "    animation:\n",
              "      spin 1s steps(1) infinite;\n",
              "  }\n",
              "\n",
              "  @keyframes spin {\n",
              "    0% {\n",
              "      border-color: transparent;\n",
              "      border-bottom-color: var(--fill-color);\n",
              "      border-left-color: var(--fill-color);\n",
              "    }\n",
              "    20% {\n",
              "      border-color: transparent;\n",
              "      border-left-color: var(--fill-color);\n",
              "      border-top-color: var(--fill-color);\n",
              "    }\n",
              "    30% {\n",
              "      border-color: transparent;\n",
              "      border-left-color: var(--fill-color);\n",
              "      border-top-color: var(--fill-color);\n",
              "      border-right-color: var(--fill-color);\n",
              "    }\n",
              "    40% {\n",
              "      border-color: transparent;\n",
              "      border-right-color: var(--fill-color);\n",
              "      border-top-color: var(--fill-color);\n",
              "    }\n",
              "    60% {\n",
              "      border-color: transparent;\n",
              "      border-right-color: var(--fill-color);\n",
              "    }\n",
              "    80% {\n",
              "      border-color: transparent;\n",
              "      border-right-color: var(--fill-color);\n",
              "      border-bottom-color: var(--fill-color);\n",
              "    }\n",
              "    90% {\n",
              "      border-color: transparent;\n",
              "      border-bottom-color: var(--fill-color);\n",
              "    }\n",
              "  }\n",
              "</style>\n",
              "\n",
              "      <script>\n",
              "        async function quickchart(key) {\n",
              "          const quickchartButtonEl =\n",
              "            document.querySelector('#' + key + ' button');\n",
              "          quickchartButtonEl.disabled = true;  // To prevent multiple clicks.\n",
              "          quickchartButtonEl.classList.add('colab-df-spinner');\n",
              "          try {\n",
              "            const charts = await google.colab.kernel.invokeFunction(\n",
              "                'suggestCharts', [key], {});\n",
              "          } catch (error) {\n",
              "            console.error('Error during call to suggestCharts:', error);\n",
              "          }\n",
              "          quickchartButtonEl.classList.remove('colab-df-spinner');\n",
              "          quickchartButtonEl.classList.add('colab-df-quickchart-complete');\n",
              "        }\n",
              "        (() => {\n",
              "          let quickchartButtonEl =\n",
              "            document.querySelector('#df-793239b7-7fba-4d5f-b6e2-9bcf6e27c7ef button');\n",
              "          quickchartButtonEl.style.display =\n",
              "            google.colab.kernel.accessAllowed ? 'block' : 'none';\n",
              "        })();\n",
              "      </script>\n",
              "    </div>\n",
              "\n",
              "    </div>\n",
              "  </div>\n"
            ],
            "application/vnd.google.colaboratory.intrinsic+json": {
              "type": "dataframe",
              "repr_error": "0"
            }
          },
          "metadata": {},
          "execution_count": 8
        }
      ]
    },
    {
      "cell_type": "markdown",
      "source": [
        "## **1.3 - Entendiendo los datos**\n",
        "\n",
        "---\n"
      ],
      "metadata": {
        "id": "sGD1TbXWimjs"
      }
    },
    {
      "cell_type": "markdown",
      "source": [
        "Ahora, vamos a explorar los datos comprendiendo lo que significan y cómo podemos relacionarlos en la construcción de las visualizaciones."
      ],
      "metadata": {
        "id": "_j0wSj0Rjkjn"
      }
    },
    {
      "cell_type": "markdown",
      "source": [
        "### **Base de clientes**"
      ],
      "metadata": {
        "id": "jQExeDtTkC4G"
      }
    },
    {
      "cell_type": "markdown",
      "source": [
        "> #### <strong><font color=\"7b71ff\" size =6>Prompt:</font></strong>\n",
        "\n",
        "Vamos a actuar como analistas de datos de una e-commerce. Recibimos dos bases de datos con los datos de los clientes y de las ventas en 2023, respectivamente.\n",
        "\n",
        "En este primer momento, vamos a explorar la base de clientes en formato de un DataFrame de pandas, llamado \"clientes\". Contiene datos de los clientes que realizaron compras en la tienda virtual, siendo estos: ID de la compra, ID del cliente, la ciudad, estado y región de la compra, edad, sexo biológico, si participan en el programa de cashback y la calificación, o nota, de la compra.\n",
        "\n",
        "Queremos hacer una breve exploración de los datos para comprender un poco sobre ellos. Recordando que los datos de esta base ya están limpios y tratados. Construye el código para ejecutar esta etapa utilizando Python con el objetivo de conocer mejor el dataframe \"clientes\" y algunos de sus atributos.\n",
        "\n",
        "No es necesario utilizar \"print()\" para mostrar el resultado de las consultas."
      ],
      "metadata": {
        "id": "VzsWSK91lIPb"
      }
    },
    {
      "cell_type": "code",
      "source": [
        "# Ver las primeras filas del DataFrame\n",
        "clientes.head()"
      ],
      "metadata": {
        "colab": {
          "base_uri": "https://localhost:8080/",
          "height": 206
        },
        "id": "Mw9GhyfaLatt",
        "outputId": "0c009f15-3c9b-407d-ca43-d4f34db039e0"
      },
      "execution_count": 10,
      "outputs": [
        {
          "output_type": "execute_result",
          "data": {
            "text/plain": [
              "   ID_compra  ID_cliente            ciudad            estado    region  edad  \\\n",
              "0        904        8972  Oaxaca de Juárez            Oaxaca       Sur    49   \n",
              "1       4613        5120  Ciudad de México  Ciudad de México    Centro    49   \n",
              "2       5579        1847  Ciudad de México  Ciudad de México    Centro    24   \n",
              "3       2405        2846  Ciudad de México  Ciudad de México    Centro    38   \n",
              "4       2485        2715         Chihuahua         Chihuahua  Noroeste    30   \n",
              "\n",
              "  sexo_biologico cashback  nota  \n",
              "0      Masculino       No     9  \n",
              "1       Femenino       No     9  \n",
              "2       Femenino       No     8  \n",
              "3       Femenino       Sí     7  \n",
              "4       Femenino       No    10  "
            ],
            "text/html": [
              "\n",
              "  <div id=\"df-90034471-905d-4549-b230-6b1a90933079\" class=\"colab-df-container\">\n",
              "    <div>\n",
              "<style scoped>\n",
              "    .dataframe tbody tr th:only-of-type {\n",
              "        vertical-align: middle;\n",
              "    }\n",
              "\n",
              "    .dataframe tbody tr th {\n",
              "        vertical-align: top;\n",
              "    }\n",
              "\n",
              "    .dataframe thead th {\n",
              "        text-align: right;\n",
              "    }\n",
              "</style>\n",
              "<table border=\"1\" class=\"dataframe\">\n",
              "  <thead>\n",
              "    <tr style=\"text-align: right;\">\n",
              "      <th></th>\n",
              "      <th>ID_compra</th>\n",
              "      <th>ID_cliente</th>\n",
              "      <th>ciudad</th>\n",
              "      <th>estado</th>\n",
              "      <th>region</th>\n",
              "      <th>edad</th>\n",
              "      <th>sexo_biologico</th>\n",
              "      <th>cashback</th>\n",
              "      <th>nota</th>\n",
              "    </tr>\n",
              "  </thead>\n",
              "  <tbody>\n",
              "    <tr>\n",
              "      <th>0</th>\n",
              "      <td>904</td>\n",
              "      <td>8972</td>\n",
              "      <td>Oaxaca de Juárez</td>\n",
              "      <td>Oaxaca</td>\n",
              "      <td>Sur</td>\n",
              "      <td>49</td>\n",
              "      <td>Masculino</td>\n",
              "      <td>No</td>\n",
              "      <td>9</td>\n",
              "    </tr>\n",
              "    <tr>\n",
              "      <th>1</th>\n",
              "      <td>4613</td>\n",
              "      <td>5120</td>\n",
              "      <td>Ciudad de México</td>\n",
              "      <td>Ciudad de México</td>\n",
              "      <td>Centro</td>\n",
              "      <td>49</td>\n",
              "      <td>Femenino</td>\n",
              "      <td>No</td>\n",
              "      <td>9</td>\n",
              "    </tr>\n",
              "    <tr>\n",
              "      <th>2</th>\n",
              "      <td>5579</td>\n",
              "      <td>1847</td>\n",
              "      <td>Ciudad de México</td>\n",
              "      <td>Ciudad de México</td>\n",
              "      <td>Centro</td>\n",
              "      <td>24</td>\n",
              "      <td>Femenino</td>\n",
              "      <td>No</td>\n",
              "      <td>8</td>\n",
              "    </tr>\n",
              "    <tr>\n",
              "      <th>3</th>\n",
              "      <td>2405</td>\n",
              "      <td>2846</td>\n",
              "      <td>Ciudad de México</td>\n",
              "      <td>Ciudad de México</td>\n",
              "      <td>Centro</td>\n",
              "      <td>38</td>\n",
              "      <td>Femenino</td>\n",
              "      <td>Sí</td>\n",
              "      <td>7</td>\n",
              "    </tr>\n",
              "    <tr>\n",
              "      <th>4</th>\n",
              "      <td>2485</td>\n",
              "      <td>2715</td>\n",
              "      <td>Chihuahua</td>\n",
              "      <td>Chihuahua</td>\n",
              "      <td>Noroeste</td>\n",
              "      <td>30</td>\n",
              "      <td>Femenino</td>\n",
              "      <td>No</td>\n",
              "      <td>10</td>\n",
              "    </tr>\n",
              "  </tbody>\n",
              "</table>\n",
              "</div>\n",
              "    <div class=\"colab-df-buttons\">\n",
              "\n",
              "  <div class=\"colab-df-container\">\n",
              "    <button class=\"colab-df-convert\" onclick=\"convertToInteractive('df-90034471-905d-4549-b230-6b1a90933079')\"\n",
              "            title=\"Convert this dataframe to an interactive table.\"\n",
              "            style=\"display:none;\">\n",
              "\n",
              "  <svg xmlns=\"http://www.w3.org/2000/svg\" height=\"24px\" viewBox=\"0 -960 960 960\">\n",
              "    <path d=\"M120-120v-720h720v720H120Zm60-500h600v-160H180v160Zm220 220h160v-160H400v160Zm0 220h160v-160H400v160ZM180-400h160v-160H180v160Zm440 0h160v-160H620v160ZM180-180h160v-160H180v160Zm440 0h160v-160H620v160Z\"/>\n",
              "  </svg>\n",
              "    </button>\n",
              "\n",
              "  <style>\n",
              "    .colab-df-container {\n",
              "      display:flex;\n",
              "      gap: 12px;\n",
              "    }\n",
              "\n",
              "    .colab-df-convert {\n",
              "      background-color: #E8F0FE;\n",
              "      border: none;\n",
              "      border-radius: 50%;\n",
              "      cursor: pointer;\n",
              "      display: none;\n",
              "      fill: #1967D2;\n",
              "      height: 32px;\n",
              "      padding: 0 0 0 0;\n",
              "      width: 32px;\n",
              "    }\n",
              "\n",
              "    .colab-df-convert:hover {\n",
              "      background-color: #E2EBFA;\n",
              "      box-shadow: 0px 1px 2px rgba(60, 64, 67, 0.3), 0px 1px 3px 1px rgba(60, 64, 67, 0.15);\n",
              "      fill: #174EA6;\n",
              "    }\n",
              "\n",
              "    .colab-df-buttons div {\n",
              "      margin-bottom: 4px;\n",
              "    }\n",
              "\n",
              "    [theme=dark] .colab-df-convert {\n",
              "      background-color: #3B4455;\n",
              "      fill: #D2E3FC;\n",
              "    }\n",
              "\n",
              "    [theme=dark] .colab-df-convert:hover {\n",
              "      background-color: #434B5C;\n",
              "      box-shadow: 0px 1px 3px 1px rgba(0, 0, 0, 0.15);\n",
              "      filter: drop-shadow(0px 1px 2px rgba(0, 0, 0, 0.3));\n",
              "      fill: #FFFFFF;\n",
              "    }\n",
              "  </style>\n",
              "\n",
              "    <script>\n",
              "      const buttonEl =\n",
              "        document.querySelector('#df-90034471-905d-4549-b230-6b1a90933079 button.colab-df-convert');\n",
              "      buttonEl.style.display =\n",
              "        google.colab.kernel.accessAllowed ? 'block' : 'none';\n",
              "\n",
              "      async function convertToInteractive(key) {\n",
              "        const element = document.querySelector('#df-90034471-905d-4549-b230-6b1a90933079');\n",
              "        const dataTable =\n",
              "          await google.colab.kernel.invokeFunction('convertToInteractive',\n",
              "                                                    [key], {});\n",
              "        if (!dataTable) return;\n",
              "\n",
              "        const docLinkHtml = 'Like what you see? Visit the ' +\n",
              "          '<a target=\"_blank\" href=https://colab.research.google.com/notebooks/data_table.ipynb>data table notebook</a>'\n",
              "          + ' to learn more about interactive tables.';\n",
              "        element.innerHTML = '';\n",
              "        dataTable['output_type'] = 'display_data';\n",
              "        await google.colab.output.renderOutput(dataTable, element);\n",
              "        const docLink = document.createElement('div');\n",
              "        docLink.innerHTML = docLinkHtml;\n",
              "        element.appendChild(docLink);\n",
              "      }\n",
              "    </script>\n",
              "  </div>\n",
              "\n",
              "\n",
              "    <div id=\"df-6ecc8bd2-2066-4170-88cd-ced659e2bf98\">\n",
              "      <button class=\"colab-df-quickchart\" onclick=\"quickchart('df-6ecc8bd2-2066-4170-88cd-ced659e2bf98')\"\n",
              "                title=\"Suggest charts\"\n",
              "                style=\"display:none;\">\n",
              "\n",
              "<svg xmlns=\"http://www.w3.org/2000/svg\" height=\"24px\"viewBox=\"0 0 24 24\"\n",
              "     width=\"24px\">\n",
              "    <g>\n",
              "        <path d=\"M19 3H5c-1.1 0-2 .9-2 2v14c0 1.1.9 2 2 2h14c1.1 0 2-.9 2-2V5c0-1.1-.9-2-2-2zM9 17H7v-7h2v7zm4 0h-2V7h2v10zm4 0h-2v-4h2v4z\"/>\n",
              "    </g>\n",
              "</svg>\n",
              "      </button>\n",
              "\n",
              "<style>\n",
              "  .colab-df-quickchart {\n",
              "      --bg-color: #E8F0FE;\n",
              "      --fill-color: #1967D2;\n",
              "      --hover-bg-color: #E2EBFA;\n",
              "      --hover-fill-color: #174EA6;\n",
              "      --disabled-fill-color: #AAA;\n",
              "      --disabled-bg-color: #DDD;\n",
              "  }\n",
              "\n",
              "  [theme=dark] .colab-df-quickchart {\n",
              "      --bg-color: #3B4455;\n",
              "      --fill-color: #D2E3FC;\n",
              "      --hover-bg-color: #434B5C;\n",
              "      --hover-fill-color: #FFFFFF;\n",
              "      --disabled-bg-color: #3B4455;\n",
              "      --disabled-fill-color: #666;\n",
              "  }\n",
              "\n",
              "  .colab-df-quickchart {\n",
              "    background-color: var(--bg-color);\n",
              "    border: none;\n",
              "    border-radius: 50%;\n",
              "    cursor: pointer;\n",
              "    display: none;\n",
              "    fill: var(--fill-color);\n",
              "    height: 32px;\n",
              "    padding: 0;\n",
              "    width: 32px;\n",
              "  }\n",
              "\n",
              "  .colab-df-quickchart:hover {\n",
              "    background-color: var(--hover-bg-color);\n",
              "    box-shadow: 0 1px 2px rgba(60, 64, 67, 0.3), 0 1px 3px 1px rgba(60, 64, 67, 0.15);\n",
              "    fill: var(--button-hover-fill-color);\n",
              "  }\n",
              "\n",
              "  .colab-df-quickchart-complete:disabled,\n",
              "  .colab-df-quickchart-complete:disabled:hover {\n",
              "    background-color: var(--disabled-bg-color);\n",
              "    fill: var(--disabled-fill-color);\n",
              "    box-shadow: none;\n",
              "  }\n",
              "\n",
              "  .colab-df-spinner {\n",
              "    border: 2px solid var(--fill-color);\n",
              "    border-color: transparent;\n",
              "    border-bottom-color: var(--fill-color);\n",
              "    animation:\n",
              "      spin 1s steps(1) infinite;\n",
              "  }\n",
              "\n",
              "  @keyframes spin {\n",
              "    0% {\n",
              "      border-color: transparent;\n",
              "      border-bottom-color: var(--fill-color);\n",
              "      border-left-color: var(--fill-color);\n",
              "    }\n",
              "    20% {\n",
              "      border-color: transparent;\n",
              "      border-left-color: var(--fill-color);\n",
              "      border-top-color: var(--fill-color);\n",
              "    }\n",
              "    30% {\n",
              "      border-color: transparent;\n",
              "      border-left-color: var(--fill-color);\n",
              "      border-top-color: var(--fill-color);\n",
              "      border-right-color: var(--fill-color);\n",
              "    }\n",
              "    40% {\n",
              "      border-color: transparent;\n",
              "      border-right-color: var(--fill-color);\n",
              "      border-top-color: var(--fill-color);\n",
              "    }\n",
              "    60% {\n",
              "      border-color: transparent;\n",
              "      border-right-color: var(--fill-color);\n",
              "    }\n",
              "    80% {\n",
              "      border-color: transparent;\n",
              "      border-right-color: var(--fill-color);\n",
              "      border-bottom-color: var(--fill-color);\n",
              "    }\n",
              "    90% {\n",
              "      border-color: transparent;\n",
              "      border-bottom-color: var(--fill-color);\n",
              "    }\n",
              "  }\n",
              "</style>\n",
              "\n",
              "      <script>\n",
              "        async function quickchart(key) {\n",
              "          const quickchartButtonEl =\n",
              "            document.querySelector('#' + key + ' button');\n",
              "          quickchartButtonEl.disabled = true;  // To prevent multiple clicks.\n",
              "          quickchartButtonEl.classList.add('colab-df-spinner');\n",
              "          try {\n",
              "            const charts = await google.colab.kernel.invokeFunction(\n",
              "                'suggestCharts', [key], {});\n",
              "          } catch (error) {\n",
              "            console.error('Error during call to suggestCharts:', error);\n",
              "          }\n",
              "          quickchartButtonEl.classList.remove('colab-df-spinner');\n",
              "          quickchartButtonEl.classList.add('colab-df-quickchart-complete');\n",
              "        }\n",
              "        (() => {\n",
              "          let quickchartButtonEl =\n",
              "            document.querySelector('#df-6ecc8bd2-2066-4170-88cd-ced659e2bf98 button');\n",
              "          quickchartButtonEl.style.display =\n",
              "            google.colab.kernel.accessAllowed ? 'block' : 'none';\n",
              "        })();\n",
              "      </script>\n",
              "    </div>\n",
              "\n",
              "    </div>\n",
              "  </div>\n"
            ],
            "application/vnd.google.colaboratory.intrinsic+json": {
              "type": "dataframe",
              "variable_name": "clientes",
              "summary": "{\n  \"name\": \"clientes\",\n  \"rows\": 6169,\n  \"fields\": [\n    {\n      \"column\": \"ID_compra\",\n      \"properties\": {\n        \"dtype\": \"number\",\n        \"std\": 1780,\n        \"min\": 1,\n        \"max\": 6169,\n        \"num_unique_values\": 6169,\n        \"samples\": [\n          1418,\n          5069,\n          64\n        ],\n        \"semantic_type\": \"\",\n        \"description\": \"\"\n      }\n    },\n    {\n      \"column\": \"ID_cliente\",\n      \"properties\": {\n        \"dtype\": \"number\",\n        \"std\": 2610,\n        \"min\": 1005,\n        \"max\": 9999,\n        \"num_unique_values\": 4453,\n        \"samples\": [\n          5545,\n          1982,\n          6905\n        ],\n        \"semantic_type\": \"\",\n        \"description\": \"\"\n      }\n    },\n    {\n      \"column\": \"ciudad\",\n      \"properties\": {\n        \"dtype\": \"category\",\n        \"num_unique_values\": 94,\n        \"samples\": [\n          \"Tizimin\",\n          \"Tuxtla Guti\\u00e9rrez\",\n          \"Coacalco de Berrioz\\u00e1bal\"\n        ],\n        \"semantic_type\": \"\",\n        \"description\": \"\"\n      }\n    },\n    {\n      \"column\": \"estado\",\n      \"properties\": {\n        \"dtype\": \"category\",\n        \"num_unique_values\": 28,\n        \"samples\": [\n          \"Veracruz\",\n          \"Campeche\",\n          \"Estado de M\\u00e9xico\"\n        ],\n        \"semantic_type\": \"\",\n        \"description\": \"\"\n      }\n    },\n    {\n      \"column\": \"region\",\n      \"properties\": {\n        \"dtype\": \"category\",\n        \"num_unique_values\": 9,\n        \"samples\": [\n          \"Centro-Norte\",\n          \"Centro\",\n          \"Centro-Sur\"\n        ],\n        \"semantic_type\": \"\",\n        \"description\": \"\"\n      }\n    },\n    {\n      \"column\": \"edad\",\n      \"properties\": {\n        \"dtype\": \"number\",\n        \"std\": 9,\n        \"min\": 18,\n        \"max\": 70,\n        \"num_unique_values\": 53,\n        \"samples\": [\n          45,\n          57,\n          66\n        ],\n        \"semantic_type\": \"\",\n        \"description\": \"\"\n      }\n    },\n    {\n      \"column\": \"sexo_biologico\",\n      \"properties\": {\n        \"dtype\": \"category\",\n        \"num_unique_values\": 2,\n        \"samples\": [\n          \"Femenino\",\n          \"Masculino\"\n        ],\n        \"semantic_type\": \"\",\n        \"description\": \"\"\n      }\n    },\n    {\n      \"column\": \"cashback\",\n      \"properties\": {\n        \"dtype\": \"category\",\n        \"num_unique_values\": 2,\n        \"samples\": [\n          \"S\\u00ed\",\n          \"No\"\n        ],\n        \"semantic_type\": \"\",\n        \"description\": \"\"\n      }\n    },\n    {\n      \"column\": \"nota\",\n      \"properties\": {\n        \"dtype\": \"number\",\n        \"std\": 1,\n        \"min\": 0,\n        \"max\": 10,\n        \"num_unique_values\": 11,\n        \"samples\": [\n          4,\n          9\n        ],\n        \"semantic_type\": \"\",\n        \"description\": \"\"\n      }\n    }\n  ]\n}"
            }
          },
          "metadata": {},
          "execution_count": 10
        }
      ]
    },
    {
      "cell_type": "code",
      "source": [
        "# Dimensiones del DataFrame\n",
        "clientes.shape"
      ],
      "metadata": {
        "colab": {
          "base_uri": "https://localhost:8080/"
        },
        "id": "FMe9yR8rMHls",
        "outputId": "90fd2a04-f290-4f07-a35b-c49020a4c925"
      },
      "execution_count": 11,
      "outputs": [
        {
          "output_type": "execute_result",
          "data": {
            "text/plain": [
              "(6169, 9)"
            ]
          },
          "metadata": {},
          "execution_count": 11
        }
      ]
    },
    {
      "cell_type": "code",
      "source": [
        "# Información general: columnas, tipo de datos, non-null\n",
        "clientes.info()"
      ],
      "metadata": {
        "colab": {
          "base_uri": "https://localhost:8080/"
        },
        "id": "Xqok0B5yMLsN",
        "outputId": "047cd7f2-8ee3-4008-b4d6-af88ea8c7fb3"
      },
      "execution_count": 12,
      "outputs": [
        {
          "output_type": "stream",
          "name": "stdout",
          "text": [
            "<class 'pandas.core.frame.DataFrame'>\n",
            "RangeIndex: 6169 entries, 0 to 6168\n",
            "Data columns (total 9 columns):\n",
            " #   Column          Non-Null Count  Dtype \n",
            "---  ------          --------------  ----- \n",
            " 0   ID_compra       6169 non-null   int64 \n",
            " 1   ID_cliente      6169 non-null   int64 \n",
            " 2   ciudad          6169 non-null   object\n",
            " 3   estado          6169 non-null   object\n",
            " 4   region          6169 non-null   object\n",
            " 5   edad            6169 non-null   int64 \n",
            " 6   sexo_biologico  6169 non-null   object\n",
            " 7   cashback        6169 non-null   object\n",
            " 8   nota            6169 non-null   int64 \n",
            "dtypes: int64(4), object(5)\n",
            "memory usage: 433.9+ KB\n"
          ]
        }
      ]
    },
    {
      "cell_type": "code",
      "source": [
        "# Estadísticas descriptivas para columnas numéricas\n",
        "clientes.describe()"
      ],
      "metadata": {
        "colab": {
          "base_uri": "https://localhost:8080/",
          "height": 300
        },
        "id": "SxSgxBB3MNuD",
        "outputId": "65e92d4b-7d8e-4b8e-dfcf-c8ef3a55a149"
      },
      "execution_count": 13,
      "outputs": [
        {
          "output_type": "execute_result",
          "data": {
            "text/plain": [
              "         ID_compra   ID_cliente         edad         nota\n",
              "count  6169.000000  6169.000000  6169.000000  6169.000000\n",
              "mean   3085.000000  5461.475280    38.260010     8.443670\n",
              "std    1780.981237  2610.959977     9.838951     1.730584\n",
              "min       1.000000  1005.000000    18.000000     0.000000\n",
              "25%    1543.000000  3148.000000    31.000000     8.000000\n",
              "50%    3085.000000  5436.000000    38.000000     9.000000\n",
              "75%    4627.000000  7748.000000    45.000000     9.000000\n",
              "max    6169.000000  9999.000000    70.000000    10.000000"
            ],
            "text/html": [
              "\n",
              "  <div id=\"df-ca54a26a-9d69-4452-80d0-c2e438516df5\" class=\"colab-df-container\">\n",
              "    <div>\n",
              "<style scoped>\n",
              "    .dataframe tbody tr th:only-of-type {\n",
              "        vertical-align: middle;\n",
              "    }\n",
              "\n",
              "    .dataframe tbody tr th {\n",
              "        vertical-align: top;\n",
              "    }\n",
              "\n",
              "    .dataframe thead th {\n",
              "        text-align: right;\n",
              "    }\n",
              "</style>\n",
              "<table border=\"1\" class=\"dataframe\">\n",
              "  <thead>\n",
              "    <tr style=\"text-align: right;\">\n",
              "      <th></th>\n",
              "      <th>ID_compra</th>\n",
              "      <th>ID_cliente</th>\n",
              "      <th>edad</th>\n",
              "      <th>nota</th>\n",
              "    </tr>\n",
              "  </thead>\n",
              "  <tbody>\n",
              "    <tr>\n",
              "      <th>count</th>\n",
              "      <td>6169.000000</td>\n",
              "      <td>6169.000000</td>\n",
              "      <td>6169.000000</td>\n",
              "      <td>6169.000000</td>\n",
              "    </tr>\n",
              "    <tr>\n",
              "      <th>mean</th>\n",
              "      <td>3085.000000</td>\n",
              "      <td>5461.475280</td>\n",
              "      <td>38.260010</td>\n",
              "      <td>8.443670</td>\n",
              "    </tr>\n",
              "    <tr>\n",
              "      <th>std</th>\n",
              "      <td>1780.981237</td>\n",
              "      <td>2610.959977</td>\n",
              "      <td>9.838951</td>\n",
              "      <td>1.730584</td>\n",
              "    </tr>\n",
              "    <tr>\n",
              "      <th>min</th>\n",
              "      <td>1.000000</td>\n",
              "      <td>1005.000000</td>\n",
              "      <td>18.000000</td>\n",
              "      <td>0.000000</td>\n",
              "    </tr>\n",
              "    <tr>\n",
              "      <th>25%</th>\n",
              "      <td>1543.000000</td>\n",
              "      <td>3148.000000</td>\n",
              "      <td>31.000000</td>\n",
              "      <td>8.000000</td>\n",
              "    </tr>\n",
              "    <tr>\n",
              "      <th>50%</th>\n",
              "      <td>3085.000000</td>\n",
              "      <td>5436.000000</td>\n",
              "      <td>38.000000</td>\n",
              "      <td>9.000000</td>\n",
              "    </tr>\n",
              "    <tr>\n",
              "      <th>75%</th>\n",
              "      <td>4627.000000</td>\n",
              "      <td>7748.000000</td>\n",
              "      <td>45.000000</td>\n",
              "      <td>9.000000</td>\n",
              "    </tr>\n",
              "    <tr>\n",
              "      <th>max</th>\n",
              "      <td>6169.000000</td>\n",
              "      <td>9999.000000</td>\n",
              "      <td>70.000000</td>\n",
              "      <td>10.000000</td>\n",
              "    </tr>\n",
              "  </tbody>\n",
              "</table>\n",
              "</div>\n",
              "    <div class=\"colab-df-buttons\">\n",
              "\n",
              "  <div class=\"colab-df-container\">\n",
              "    <button class=\"colab-df-convert\" onclick=\"convertToInteractive('df-ca54a26a-9d69-4452-80d0-c2e438516df5')\"\n",
              "            title=\"Convert this dataframe to an interactive table.\"\n",
              "            style=\"display:none;\">\n",
              "\n",
              "  <svg xmlns=\"http://www.w3.org/2000/svg\" height=\"24px\" viewBox=\"0 -960 960 960\">\n",
              "    <path d=\"M120-120v-720h720v720H120Zm60-500h600v-160H180v160Zm220 220h160v-160H400v160Zm0 220h160v-160H400v160ZM180-400h160v-160H180v160Zm440 0h160v-160H620v160ZM180-180h160v-160H180v160Zm440 0h160v-160H620v160Z\"/>\n",
              "  </svg>\n",
              "    </button>\n",
              "\n",
              "  <style>\n",
              "    .colab-df-container {\n",
              "      display:flex;\n",
              "      gap: 12px;\n",
              "    }\n",
              "\n",
              "    .colab-df-convert {\n",
              "      background-color: #E8F0FE;\n",
              "      border: none;\n",
              "      border-radius: 50%;\n",
              "      cursor: pointer;\n",
              "      display: none;\n",
              "      fill: #1967D2;\n",
              "      height: 32px;\n",
              "      padding: 0 0 0 0;\n",
              "      width: 32px;\n",
              "    }\n",
              "\n",
              "    .colab-df-convert:hover {\n",
              "      background-color: #E2EBFA;\n",
              "      box-shadow: 0px 1px 2px rgba(60, 64, 67, 0.3), 0px 1px 3px 1px rgba(60, 64, 67, 0.15);\n",
              "      fill: #174EA6;\n",
              "    }\n",
              "\n",
              "    .colab-df-buttons div {\n",
              "      margin-bottom: 4px;\n",
              "    }\n",
              "\n",
              "    [theme=dark] .colab-df-convert {\n",
              "      background-color: #3B4455;\n",
              "      fill: #D2E3FC;\n",
              "    }\n",
              "\n",
              "    [theme=dark] .colab-df-convert:hover {\n",
              "      background-color: #434B5C;\n",
              "      box-shadow: 0px 1px 3px 1px rgba(0, 0, 0, 0.15);\n",
              "      filter: drop-shadow(0px 1px 2px rgba(0, 0, 0, 0.3));\n",
              "      fill: #FFFFFF;\n",
              "    }\n",
              "  </style>\n",
              "\n",
              "    <script>\n",
              "      const buttonEl =\n",
              "        document.querySelector('#df-ca54a26a-9d69-4452-80d0-c2e438516df5 button.colab-df-convert');\n",
              "      buttonEl.style.display =\n",
              "        google.colab.kernel.accessAllowed ? 'block' : 'none';\n",
              "\n",
              "      async function convertToInteractive(key) {\n",
              "        const element = document.querySelector('#df-ca54a26a-9d69-4452-80d0-c2e438516df5');\n",
              "        const dataTable =\n",
              "          await google.colab.kernel.invokeFunction('convertToInteractive',\n",
              "                                                    [key], {});\n",
              "        if (!dataTable) return;\n",
              "\n",
              "        const docLinkHtml = 'Like what you see? Visit the ' +\n",
              "          '<a target=\"_blank\" href=https://colab.research.google.com/notebooks/data_table.ipynb>data table notebook</a>'\n",
              "          + ' to learn more about interactive tables.';\n",
              "        element.innerHTML = '';\n",
              "        dataTable['output_type'] = 'display_data';\n",
              "        await google.colab.output.renderOutput(dataTable, element);\n",
              "        const docLink = document.createElement('div');\n",
              "        docLink.innerHTML = docLinkHtml;\n",
              "        element.appendChild(docLink);\n",
              "      }\n",
              "    </script>\n",
              "  </div>\n",
              "\n",
              "\n",
              "    <div id=\"df-46838b2e-f445-4166-99fb-760fe7a8ae68\">\n",
              "      <button class=\"colab-df-quickchart\" onclick=\"quickchart('df-46838b2e-f445-4166-99fb-760fe7a8ae68')\"\n",
              "                title=\"Suggest charts\"\n",
              "                style=\"display:none;\">\n",
              "\n",
              "<svg xmlns=\"http://www.w3.org/2000/svg\" height=\"24px\"viewBox=\"0 0 24 24\"\n",
              "     width=\"24px\">\n",
              "    <g>\n",
              "        <path d=\"M19 3H5c-1.1 0-2 .9-2 2v14c0 1.1.9 2 2 2h14c1.1 0 2-.9 2-2V5c0-1.1-.9-2-2-2zM9 17H7v-7h2v7zm4 0h-2V7h2v10zm4 0h-2v-4h2v4z\"/>\n",
              "    </g>\n",
              "</svg>\n",
              "      </button>\n",
              "\n",
              "<style>\n",
              "  .colab-df-quickchart {\n",
              "      --bg-color: #E8F0FE;\n",
              "      --fill-color: #1967D2;\n",
              "      --hover-bg-color: #E2EBFA;\n",
              "      --hover-fill-color: #174EA6;\n",
              "      --disabled-fill-color: #AAA;\n",
              "      --disabled-bg-color: #DDD;\n",
              "  }\n",
              "\n",
              "  [theme=dark] .colab-df-quickchart {\n",
              "      --bg-color: #3B4455;\n",
              "      --fill-color: #D2E3FC;\n",
              "      --hover-bg-color: #434B5C;\n",
              "      --hover-fill-color: #FFFFFF;\n",
              "      --disabled-bg-color: #3B4455;\n",
              "      --disabled-fill-color: #666;\n",
              "  }\n",
              "\n",
              "  .colab-df-quickchart {\n",
              "    background-color: var(--bg-color);\n",
              "    border: none;\n",
              "    border-radius: 50%;\n",
              "    cursor: pointer;\n",
              "    display: none;\n",
              "    fill: var(--fill-color);\n",
              "    height: 32px;\n",
              "    padding: 0;\n",
              "    width: 32px;\n",
              "  }\n",
              "\n",
              "  .colab-df-quickchart:hover {\n",
              "    background-color: var(--hover-bg-color);\n",
              "    box-shadow: 0 1px 2px rgba(60, 64, 67, 0.3), 0 1px 3px 1px rgba(60, 64, 67, 0.15);\n",
              "    fill: var(--button-hover-fill-color);\n",
              "  }\n",
              "\n",
              "  .colab-df-quickchart-complete:disabled,\n",
              "  .colab-df-quickchart-complete:disabled:hover {\n",
              "    background-color: var(--disabled-bg-color);\n",
              "    fill: var(--disabled-fill-color);\n",
              "    box-shadow: none;\n",
              "  }\n",
              "\n",
              "  .colab-df-spinner {\n",
              "    border: 2px solid var(--fill-color);\n",
              "    border-color: transparent;\n",
              "    border-bottom-color: var(--fill-color);\n",
              "    animation:\n",
              "      spin 1s steps(1) infinite;\n",
              "  }\n",
              "\n",
              "  @keyframes spin {\n",
              "    0% {\n",
              "      border-color: transparent;\n",
              "      border-bottom-color: var(--fill-color);\n",
              "      border-left-color: var(--fill-color);\n",
              "    }\n",
              "    20% {\n",
              "      border-color: transparent;\n",
              "      border-left-color: var(--fill-color);\n",
              "      border-top-color: var(--fill-color);\n",
              "    }\n",
              "    30% {\n",
              "      border-color: transparent;\n",
              "      border-left-color: var(--fill-color);\n",
              "      border-top-color: var(--fill-color);\n",
              "      border-right-color: var(--fill-color);\n",
              "    }\n",
              "    40% {\n",
              "      border-color: transparent;\n",
              "      border-right-color: var(--fill-color);\n",
              "      border-top-color: var(--fill-color);\n",
              "    }\n",
              "    60% {\n",
              "      border-color: transparent;\n",
              "      border-right-color: var(--fill-color);\n",
              "    }\n",
              "    80% {\n",
              "      border-color: transparent;\n",
              "      border-right-color: var(--fill-color);\n",
              "      border-bottom-color: var(--fill-color);\n",
              "    }\n",
              "    90% {\n",
              "      border-color: transparent;\n",
              "      border-bottom-color: var(--fill-color);\n",
              "    }\n",
              "  }\n",
              "</style>\n",
              "\n",
              "      <script>\n",
              "        async function quickchart(key) {\n",
              "          const quickchartButtonEl =\n",
              "            document.querySelector('#' + key + ' button');\n",
              "          quickchartButtonEl.disabled = true;  // To prevent multiple clicks.\n",
              "          quickchartButtonEl.classList.add('colab-df-spinner');\n",
              "          try {\n",
              "            const charts = await google.colab.kernel.invokeFunction(\n",
              "                'suggestCharts', [key], {});\n",
              "          } catch (error) {\n",
              "            console.error('Error during call to suggestCharts:', error);\n",
              "          }\n",
              "          quickchartButtonEl.classList.remove('colab-df-spinner');\n",
              "          quickchartButtonEl.classList.add('colab-df-quickchart-complete');\n",
              "        }\n",
              "        (() => {\n",
              "          let quickchartButtonEl =\n",
              "            document.querySelector('#df-46838b2e-f445-4166-99fb-760fe7a8ae68 button');\n",
              "          quickchartButtonEl.style.display =\n",
              "            google.colab.kernel.accessAllowed ? 'block' : 'none';\n",
              "        })();\n",
              "      </script>\n",
              "    </div>\n",
              "\n",
              "    </div>\n",
              "  </div>\n"
            ],
            "application/vnd.google.colaboratory.intrinsic+json": {
              "type": "dataframe",
              "summary": "{\n  \"name\": \"clientes\",\n  \"rows\": 8,\n  \"fields\": [\n    {\n      \"column\": \"ID_compra\",\n      \"properties\": {\n        \"dtype\": \"number\",\n        \"std\": 2223.0326545909456,\n        \"min\": 1.0,\n        \"max\": 6169.0,\n        \"num_unique_values\": 6,\n        \"samples\": [\n          6169.0,\n          3085.0,\n          4627.0\n        ],\n        \"semantic_type\": \"\",\n        \"description\": \"\"\n      }\n    },\n    {\n      \"column\": \"ID_cliente\",\n      \"properties\": {\n        \"dtype\": \"number\",\n        \"std\": 2905.598657730617,\n        \"min\": 1005.0,\n        \"max\": 9999.0,\n        \"num_unique_values\": 8,\n        \"samples\": [\n          5461.475279623926,\n          5436.0,\n          6169.0\n        ],\n        \"semantic_type\": \"\",\n        \"description\": \"\"\n      }\n    },\n    {\n      \"column\": \"edad\",\n      \"properties\": {\n        \"dtype\": \"number\",\n        \"std\": 2168.514030397997,\n        \"min\": 9.838950760885592,\n        \"max\": 6169.0,\n        \"num_unique_values\": 8,\n        \"samples\": [\n          38.2600097260496,\n          38.0,\n          6169.0\n        ],\n        \"semantic_type\": \"\",\n        \"description\": \"\"\n      }\n    },\n    {\n      \"column\": \"nota\",\n      \"properties\": {\n        \"dtype\": \"number\",\n        \"std\": 2178.74185235415,\n        \"min\": 0.0,\n        \"max\": 6169.0,\n        \"num_unique_values\": 7,\n        \"samples\": [\n          6169.0,\n          8.44366996271681,\n          9.0\n        ],\n        \"semantic_type\": \"\",\n        \"description\": \"\"\n      }\n    }\n  ]\n}"
            }
          },
          "metadata": {},
          "execution_count": 13
        }
      ]
    },
    {
      "cell_type": "code",
      "source": [
        "# Estadísticas para columnas categóricas\n",
        "clientes.describe(include='object')"
      ],
      "metadata": {
        "colab": {
          "base_uri": "https://localhost:8080/",
          "height": 174
        },
        "id": "rDyerHPXMSMU",
        "outputId": "5f06b98c-329a-422f-c91b-aa68c5bb0171"
      },
      "execution_count": 14,
      "outputs": [
        {
          "output_type": "execute_result",
          "data": {
            "text/plain": [
              "                  ciudad            estado  region sexo_biologico cashback\n",
              "count               6169              6169    6169           6169     6169\n",
              "unique                94                28       9              2        2\n",
              "top     Ciudad de México  Estado de México  Centro       Femenino       No\n",
              "freq                 458              1042    1540           3371     3557"
            ],
            "text/html": [
              "\n",
              "  <div id=\"df-e7f770cf-55b0-4df5-b8db-15e26cde6857\" class=\"colab-df-container\">\n",
              "    <div>\n",
              "<style scoped>\n",
              "    .dataframe tbody tr th:only-of-type {\n",
              "        vertical-align: middle;\n",
              "    }\n",
              "\n",
              "    .dataframe tbody tr th {\n",
              "        vertical-align: top;\n",
              "    }\n",
              "\n",
              "    .dataframe thead th {\n",
              "        text-align: right;\n",
              "    }\n",
              "</style>\n",
              "<table border=\"1\" class=\"dataframe\">\n",
              "  <thead>\n",
              "    <tr style=\"text-align: right;\">\n",
              "      <th></th>\n",
              "      <th>ciudad</th>\n",
              "      <th>estado</th>\n",
              "      <th>region</th>\n",
              "      <th>sexo_biologico</th>\n",
              "      <th>cashback</th>\n",
              "    </tr>\n",
              "  </thead>\n",
              "  <tbody>\n",
              "    <tr>\n",
              "      <th>count</th>\n",
              "      <td>6169</td>\n",
              "      <td>6169</td>\n",
              "      <td>6169</td>\n",
              "      <td>6169</td>\n",
              "      <td>6169</td>\n",
              "    </tr>\n",
              "    <tr>\n",
              "      <th>unique</th>\n",
              "      <td>94</td>\n",
              "      <td>28</td>\n",
              "      <td>9</td>\n",
              "      <td>2</td>\n",
              "      <td>2</td>\n",
              "    </tr>\n",
              "    <tr>\n",
              "      <th>top</th>\n",
              "      <td>Ciudad de México</td>\n",
              "      <td>Estado de México</td>\n",
              "      <td>Centro</td>\n",
              "      <td>Femenino</td>\n",
              "      <td>No</td>\n",
              "    </tr>\n",
              "    <tr>\n",
              "      <th>freq</th>\n",
              "      <td>458</td>\n",
              "      <td>1042</td>\n",
              "      <td>1540</td>\n",
              "      <td>3371</td>\n",
              "      <td>3557</td>\n",
              "    </tr>\n",
              "  </tbody>\n",
              "</table>\n",
              "</div>\n",
              "    <div class=\"colab-df-buttons\">\n",
              "\n",
              "  <div class=\"colab-df-container\">\n",
              "    <button class=\"colab-df-convert\" onclick=\"convertToInteractive('df-e7f770cf-55b0-4df5-b8db-15e26cde6857')\"\n",
              "            title=\"Convert this dataframe to an interactive table.\"\n",
              "            style=\"display:none;\">\n",
              "\n",
              "  <svg xmlns=\"http://www.w3.org/2000/svg\" height=\"24px\" viewBox=\"0 -960 960 960\">\n",
              "    <path d=\"M120-120v-720h720v720H120Zm60-500h600v-160H180v160Zm220 220h160v-160H400v160Zm0 220h160v-160H400v160ZM180-400h160v-160H180v160Zm440 0h160v-160H620v160ZM180-180h160v-160H180v160Zm440 0h160v-160H620v160Z\"/>\n",
              "  </svg>\n",
              "    </button>\n",
              "\n",
              "  <style>\n",
              "    .colab-df-container {\n",
              "      display:flex;\n",
              "      gap: 12px;\n",
              "    }\n",
              "\n",
              "    .colab-df-convert {\n",
              "      background-color: #E8F0FE;\n",
              "      border: none;\n",
              "      border-radius: 50%;\n",
              "      cursor: pointer;\n",
              "      display: none;\n",
              "      fill: #1967D2;\n",
              "      height: 32px;\n",
              "      padding: 0 0 0 0;\n",
              "      width: 32px;\n",
              "    }\n",
              "\n",
              "    .colab-df-convert:hover {\n",
              "      background-color: #E2EBFA;\n",
              "      box-shadow: 0px 1px 2px rgba(60, 64, 67, 0.3), 0px 1px 3px 1px rgba(60, 64, 67, 0.15);\n",
              "      fill: #174EA6;\n",
              "    }\n",
              "\n",
              "    .colab-df-buttons div {\n",
              "      margin-bottom: 4px;\n",
              "    }\n",
              "\n",
              "    [theme=dark] .colab-df-convert {\n",
              "      background-color: #3B4455;\n",
              "      fill: #D2E3FC;\n",
              "    }\n",
              "\n",
              "    [theme=dark] .colab-df-convert:hover {\n",
              "      background-color: #434B5C;\n",
              "      box-shadow: 0px 1px 3px 1px rgba(0, 0, 0, 0.15);\n",
              "      filter: drop-shadow(0px 1px 2px rgba(0, 0, 0, 0.3));\n",
              "      fill: #FFFFFF;\n",
              "    }\n",
              "  </style>\n",
              "\n",
              "    <script>\n",
              "      const buttonEl =\n",
              "        document.querySelector('#df-e7f770cf-55b0-4df5-b8db-15e26cde6857 button.colab-df-convert');\n",
              "      buttonEl.style.display =\n",
              "        google.colab.kernel.accessAllowed ? 'block' : 'none';\n",
              "\n",
              "      async function convertToInteractive(key) {\n",
              "        const element = document.querySelector('#df-e7f770cf-55b0-4df5-b8db-15e26cde6857');\n",
              "        const dataTable =\n",
              "          await google.colab.kernel.invokeFunction('convertToInteractive',\n",
              "                                                    [key], {});\n",
              "        if (!dataTable) return;\n",
              "\n",
              "        const docLinkHtml = 'Like what you see? Visit the ' +\n",
              "          '<a target=\"_blank\" href=https://colab.research.google.com/notebooks/data_table.ipynb>data table notebook</a>'\n",
              "          + ' to learn more about interactive tables.';\n",
              "        element.innerHTML = '';\n",
              "        dataTable['output_type'] = 'display_data';\n",
              "        await google.colab.output.renderOutput(dataTable, element);\n",
              "        const docLink = document.createElement('div');\n",
              "        docLink.innerHTML = docLinkHtml;\n",
              "        element.appendChild(docLink);\n",
              "      }\n",
              "    </script>\n",
              "  </div>\n",
              "\n",
              "\n",
              "    <div id=\"df-cdf68689-385c-4ef4-aa48-27b9a00531a5\">\n",
              "      <button class=\"colab-df-quickchart\" onclick=\"quickchart('df-cdf68689-385c-4ef4-aa48-27b9a00531a5')\"\n",
              "                title=\"Suggest charts\"\n",
              "                style=\"display:none;\">\n",
              "\n",
              "<svg xmlns=\"http://www.w3.org/2000/svg\" height=\"24px\"viewBox=\"0 0 24 24\"\n",
              "     width=\"24px\">\n",
              "    <g>\n",
              "        <path d=\"M19 3H5c-1.1 0-2 .9-2 2v14c0 1.1.9 2 2 2h14c1.1 0 2-.9 2-2V5c0-1.1-.9-2-2-2zM9 17H7v-7h2v7zm4 0h-2V7h2v10zm4 0h-2v-4h2v4z\"/>\n",
              "    </g>\n",
              "</svg>\n",
              "      </button>\n",
              "\n",
              "<style>\n",
              "  .colab-df-quickchart {\n",
              "      --bg-color: #E8F0FE;\n",
              "      --fill-color: #1967D2;\n",
              "      --hover-bg-color: #E2EBFA;\n",
              "      --hover-fill-color: #174EA6;\n",
              "      --disabled-fill-color: #AAA;\n",
              "      --disabled-bg-color: #DDD;\n",
              "  }\n",
              "\n",
              "  [theme=dark] .colab-df-quickchart {\n",
              "      --bg-color: #3B4455;\n",
              "      --fill-color: #D2E3FC;\n",
              "      --hover-bg-color: #434B5C;\n",
              "      --hover-fill-color: #FFFFFF;\n",
              "      --disabled-bg-color: #3B4455;\n",
              "      --disabled-fill-color: #666;\n",
              "  }\n",
              "\n",
              "  .colab-df-quickchart {\n",
              "    background-color: var(--bg-color);\n",
              "    border: none;\n",
              "    border-radius: 50%;\n",
              "    cursor: pointer;\n",
              "    display: none;\n",
              "    fill: var(--fill-color);\n",
              "    height: 32px;\n",
              "    padding: 0;\n",
              "    width: 32px;\n",
              "  }\n",
              "\n",
              "  .colab-df-quickchart:hover {\n",
              "    background-color: var(--hover-bg-color);\n",
              "    box-shadow: 0 1px 2px rgba(60, 64, 67, 0.3), 0 1px 3px 1px rgba(60, 64, 67, 0.15);\n",
              "    fill: var(--button-hover-fill-color);\n",
              "  }\n",
              "\n",
              "  .colab-df-quickchart-complete:disabled,\n",
              "  .colab-df-quickchart-complete:disabled:hover {\n",
              "    background-color: var(--disabled-bg-color);\n",
              "    fill: var(--disabled-fill-color);\n",
              "    box-shadow: none;\n",
              "  }\n",
              "\n",
              "  .colab-df-spinner {\n",
              "    border: 2px solid var(--fill-color);\n",
              "    border-color: transparent;\n",
              "    border-bottom-color: var(--fill-color);\n",
              "    animation:\n",
              "      spin 1s steps(1) infinite;\n",
              "  }\n",
              "\n",
              "  @keyframes spin {\n",
              "    0% {\n",
              "      border-color: transparent;\n",
              "      border-bottom-color: var(--fill-color);\n",
              "      border-left-color: var(--fill-color);\n",
              "    }\n",
              "    20% {\n",
              "      border-color: transparent;\n",
              "      border-left-color: var(--fill-color);\n",
              "      border-top-color: var(--fill-color);\n",
              "    }\n",
              "    30% {\n",
              "      border-color: transparent;\n",
              "      border-left-color: var(--fill-color);\n",
              "      border-top-color: var(--fill-color);\n",
              "      border-right-color: var(--fill-color);\n",
              "    }\n",
              "    40% {\n",
              "      border-color: transparent;\n",
              "      border-right-color: var(--fill-color);\n",
              "      border-top-color: var(--fill-color);\n",
              "    }\n",
              "    60% {\n",
              "      border-color: transparent;\n",
              "      border-right-color: var(--fill-color);\n",
              "    }\n",
              "    80% {\n",
              "      border-color: transparent;\n",
              "      border-right-color: var(--fill-color);\n",
              "      border-bottom-color: var(--fill-color);\n",
              "    }\n",
              "    90% {\n",
              "      border-color: transparent;\n",
              "      border-bottom-color: var(--fill-color);\n",
              "    }\n",
              "  }\n",
              "</style>\n",
              "\n",
              "      <script>\n",
              "        async function quickchart(key) {\n",
              "          const quickchartButtonEl =\n",
              "            document.querySelector('#' + key + ' button');\n",
              "          quickchartButtonEl.disabled = true;  // To prevent multiple clicks.\n",
              "          quickchartButtonEl.classList.add('colab-df-spinner');\n",
              "          try {\n",
              "            const charts = await google.colab.kernel.invokeFunction(\n",
              "                'suggestCharts', [key], {});\n",
              "          } catch (error) {\n",
              "            console.error('Error during call to suggestCharts:', error);\n",
              "          }\n",
              "          quickchartButtonEl.classList.remove('colab-df-spinner');\n",
              "          quickchartButtonEl.classList.add('colab-df-quickchart-complete');\n",
              "        }\n",
              "        (() => {\n",
              "          let quickchartButtonEl =\n",
              "            document.querySelector('#df-cdf68689-385c-4ef4-aa48-27b9a00531a5 button');\n",
              "          quickchartButtonEl.style.display =\n",
              "            google.colab.kernel.accessAllowed ? 'block' : 'none';\n",
              "        })();\n",
              "      </script>\n",
              "    </div>\n",
              "\n",
              "    </div>\n",
              "  </div>\n"
            ],
            "application/vnd.google.colaboratory.intrinsic+json": {
              "type": "dataframe",
              "summary": "{\n  \"name\": \"clientes\",\n  \"rows\": 4,\n  \"fields\": [\n    {\n      \"column\": \"ciudad\",\n      \"properties\": {\n        \"dtype\": \"string\",\n        \"num_unique_values\": 4,\n        \"samples\": [\n          94,\n          \"458\",\n          \"6169\"\n        ],\n        \"semantic_type\": \"\",\n        \"description\": \"\"\n      }\n    },\n    {\n      \"column\": \"estado\",\n      \"properties\": {\n        \"dtype\": \"string\",\n        \"num_unique_values\": 4,\n        \"samples\": [\n          28,\n          \"1042\",\n          \"6169\"\n        ],\n        \"semantic_type\": \"\",\n        \"description\": \"\"\n      }\n    },\n    {\n      \"column\": \"region\",\n      \"properties\": {\n        \"dtype\": \"string\",\n        \"num_unique_values\": 4,\n        \"samples\": [\n          9,\n          \"1540\",\n          \"6169\"\n        ],\n        \"semantic_type\": \"\",\n        \"description\": \"\"\n      }\n    },\n    {\n      \"column\": \"sexo_biologico\",\n      \"properties\": {\n        \"dtype\": \"string\",\n        \"num_unique_values\": 4,\n        \"samples\": [\n          2,\n          \"3371\",\n          \"6169\"\n        ],\n        \"semantic_type\": \"\",\n        \"description\": \"\"\n      }\n    },\n    {\n      \"column\": \"cashback\",\n      \"properties\": {\n        \"dtype\": \"string\",\n        \"num_unique_values\": 4,\n        \"samples\": [\n          2,\n          \"3557\",\n          \"6169\"\n        ],\n        \"semantic_type\": \"\",\n        \"description\": \"\"\n      }\n    }\n  ]\n}"
            }
          },
          "metadata": {},
          "execution_count": 14
        }
      ]
    },
    {
      "cell_type": "code",
      "source": [
        "# Verificar si hay valores únicos en algunas columnas clave\n",
        "clientes['ID_compra'].nunique(), clientes['ID_cliente'].nunique()"
      ],
      "metadata": {
        "colab": {
          "base_uri": "https://localhost:8080/"
        },
        "id": "hHmeRrCIMUBr",
        "outputId": "ddc876f6-0655-42ef-a3ad-5025048d77ce"
      },
      "execution_count": 15,
      "outputs": [
        {
          "output_type": "execute_result",
          "data": {
            "text/plain": [
              "(6169, 4453)"
            ]
          },
          "metadata": {},
          "execution_count": 15
        }
      ]
    },
    {
      "cell_type": "code",
      "source": [
        "# Distribución por sexo biológico\n",
        "clientes['sexo_biologico'].value_counts()"
      ],
      "metadata": {
        "colab": {
          "base_uri": "https://localhost:8080/",
          "height": 178
        },
        "id": "_FI4jRDwMXNx",
        "outputId": "b5e6770e-f374-4442-f814-d1ee06d5ec49"
      },
      "execution_count": 16,
      "outputs": [
        {
          "output_type": "execute_result",
          "data": {
            "text/plain": [
              "sexo_biologico\n",
              "Femenino     3371\n",
              "Masculino    2798\n",
              "Name: count, dtype: int64"
            ],
            "text/html": [
              "<div>\n",
              "<style scoped>\n",
              "    .dataframe tbody tr th:only-of-type {\n",
              "        vertical-align: middle;\n",
              "    }\n",
              "\n",
              "    .dataframe tbody tr th {\n",
              "        vertical-align: top;\n",
              "    }\n",
              "\n",
              "    .dataframe thead th {\n",
              "        text-align: right;\n",
              "    }\n",
              "</style>\n",
              "<table border=\"1\" class=\"dataframe\">\n",
              "  <thead>\n",
              "    <tr style=\"text-align: right;\">\n",
              "      <th></th>\n",
              "      <th>count</th>\n",
              "    </tr>\n",
              "    <tr>\n",
              "      <th>sexo_biologico</th>\n",
              "      <th></th>\n",
              "    </tr>\n",
              "  </thead>\n",
              "  <tbody>\n",
              "    <tr>\n",
              "      <th>Femenino</th>\n",
              "      <td>3371</td>\n",
              "    </tr>\n",
              "    <tr>\n",
              "      <th>Masculino</th>\n",
              "      <td>2798</td>\n",
              "    </tr>\n",
              "  </tbody>\n",
              "</table>\n",
              "</div><br><label><b>dtype:</b> int64</label>"
            ]
          },
          "metadata": {},
          "execution_count": 16
        }
      ]
    },
    {
      "cell_type": "code",
      "source": [
        "# Distribución por región\n",
        "clientes['region'].value_counts()"
      ],
      "metadata": {
        "colab": {
          "base_uri": "https://localhost:8080/",
          "height": 397
        },
        "id": "L7msLhTQMaHz",
        "outputId": "5b6da604-077b-4262-ea28-b993a4732648"
      },
      "execution_count": 17,
      "outputs": [
        {
          "output_type": "execute_result",
          "data": {
            "text/plain": [
              "region\n",
              "Centro          1540\n",
              "Noroeste        1276\n",
              "Noreste          907\n",
              "Occidente        556\n",
              "Centro-Norte     533\n",
              "Golfo            411\n",
              "Centro-Sur       383\n",
              "Sur              284\n",
              "Sureste          279\n",
              "Name: count, dtype: int64"
            ],
            "text/html": [
              "<div>\n",
              "<style scoped>\n",
              "    .dataframe tbody tr th:only-of-type {\n",
              "        vertical-align: middle;\n",
              "    }\n",
              "\n",
              "    .dataframe tbody tr th {\n",
              "        vertical-align: top;\n",
              "    }\n",
              "\n",
              "    .dataframe thead th {\n",
              "        text-align: right;\n",
              "    }\n",
              "</style>\n",
              "<table border=\"1\" class=\"dataframe\">\n",
              "  <thead>\n",
              "    <tr style=\"text-align: right;\">\n",
              "      <th></th>\n",
              "      <th>count</th>\n",
              "    </tr>\n",
              "    <tr>\n",
              "      <th>region</th>\n",
              "      <th></th>\n",
              "    </tr>\n",
              "  </thead>\n",
              "  <tbody>\n",
              "    <tr>\n",
              "      <th>Centro</th>\n",
              "      <td>1540</td>\n",
              "    </tr>\n",
              "    <tr>\n",
              "      <th>Noroeste</th>\n",
              "      <td>1276</td>\n",
              "    </tr>\n",
              "    <tr>\n",
              "      <th>Noreste</th>\n",
              "      <td>907</td>\n",
              "    </tr>\n",
              "    <tr>\n",
              "      <th>Occidente</th>\n",
              "      <td>556</td>\n",
              "    </tr>\n",
              "    <tr>\n",
              "      <th>Centro-Norte</th>\n",
              "      <td>533</td>\n",
              "    </tr>\n",
              "    <tr>\n",
              "      <th>Golfo</th>\n",
              "      <td>411</td>\n",
              "    </tr>\n",
              "    <tr>\n",
              "      <th>Centro-Sur</th>\n",
              "      <td>383</td>\n",
              "    </tr>\n",
              "    <tr>\n",
              "      <th>Sur</th>\n",
              "      <td>284</td>\n",
              "    </tr>\n",
              "    <tr>\n",
              "      <th>Sureste</th>\n",
              "      <td>279</td>\n",
              "    </tr>\n",
              "  </tbody>\n",
              "</table>\n",
              "</div><br><label><b>dtype:</b> int64</label>"
            ]
          },
          "metadata": {},
          "execution_count": 17
        }
      ]
    },
    {
      "cell_type": "code",
      "source": [
        "# Participación en el programa de cashback\n",
        "clientes['cashback'].value_counts()"
      ],
      "metadata": {
        "colab": {
          "base_uri": "https://localhost:8080/",
          "height": 178
        },
        "id": "hZGzYv05Mdgy",
        "outputId": "2d5ab7e4-6cf7-4af7-86ac-937970b676d4"
      },
      "execution_count": 19,
      "outputs": [
        {
          "output_type": "execute_result",
          "data": {
            "text/plain": [
              "cashback\n",
              "No    3557\n",
              "Sí    2612\n",
              "Name: count, dtype: int64"
            ],
            "text/html": [
              "<div>\n",
              "<style scoped>\n",
              "    .dataframe tbody tr th:only-of-type {\n",
              "        vertical-align: middle;\n",
              "    }\n",
              "\n",
              "    .dataframe tbody tr th {\n",
              "        vertical-align: top;\n",
              "    }\n",
              "\n",
              "    .dataframe thead th {\n",
              "        text-align: right;\n",
              "    }\n",
              "</style>\n",
              "<table border=\"1\" class=\"dataframe\">\n",
              "  <thead>\n",
              "    <tr style=\"text-align: right;\">\n",
              "      <th></th>\n",
              "      <th>count</th>\n",
              "    </tr>\n",
              "    <tr>\n",
              "      <th>cashback</th>\n",
              "      <th></th>\n",
              "    </tr>\n",
              "  </thead>\n",
              "  <tbody>\n",
              "    <tr>\n",
              "      <th>No</th>\n",
              "      <td>3557</td>\n",
              "    </tr>\n",
              "    <tr>\n",
              "      <th>Sí</th>\n",
              "      <td>2612</td>\n",
              "    </tr>\n",
              "  </tbody>\n",
              "</table>\n",
              "</div><br><label><b>dtype:</b> int64</label>"
            ]
          },
          "metadata": {},
          "execution_count": 19
        }
      ]
    },
    {
      "cell_type": "code",
      "source": [
        "# Calificación promedio de la compra\n",
        "clientes['nota'].mean()"
      ],
      "metadata": {
        "colab": {
          "base_uri": "https://localhost:8080/"
        },
        "id": "3qOK-bpzMkmx",
        "outputId": "d245d078-2bc1-48a1-acd9-e024ce6ac0c7"
      },
      "execution_count": 21,
      "outputs": [
        {
          "output_type": "execute_result",
          "data": {
            "text/plain": [
              "np.float64(8.44366996271681)"
            ]
          },
          "metadata": {},
          "execution_count": 21
        }
      ]
    },
    {
      "cell_type": "code",
      "source": [
        "# Edad: media, mínimo y máximo\n",
        "clientes['edad'].agg(['mean', 'min', 'max'])"
      ],
      "metadata": {
        "colab": {
          "base_uri": "https://localhost:8080/",
          "height": 178
        },
        "id": "f26ZWhMnM1en",
        "outputId": "4128aff2-b210-44b0-e8f7-e10dcbd90535"
      },
      "execution_count": 22,
      "outputs": [
        {
          "output_type": "execute_result",
          "data": {
            "text/plain": [
              "mean    38.26001\n",
              "min     18.00000\n",
              "max     70.00000\n",
              "Name: edad, dtype: float64"
            ],
            "text/html": [
              "<div>\n",
              "<style scoped>\n",
              "    .dataframe tbody tr th:only-of-type {\n",
              "        vertical-align: middle;\n",
              "    }\n",
              "\n",
              "    .dataframe tbody tr th {\n",
              "        vertical-align: top;\n",
              "    }\n",
              "\n",
              "    .dataframe thead th {\n",
              "        text-align: right;\n",
              "    }\n",
              "</style>\n",
              "<table border=\"1\" class=\"dataframe\">\n",
              "  <thead>\n",
              "    <tr style=\"text-align: right;\">\n",
              "      <th></th>\n",
              "      <th>edad</th>\n",
              "    </tr>\n",
              "  </thead>\n",
              "  <tbody>\n",
              "    <tr>\n",
              "      <th>mean</th>\n",
              "      <td>38.26001</td>\n",
              "    </tr>\n",
              "    <tr>\n",
              "      <th>min</th>\n",
              "      <td>18.00000</td>\n",
              "    </tr>\n",
              "    <tr>\n",
              "      <th>max</th>\n",
              "      <td>70.00000</td>\n",
              "    </tr>\n",
              "  </tbody>\n",
              "</table>\n",
              "</div><br><label><b>dtype:</b> float64</label>"
            ]
          },
          "metadata": {},
          "execution_count": 22
        }
      ]
    },
    {
      "cell_type": "code",
      "source": [
        "# Cruzar sexo biológico con participación en cashback\n",
        "clientes.groupby('sexo_biologico')['cashback'].value_counts(normalize=True)"
      ],
      "metadata": {
        "colab": {
          "base_uri": "https://localhost:8080/",
          "height": 241
        },
        "id": "BmQwUM2wM4DY",
        "outputId": "88b62750-2c11-40fa-cc8d-93bdf6c842f0"
      },
      "execution_count": 24,
      "outputs": [
        {
          "output_type": "execute_result",
          "data": {
            "text/plain": [
              "sexo_biologico  cashback\n",
              "Femenino        No          0.584693\n",
              "                Sí          0.415307\n",
              "Masculino       No          0.566833\n",
              "                Sí          0.433167\n",
              "Name: proportion, dtype: float64"
            ],
            "text/html": [
              "<div>\n",
              "<style scoped>\n",
              "    .dataframe tbody tr th:only-of-type {\n",
              "        vertical-align: middle;\n",
              "    }\n",
              "\n",
              "    .dataframe tbody tr th {\n",
              "        vertical-align: top;\n",
              "    }\n",
              "\n",
              "    .dataframe thead th {\n",
              "        text-align: right;\n",
              "    }\n",
              "</style>\n",
              "<table border=\"1\" class=\"dataframe\">\n",
              "  <thead>\n",
              "    <tr style=\"text-align: right;\">\n",
              "      <th></th>\n",
              "      <th></th>\n",
              "      <th>proportion</th>\n",
              "    </tr>\n",
              "    <tr>\n",
              "      <th>sexo_biologico</th>\n",
              "      <th>cashback</th>\n",
              "      <th></th>\n",
              "    </tr>\n",
              "  </thead>\n",
              "  <tbody>\n",
              "    <tr>\n",
              "      <th rowspan=\"2\" valign=\"top\">Femenino</th>\n",
              "      <th>No</th>\n",
              "      <td>0.584693</td>\n",
              "    </tr>\n",
              "    <tr>\n",
              "      <th>Sí</th>\n",
              "      <td>0.415307</td>\n",
              "    </tr>\n",
              "    <tr>\n",
              "      <th rowspan=\"2\" valign=\"top\">Masculino</th>\n",
              "      <th>No</th>\n",
              "      <td>0.566833</td>\n",
              "    </tr>\n",
              "    <tr>\n",
              "      <th>Sí</th>\n",
              "      <td>0.433167</td>\n",
              "    </tr>\n",
              "  </tbody>\n",
              "</table>\n",
              "</div><br><label><b>dtype:</b> float64</label>"
            ]
          },
          "metadata": {},
          "execution_count": 24
        }
      ]
    },
    {
      "cell_type": "code",
      "source": [
        "# Calificación promedio por región\n",
        "clientes.groupby('region')['nota'].mean()\n"
      ],
      "metadata": {
        "id": "aEL-RHLK-q9C",
        "colab": {
          "base_uri": "https://localhost:8080/",
          "height": 397
        },
        "outputId": "80f98ce7-bbab-4fcb-a03e-38441eef092a"
      },
      "execution_count": 26,
      "outputs": [
        {
          "output_type": "execute_result",
          "data": {
            "text/plain": [
              "region\n",
              "Centro          8.419481\n",
              "Centro-Norte    8.465291\n",
              "Centro-Sur      8.389034\n",
              "Golfo           8.318735\n",
              "Noreste         8.543550\n",
              "Noroeste        8.408307\n",
              "Occidente       8.456835\n",
              "Sur             8.457746\n",
              "Sureste         8.591398\n",
              "Name: nota, dtype: float64"
            ],
            "text/html": [
              "<div>\n",
              "<style scoped>\n",
              "    .dataframe tbody tr th:only-of-type {\n",
              "        vertical-align: middle;\n",
              "    }\n",
              "\n",
              "    .dataframe tbody tr th {\n",
              "        vertical-align: top;\n",
              "    }\n",
              "\n",
              "    .dataframe thead th {\n",
              "        text-align: right;\n",
              "    }\n",
              "</style>\n",
              "<table border=\"1\" class=\"dataframe\">\n",
              "  <thead>\n",
              "    <tr style=\"text-align: right;\">\n",
              "      <th></th>\n",
              "      <th>nota</th>\n",
              "    </tr>\n",
              "    <tr>\n",
              "      <th>region</th>\n",
              "      <th></th>\n",
              "    </tr>\n",
              "  </thead>\n",
              "  <tbody>\n",
              "    <tr>\n",
              "      <th>Centro</th>\n",
              "      <td>8.419481</td>\n",
              "    </tr>\n",
              "    <tr>\n",
              "      <th>Centro-Norte</th>\n",
              "      <td>8.465291</td>\n",
              "    </tr>\n",
              "    <tr>\n",
              "      <th>Centro-Sur</th>\n",
              "      <td>8.389034</td>\n",
              "    </tr>\n",
              "    <tr>\n",
              "      <th>Golfo</th>\n",
              "      <td>8.318735</td>\n",
              "    </tr>\n",
              "    <tr>\n",
              "      <th>Noreste</th>\n",
              "      <td>8.543550</td>\n",
              "    </tr>\n",
              "    <tr>\n",
              "      <th>Noroeste</th>\n",
              "      <td>8.408307</td>\n",
              "    </tr>\n",
              "    <tr>\n",
              "      <th>Occidente</th>\n",
              "      <td>8.456835</td>\n",
              "    </tr>\n",
              "    <tr>\n",
              "      <th>Sur</th>\n",
              "      <td>8.457746</td>\n",
              "    </tr>\n",
              "    <tr>\n",
              "      <th>Sureste</th>\n",
              "      <td>8.591398</td>\n",
              "    </tr>\n",
              "  </tbody>\n",
              "</table>\n",
              "</div><br><label><b>dtype:</b> float64</label>"
            ]
          },
          "metadata": {},
          "execution_count": 26
        }
      ]
    },
    {
      "cell_type": "markdown",
      "source": [
        "### **Base de ventas**"
      ],
      "metadata": {
        "id": "MT_FYn9jxvyy"
      }
    },
    {
      "cell_type": "markdown",
      "source": [
        "> #### <strong><font color=\"7b71ff\" size =6>Prompt:</font></strong>\n",
        "\n",
        "Ahora vamos explorar la base de ventas en formato de un DataFrame, llamado \"ventas\". Contiene datos de las ventas del comercio electrónico, que son: ID de la compra, fecha de la compra, hora de la compra, categoría del producto, precio unitario del producto, cantidad vendida, envío y el método de pago.\n",
        "\n",
        "Queremos hacer una breve exploración de los datos para comprender un poco sobre ellos. Recordando que los datos de esta base también están limpios y tratados. Construye el código para ejecutar esta etapa utilizando Python con el objetivo de conocer mejor el dataframe \"clientes\" y algunos de sus atributos."
      ],
      "metadata": {
        "id": "WMF2ZEvIxzA2"
      }
    },
    {
      "cell_type": "code",
      "source": [
        "# Ver las primeras filas del DataFrame\n",
        "ventas.head()"
      ],
      "metadata": {
        "colab": {
          "base_uri": "https://localhost:8080/",
          "height": 206
        },
        "id": "suFWRktVNbAa",
        "outputId": "86610a73-6617-40b0-db37-d3f4536349f3"
      },
      "execution_count": 27,
      "outputs": [
        {
          "output_type": "execute_result",
          "data": {
            "text/plain": [
              "   ID_compra       fecha horario                    categoria  \\\n",
              "0          6  2023-01-03   20:40                 Electrónicos   \n",
              "1          5  2023-01-03   21:48  Herramientas y construcción   \n",
              "2          9  2023-01-03   17:08            Belleza e higiene   \n",
              "3          4  2023-01-03   14:29  Herramientas y construcción   \n",
              "4          8  2023-01-03   18:02            Belleza e higiene   \n",
              "\n",
              "   precio_unitario  cantidad   envio         metodo_pago  \n",
              "0           4457.9         4  713.26              Paypal  \n",
              "1            115.9         1    0.00       Transferencia  \n",
              "2             68.9         2   13.78  Tarjeta de Crédito  \n",
              "3             80.9         5   40.45       Transferencia  \n",
              "4            165.0         4    0.00       Transferencia  "
            ],
            "text/html": [
              "\n",
              "  <div id=\"df-d1546aa3-f9a1-45ae-b186-58690b650bfe\" class=\"colab-df-container\">\n",
              "    <div>\n",
              "<style scoped>\n",
              "    .dataframe tbody tr th:only-of-type {\n",
              "        vertical-align: middle;\n",
              "    }\n",
              "\n",
              "    .dataframe tbody tr th {\n",
              "        vertical-align: top;\n",
              "    }\n",
              "\n",
              "    .dataframe thead th {\n",
              "        text-align: right;\n",
              "    }\n",
              "</style>\n",
              "<table border=\"1\" class=\"dataframe\">\n",
              "  <thead>\n",
              "    <tr style=\"text-align: right;\">\n",
              "      <th></th>\n",
              "      <th>ID_compra</th>\n",
              "      <th>fecha</th>\n",
              "      <th>horario</th>\n",
              "      <th>categoria</th>\n",
              "      <th>precio_unitario</th>\n",
              "      <th>cantidad</th>\n",
              "      <th>envio</th>\n",
              "      <th>metodo_pago</th>\n",
              "    </tr>\n",
              "  </thead>\n",
              "  <tbody>\n",
              "    <tr>\n",
              "      <th>0</th>\n",
              "      <td>6</td>\n",
              "      <td>2023-01-03</td>\n",
              "      <td>20:40</td>\n",
              "      <td>Electrónicos</td>\n",
              "      <td>4457.9</td>\n",
              "      <td>4</td>\n",
              "      <td>713.26</td>\n",
              "      <td>Paypal</td>\n",
              "    </tr>\n",
              "    <tr>\n",
              "      <th>1</th>\n",
              "      <td>5</td>\n",
              "      <td>2023-01-03</td>\n",
              "      <td>21:48</td>\n",
              "      <td>Herramientas y construcción</td>\n",
              "      <td>115.9</td>\n",
              "      <td>1</td>\n",
              "      <td>0.00</td>\n",
              "      <td>Transferencia</td>\n",
              "    </tr>\n",
              "    <tr>\n",
              "      <th>2</th>\n",
              "      <td>9</td>\n",
              "      <td>2023-01-03</td>\n",
              "      <td>17:08</td>\n",
              "      <td>Belleza e higiene</td>\n",
              "      <td>68.9</td>\n",
              "      <td>2</td>\n",
              "      <td>13.78</td>\n",
              "      <td>Tarjeta de Crédito</td>\n",
              "    </tr>\n",
              "    <tr>\n",
              "      <th>3</th>\n",
              "      <td>4</td>\n",
              "      <td>2023-01-03</td>\n",
              "      <td>14:29</td>\n",
              "      <td>Herramientas y construcción</td>\n",
              "      <td>80.9</td>\n",
              "      <td>5</td>\n",
              "      <td>40.45</td>\n",
              "      <td>Transferencia</td>\n",
              "    </tr>\n",
              "    <tr>\n",
              "      <th>4</th>\n",
              "      <td>8</td>\n",
              "      <td>2023-01-03</td>\n",
              "      <td>18:02</td>\n",
              "      <td>Belleza e higiene</td>\n",
              "      <td>165.0</td>\n",
              "      <td>4</td>\n",
              "      <td>0.00</td>\n",
              "      <td>Transferencia</td>\n",
              "    </tr>\n",
              "  </tbody>\n",
              "</table>\n",
              "</div>\n",
              "    <div class=\"colab-df-buttons\">\n",
              "\n",
              "  <div class=\"colab-df-container\">\n",
              "    <button class=\"colab-df-convert\" onclick=\"convertToInteractive('df-d1546aa3-f9a1-45ae-b186-58690b650bfe')\"\n",
              "            title=\"Convert this dataframe to an interactive table.\"\n",
              "            style=\"display:none;\">\n",
              "\n",
              "  <svg xmlns=\"http://www.w3.org/2000/svg\" height=\"24px\" viewBox=\"0 -960 960 960\">\n",
              "    <path d=\"M120-120v-720h720v720H120Zm60-500h600v-160H180v160Zm220 220h160v-160H400v160Zm0 220h160v-160H400v160ZM180-400h160v-160H180v160Zm440 0h160v-160H620v160ZM180-180h160v-160H180v160Zm440 0h160v-160H620v160Z\"/>\n",
              "  </svg>\n",
              "    </button>\n",
              "\n",
              "  <style>\n",
              "    .colab-df-container {\n",
              "      display:flex;\n",
              "      gap: 12px;\n",
              "    }\n",
              "\n",
              "    .colab-df-convert {\n",
              "      background-color: #E8F0FE;\n",
              "      border: none;\n",
              "      border-radius: 50%;\n",
              "      cursor: pointer;\n",
              "      display: none;\n",
              "      fill: #1967D2;\n",
              "      height: 32px;\n",
              "      padding: 0 0 0 0;\n",
              "      width: 32px;\n",
              "    }\n",
              "\n",
              "    .colab-df-convert:hover {\n",
              "      background-color: #E2EBFA;\n",
              "      box-shadow: 0px 1px 2px rgba(60, 64, 67, 0.3), 0px 1px 3px 1px rgba(60, 64, 67, 0.15);\n",
              "      fill: #174EA6;\n",
              "    }\n",
              "\n",
              "    .colab-df-buttons div {\n",
              "      margin-bottom: 4px;\n",
              "    }\n",
              "\n",
              "    [theme=dark] .colab-df-convert {\n",
              "      background-color: #3B4455;\n",
              "      fill: #D2E3FC;\n",
              "    }\n",
              "\n",
              "    [theme=dark] .colab-df-convert:hover {\n",
              "      background-color: #434B5C;\n",
              "      box-shadow: 0px 1px 3px 1px rgba(0, 0, 0, 0.15);\n",
              "      filter: drop-shadow(0px 1px 2px rgba(0, 0, 0, 0.3));\n",
              "      fill: #FFFFFF;\n",
              "    }\n",
              "  </style>\n",
              "\n",
              "    <script>\n",
              "      const buttonEl =\n",
              "        document.querySelector('#df-d1546aa3-f9a1-45ae-b186-58690b650bfe button.colab-df-convert');\n",
              "      buttonEl.style.display =\n",
              "        google.colab.kernel.accessAllowed ? 'block' : 'none';\n",
              "\n",
              "      async function convertToInteractive(key) {\n",
              "        const element = document.querySelector('#df-d1546aa3-f9a1-45ae-b186-58690b650bfe');\n",
              "        const dataTable =\n",
              "          await google.colab.kernel.invokeFunction('convertToInteractive',\n",
              "                                                    [key], {});\n",
              "        if (!dataTable) return;\n",
              "\n",
              "        const docLinkHtml = 'Like what you see? Visit the ' +\n",
              "          '<a target=\"_blank\" href=https://colab.research.google.com/notebooks/data_table.ipynb>data table notebook</a>'\n",
              "          + ' to learn more about interactive tables.';\n",
              "        element.innerHTML = '';\n",
              "        dataTable['output_type'] = 'display_data';\n",
              "        await google.colab.output.renderOutput(dataTable, element);\n",
              "        const docLink = document.createElement('div');\n",
              "        docLink.innerHTML = docLinkHtml;\n",
              "        element.appendChild(docLink);\n",
              "      }\n",
              "    </script>\n",
              "  </div>\n",
              "\n",
              "\n",
              "    <div id=\"df-4ecd697c-4b8e-4db8-9a7b-e142cfa649a2\">\n",
              "      <button class=\"colab-df-quickchart\" onclick=\"quickchart('df-4ecd697c-4b8e-4db8-9a7b-e142cfa649a2')\"\n",
              "                title=\"Suggest charts\"\n",
              "                style=\"display:none;\">\n",
              "\n",
              "<svg xmlns=\"http://www.w3.org/2000/svg\" height=\"24px\"viewBox=\"0 0 24 24\"\n",
              "     width=\"24px\">\n",
              "    <g>\n",
              "        <path d=\"M19 3H5c-1.1 0-2 .9-2 2v14c0 1.1.9 2 2 2h14c1.1 0 2-.9 2-2V5c0-1.1-.9-2-2-2zM9 17H7v-7h2v7zm4 0h-2V7h2v10zm4 0h-2v-4h2v4z\"/>\n",
              "    </g>\n",
              "</svg>\n",
              "      </button>\n",
              "\n",
              "<style>\n",
              "  .colab-df-quickchart {\n",
              "      --bg-color: #E8F0FE;\n",
              "      --fill-color: #1967D2;\n",
              "      --hover-bg-color: #E2EBFA;\n",
              "      --hover-fill-color: #174EA6;\n",
              "      --disabled-fill-color: #AAA;\n",
              "      --disabled-bg-color: #DDD;\n",
              "  }\n",
              "\n",
              "  [theme=dark] .colab-df-quickchart {\n",
              "      --bg-color: #3B4455;\n",
              "      --fill-color: #D2E3FC;\n",
              "      --hover-bg-color: #434B5C;\n",
              "      --hover-fill-color: #FFFFFF;\n",
              "      --disabled-bg-color: #3B4455;\n",
              "      --disabled-fill-color: #666;\n",
              "  }\n",
              "\n",
              "  .colab-df-quickchart {\n",
              "    background-color: var(--bg-color);\n",
              "    border: none;\n",
              "    border-radius: 50%;\n",
              "    cursor: pointer;\n",
              "    display: none;\n",
              "    fill: var(--fill-color);\n",
              "    height: 32px;\n",
              "    padding: 0;\n",
              "    width: 32px;\n",
              "  }\n",
              "\n",
              "  .colab-df-quickchart:hover {\n",
              "    background-color: var(--hover-bg-color);\n",
              "    box-shadow: 0 1px 2px rgba(60, 64, 67, 0.3), 0 1px 3px 1px rgba(60, 64, 67, 0.15);\n",
              "    fill: var(--button-hover-fill-color);\n",
              "  }\n",
              "\n",
              "  .colab-df-quickchart-complete:disabled,\n",
              "  .colab-df-quickchart-complete:disabled:hover {\n",
              "    background-color: var(--disabled-bg-color);\n",
              "    fill: var(--disabled-fill-color);\n",
              "    box-shadow: none;\n",
              "  }\n",
              "\n",
              "  .colab-df-spinner {\n",
              "    border: 2px solid var(--fill-color);\n",
              "    border-color: transparent;\n",
              "    border-bottom-color: var(--fill-color);\n",
              "    animation:\n",
              "      spin 1s steps(1) infinite;\n",
              "  }\n",
              "\n",
              "  @keyframes spin {\n",
              "    0% {\n",
              "      border-color: transparent;\n",
              "      border-bottom-color: var(--fill-color);\n",
              "      border-left-color: var(--fill-color);\n",
              "    }\n",
              "    20% {\n",
              "      border-color: transparent;\n",
              "      border-left-color: var(--fill-color);\n",
              "      border-top-color: var(--fill-color);\n",
              "    }\n",
              "    30% {\n",
              "      border-color: transparent;\n",
              "      border-left-color: var(--fill-color);\n",
              "      border-top-color: var(--fill-color);\n",
              "      border-right-color: var(--fill-color);\n",
              "    }\n",
              "    40% {\n",
              "      border-color: transparent;\n",
              "      border-right-color: var(--fill-color);\n",
              "      border-top-color: var(--fill-color);\n",
              "    }\n",
              "    60% {\n",
              "      border-color: transparent;\n",
              "      border-right-color: var(--fill-color);\n",
              "    }\n",
              "    80% {\n",
              "      border-color: transparent;\n",
              "      border-right-color: var(--fill-color);\n",
              "      border-bottom-color: var(--fill-color);\n",
              "    }\n",
              "    90% {\n",
              "      border-color: transparent;\n",
              "      border-bottom-color: var(--fill-color);\n",
              "    }\n",
              "  }\n",
              "</style>\n",
              "\n",
              "      <script>\n",
              "        async function quickchart(key) {\n",
              "          const quickchartButtonEl =\n",
              "            document.querySelector('#' + key + ' button');\n",
              "          quickchartButtonEl.disabled = true;  // To prevent multiple clicks.\n",
              "          quickchartButtonEl.classList.add('colab-df-spinner');\n",
              "          try {\n",
              "            const charts = await google.colab.kernel.invokeFunction(\n",
              "                'suggestCharts', [key], {});\n",
              "          } catch (error) {\n",
              "            console.error('Error during call to suggestCharts:', error);\n",
              "          }\n",
              "          quickchartButtonEl.classList.remove('colab-df-spinner');\n",
              "          quickchartButtonEl.classList.add('colab-df-quickchart-complete');\n",
              "        }\n",
              "        (() => {\n",
              "          let quickchartButtonEl =\n",
              "            document.querySelector('#df-4ecd697c-4b8e-4db8-9a7b-e142cfa649a2 button');\n",
              "          quickchartButtonEl.style.display =\n",
              "            google.colab.kernel.accessAllowed ? 'block' : 'none';\n",
              "        })();\n",
              "      </script>\n",
              "    </div>\n",
              "\n",
              "    </div>\n",
              "  </div>\n"
            ],
            "application/vnd.google.colaboratory.intrinsic+json": {
              "type": "dataframe",
              "variable_name": "ventas",
              "summary": "{\n  \"name\": \"ventas\",\n  \"rows\": 6169,\n  \"fields\": [\n    {\n      \"column\": \"ID_compra\",\n      \"properties\": {\n        \"dtype\": \"number\",\n        \"std\": 1780,\n        \"min\": 1,\n        \"max\": 6169,\n        \"num_unique_values\": 6169,\n        \"samples\": [\n          5998,\n          409,\n          1489\n        ],\n        \"semantic_type\": \"\",\n        \"description\": \"\"\n      }\n    },\n    {\n      \"column\": \"fecha\",\n      \"properties\": {\n        \"dtype\": \"object\",\n        \"num_unique_values\": 304,\n        \"samples\": [\n          \"2023-08-05\",\n          \"2023-07-06\",\n          \"2023-05-17\"\n        ],\n        \"semantic_type\": \"\",\n        \"description\": \"\"\n      }\n    },\n    {\n      \"column\": \"horario\",\n      \"properties\": {\n        \"dtype\": \"object\",\n        \"num_unique_values\": 659,\n        \"samples\": [\n          \"19:04\",\n          \"21:53\",\n          \"21:42\"\n        ],\n        \"semantic_type\": \"\",\n        \"description\": \"\"\n      }\n    },\n    {\n      \"column\": \"categoria\",\n      \"properties\": {\n        \"dtype\": \"category\",\n        \"num_unique_values\": 8,\n        \"samples\": [\n          \"Herramientas y construcci\\u00f3n\",\n          \"Libros\",\n          \"Electr\\u00f3nicos\"\n        ],\n        \"semantic_type\": \"\",\n        \"description\": \"\"\n      }\n    },\n    {\n      \"column\": \"precio_unitario\",\n      \"properties\": {\n        \"dtype\": \"number\",\n        \"std\": 1852.0643423194142,\n        \"min\": 2.9,\n        \"max\": 8000.0,\n        \"num_unique_values\": 1655,\n        \"samples\": [\n          6291.9,\n          52.9,\n          31.0\n        ],\n        \"semantic_type\": \"\",\n        \"description\": \"\"\n      }\n    },\n    {\n      \"column\": \"cantidad\",\n      \"properties\": {\n        \"dtype\": \"number\",\n        \"std\": 1,\n        \"min\": 1,\n        \"max\": 5,\n        \"num_unique_values\": 5,\n        \"samples\": [\n          1,\n          3,\n          2\n        ],\n        \"semantic_type\": \"\",\n        \"description\": \"\"\n      }\n    },\n    {\n      \"column\": \"envio\",\n      \"properties\": {\n        \"dtype\": \"number\",\n        \"std\": 366.14922483792856,\n        \"min\": 0.0,\n        \"max\": 4521.54,\n        \"num_unique_values\": 2934,\n        \"samples\": [\n          30.58,\n          21.21,\n          14.23\n        ],\n        \"semantic_type\": \"\",\n        \"description\": \"\"\n      }\n    },\n    {\n      \"column\": \"metodo_pago\",\n      \"properties\": {\n        \"dtype\": \"category\",\n        \"num_unique_values\": 4,\n        \"samples\": [\n          \"Transferencia\",\n          \"Tarjeta de D\\u00e9bito\",\n          \"Paypal\"\n        ],\n        \"semantic_type\": \"\",\n        \"description\": \"\"\n      }\n    }\n  ]\n}"
            }
          },
          "metadata": {},
          "execution_count": 27
        }
      ]
    },
    {
      "cell_type": "code",
      "source": [
        "# Dimensiones del DataFrame\n",
        "ventas.shape"
      ],
      "metadata": {
        "colab": {
          "base_uri": "https://localhost:8080/"
        },
        "id": "rwymlXpJNa4X",
        "outputId": "d35a5770-d843-4663-cdf4-474cc2f28b1c"
      },
      "execution_count": 28,
      "outputs": [
        {
          "output_type": "execute_result",
          "data": {
            "text/plain": [
              "(6169, 8)"
            ]
          },
          "metadata": {},
          "execution_count": 28
        }
      ]
    },
    {
      "cell_type": "code",
      "source": [
        "# Información general sobre columnas y tipos de datos\n",
        "ventas.info()"
      ],
      "metadata": {
        "colab": {
          "base_uri": "https://localhost:8080/"
        },
        "id": "FesOmwjKNawB",
        "outputId": "299ff6ad-b12b-4588-943b-b724357454de"
      },
      "execution_count": 53,
      "outputs": [
        {
          "output_type": "stream",
          "name": "stdout",
          "text": [
            "<class 'pandas.core.frame.DataFrame'>\n",
            "RangeIndex: 6169 entries, 0 to 6168\n",
            "Data columns (total 11 columns):\n",
            " #   Column           Non-Null Count  Dtype         \n",
            "---  ------           --------------  -----         \n",
            " 0   ID_compra        6169 non-null   int64         \n",
            " 1   fecha            6169 non-null   datetime64[ns]\n",
            " 2   horario          6169 non-null   object        \n",
            " 3   categoria        6169 non-null   object        \n",
            " 4   precio_unitario  6169 non-null   float64       \n",
            " 5   cantidad         6169 non-null   int64         \n",
            " 6   envio            6169 non-null   float64       \n",
            " 7   metodo_pago      6169 non-null   object        \n",
            " 8   ingreso          6169 non-null   float64       \n",
            " 9   fecha_compra     6169 non-null   datetime64[ns]\n",
            " 10  dia_semana       6169 non-null   object        \n",
            "dtypes: datetime64[ns](2), float64(3), int64(2), object(4)\n",
            "memory usage: 530.3+ KB\n"
          ]
        }
      ]
    },
    {
      "cell_type": "code",
      "source": [
        "# Estadísticas descriptivas de las columnas numéricas\n",
        "ventas.describe()"
      ],
      "metadata": {
        "colab": {
          "base_uri": "https://localhost:8080/",
          "height": 300
        },
        "id": "H_XJP5xiNam2",
        "outputId": "b1ea220b-5a5a-4d71-8b47-6cdfb2c32e38"
      },
      "execution_count": 30,
      "outputs": [
        {
          "output_type": "execute_result",
          "data": {
            "text/plain": [
              "         ID_compra  precio_unitario     cantidad        envio\n",
              "count  6169.000000      6169.000000  6169.000000  6169.000000\n",
              "mean   3085.000000       873.234738     3.004863   119.233832\n",
              "std    1780.981237      1852.064342     1.420725   366.149225\n",
              "min       1.000000         2.900000     1.000000     0.000000\n",
              "25%    1543.000000        44.900000     2.000000     0.320000\n",
              "50%    3085.000000        93.900000     3.000000     7.550000\n",
              "75%    4627.000000       221.900000     4.000000    29.240000\n",
              "max    6169.000000      8000.000000     5.000000  4521.540000"
            ],
            "text/html": [
              "\n",
              "  <div id=\"df-b30f91df-809e-40ff-a8fd-15464c99367b\" class=\"colab-df-container\">\n",
              "    <div>\n",
              "<style scoped>\n",
              "    .dataframe tbody tr th:only-of-type {\n",
              "        vertical-align: middle;\n",
              "    }\n",
              "\n",
              "    .dataframe tbody tr th {\n",
              "        vertical-align: top;\n",
              "    }\n",
              "\n",
              "    .dataframe thead th {\n",
              "        text-align: right;\n",
              "    }\n",
              "</style>\n",
              "<table border=\"1\" class=\"dataframe\">\n",
              "  <thead>\n",
              "    <tr style=\"text-align: right;\">\n",
              "      <th></th>\n",
              "      <th>ID_compra</th>\n",
              "      <th>precio_unitario</th>\n",
              "      <th>cantidad</th>\n",
              "      <th>envio</th>\n",
              "    </tr>\n",
              "  </thead>\n",
              "  <tbody>\n",
              "    <tr>\n",
              "      <th>count</th>\n",
              "      <td>6169.000000</td>\n",
              "      <td>6169.000000</td>\n",
              "      <td>6169.000000</td>\n",
              "      <td>6169.000000</td>\n",
              "    </tr>\n",
              "    <tr>\n",
              "      <th>mean</th>\n",
              "      <td>3085.000000</td>\n",
              "      <td>873.234738</td>\n",
              "      <td>3.004863</td>\n",
              "      <td>119.233832</td>\n",
              "    </tr>\n",
              "    <tr>\n",
              "      <th>std</th>\n",
              "      <td>1780.981237</td>\n",
              "      <td>1852.064342</td>\n",
              "      <td>1.420725</td>\n",
              "      <td>366.149225</td>\n",
              "    </tr>\n",
              "    <tr>\n",
              "      <th>min</th>\n",
              "      <td>1.000000</td>\n",
              "      <td>2.900000</td>\n",
              "      <td>1.000000</td>\n",
              "      <td>0.000000</td>\n",
              "    </tr>\n",
              "    <tr>\n",
              "      <th>25%</th>\n",
              "      <td>1543.000000</td>\n",
              "      <td>44.900000</td>\n",
              "      <td>2.000000</td>\n",
              "      <td>0.320000</td>\n",
              "    </tr>\n",
              "    <tr>\n",
              "      <th>50%</th>\n",
              "      <td>3085.000000</td>\n",
              "      <td>93.900000</td>\n",
              "      <td>3.000000</td>\n",
              "      <td>7.550000</td>\n",
              "    </tr>\n",
              "    <tr>\n",
              "      <th>75%</th>\n",
              "      <td>4627.000000</td>\n",
              "      <td>221.900000</td>\n",
              "      <td>4.000000</td>\n",
              "      <td>29.240000</td>\n",
              "    </tr>\n",
              "    <tr>\n",
              "      <th>max</th>\n",
              "      <td>6169.000000</td>\n",
              "      <td>8000.000000</td>\n",
              "      <td>5.000000</td>\n",
              "      <td>4521.540000</td>\n",
              "    </tr>\n",
              "  </tbody>\n",
              "</table>\n",
              "</div>\n",
              "    <div class=\"colab-df-buttons\">\n",
              "\n",
              "  <div class=\"colab-df-container\">\n",
              "    <button class=\"colab-df-convert\" onclick=\"convertToInteractive('df-b30f91df-809e-40ff-a8fd-15464c99367b')\"\n",
              "            title=\"Convert this dataframe to an interactive table.\"\n",
              "            style=\"display:none;\">\n",
              "\n",
              "  <svg xmlns=\"http://www.w3.org/2000/svg\" height=\"24px\" viewBox=\"0 -960 960 960\">\n",
              "    <path d=\"M120-120v-720h720v720H120Zm60-500h600v-160H180v160Zm220 220h160v-160H400v160Zm0 220h160v-160H400v160ZM180-400h160v-160H180v160Zm440 0h160v-160H620v160ZM180-180h160v-160H180v160Zm440 0h160v-160H620v160Z\"/>\n",
              "  </svg>\n",
              "    </button>\n",
              "\n",
              "  <style>\n",
              "    .colab-df-container {\n",
              "      display:flex;\n",
              "      gap: 12px;\n",
              "    }\n",
              "\n",
              "    .colab-df-convert {\n",
              "      background-color: #E8F0FE;\n",
              "      border: none;\n",
              "      border-radius: 50%;\n",
              "      cursor: pointer;\n",
              "      display: none;\n",
              "      fill: #1967D2;\n",
              "      height: 32px;\n",
              "      padding: 0 0 0 0;\n",
              "      width: 32px;\n",
              "    }\n",
              "\n",
              "    .colab-df-convert:hover {\n",
              "      background-color: #E2EBFA;\n",
              "      box-shadow: 0px 1px 2px rgba(60, 64, 67, 0.3), 0px 1px 3px 1px rgba(60, 64, 67, 0.15);\n",
              "      fill: #174EA6;\n",
              "    }\n",
              "\n",
              "    .colab-df-buttons div {\n",
              "      margin-bottom: 4px;\n",
              "    }\n",
              "\n",
              "    [theme=dark] .colab-df-convert {\n",
              "      background-color: #3B4455;\n",
              "      fill: #D2E3FC;\n",
              "    }\n",
              "\n",
              "    [theme=dark] .colab-df-convert:hover {\n",
              "      background-color: #434B5C;\n",
              "      box-shadow: 0px 1px 3px 1px rgba(0, 0, 0, 0.15);\n",
              "      filter: drop-shadow(0px 1px 2px rgba(0, 0, 0, 0.3));\n",
              "      fill: #FFFFFF;\n",
              "    }\n",
              "  </style>\n",
              "\n",
              "    <script>\n",
              "      const buttonEl =\n",
              "        document.querySelector('#df-b30f91df-809e-40ff-a8fd-15464c99367b button.colab-df-convert');\n",
              "      buttonEl.style.display =\n",
              "        google.colab.kernel.accessAllowed ? 'block' : 'none';\n",
              "\n",
              "      async function convertToInteractive(key) {\n",
              "        const element = document.querySelector('#df-b30f91df-809e-40ff-a8fd-15464c99367b');\n",
              "        const dataTable =\n",
              "          await google.colab.kernel.invokeFunction('convertToInteractive',\n",
              "                                                    [key], {});\n",
              "        if (!dataTable) return;\n",
              "\n",
              "        const docLinkHtml = 'Like what you see? Visit the ' +\n",
              "          '<a target=\"_blank\" href=https://colab.research.google.com/notebooks/data_table.ipynb>data table notebook</a>'\n",
              "          + ' to learn more about interactive tables.';\n",
              "        element.innerHTML = '';\n",
              "        dataTable['output_type'] = 'display_data';\n",
              "        await google.colab.output.renderOutput(dataTable, element);\n",
              "        const docLink = document.createElement('div');\n",
              "        docLink.innerHTML = docLinkHtml;\n",
              "        element.appendChild(docLink);\n",
              "      }\n",
              "    </script>\n",
              "  </div>\n",
              "\n",
              "\n",
              "    <div id=\"df-8c4927f5-a9dd-4b3f-9c6c-b8390f35c8ab\">\n",
              "      <button class=\"colab-df-quickchart\" onclick=\"quickchart('df-8c4927f5-a9dd-4b3f-9c6c-b8390f35c8ab')\"\n",
              "                title=\"Suggest charts\"\n",
              "                style=\"display:none;\">\n",
              "\n",
              "<svg xmlns=\"http://www.w3.org/2000/svg\" height=\"24px\"viewBox=\"0 0 24 24\"\n",
              "     width=\"24px\">\n",
              "    <g>\n",
              "        <path d=\"M19 3H5c-1.1 0-2 .9-2 2v14c0 1.1.9 2 2 2h14c1.1 0 2-.9 2-2V5c0-1.1-.9-2-2-2zM9 17H7v-7h2v7zm4 0h-2V7h2v10zm4 0h-2v-4h2v4z\"/>\n",
              "    </g>\n",
              "</svg>\n",
              "      </button>\n",
              "\n",
              "<style>\n",
              "  .colab-df-quickchart {\n",
              "      --bg-color: #E8F0FE;\n",
              "      --fill-color: #1967D2;\n",
              "      --hover-bg-color: #E2EBFA;\n",
              "      --hover-fill-color: #174EA6;\n",
              "      --disabled-fill-color: #AAA;\n",
              "      --disabled-bg-color: #DDD;\n",
              "  }\n",
              "\n",
              "  [theme=dark] .colab-df-quickchart {\n",
              "      --bg-color: #3B4455;\n",
              "      --fill-color: #D2E3FC;\n",
              "      --hover-bg-color: #434B5C;\n",
              "      --hover-fill-color: #FFFFFF;\n",
              "      --disabled-bg-color: #3B4455;\n",
              "      --disabled-fill-color: #666;\n",
              "  }\n",
              "\n",
              "  .colab-df-quickchart {\n",
              "    background-color: var(--bg-color);\n",
              "    border: none;\n",
              "    border-radius: 50%;\n",
              "    cursor: pointer;\n",
              "    display: none;\n",
              "    fill: var(--fill-color);\n",
              "    height: 32px;\n",
              "    padding: 0;\n",
              "    width: 32px;\n",
              "  }\n",
              "\n",
              "  .colab-df-quickchart:hover {\n",
              "    background-color: var(--hover-bg-color);\n",
              "    box-shadow: 0 1px 2px rgba(60, 64, 67, 0.3), 0 1px 3px 1px rgba(60, 64, 67, 0.15);\n",
              "    fill: var(--button-hover-fill-color);\n",
              "  }\n",
              "\n",
              "  .colab-df-quickchart-complete:disabled,\n",
              "  .colab-df-quickchart-complete:disabled:hover {\n",
              "    background-color: var(--disabled-bg-color);\n",
              "    fill: var(--disabled-fill-color);\n",
              "    box-shadow: none;\n",
              "  }\n",
              "\n",
              "  .colab-df-spinner {\n",
              "    border: 2px solid var(--fill-color);\n",
              "    border-color: transparent;\n",
              "    border-bottom-color: var(--fill-color);\n",
              "    animation:\n",
              "      spin 1s steps(1) infinite;\n",
              "  }\n",
              "\n",
              "  @keyframes spin {\n",
              "    0% {\n",
              "      border-color: transparent;\n",
              "      border-bottom-color: var(--fill-color);\n",
              "      border-left-color: var(--fill-color);\n",
              "    }\n",
              "    20% {\n",
              "      border-color: transparent;\n",
              "      border-left-color: var(--fill-color);\n",
              "      border-top-color: var(--fill-color);\n",
              "    }\n",
              "    30% {\n",
              "      border-color: transparent;\n",
              "      border-left-color: var(--fill-color);\n",
              "      border-top-color: var(--fill-color);\n",
              "      border-right-color: var(--fill-color);\n",
              "    }\n",
              "    40% {\n",
              "      border-color: transparent;\n",
              "      border-right-color: var(--fill-color);\n",
              "      border-top-color: var(--fill-color);\n",
              "    }\n",
              "    60% {\n",
              "      border-color: transparent;\n",
              "      border-right-color: var(--fill-color);\n",
              "    }\n",
              "    80% {\n",
              "      border-color: transparent;\n",
              "      border-right-color: var(--fill-color);\n",
              "      border-bottom-color: var(--fill-color);\n",
              "    }\n",
              "    90% {\n",
              "      border-color: transparent;\n",
              "      border-bottom-color: var(--fill-color);\n",
              "    }\n",
              "  }\n",
              "</style>\n",
              "\n",
              "      <script>\n",
              "        async function quickchart(key) {\n",
              "          const quickchartButtonEl =\n",
              "            document.querySelector('#' + key + ' button');\n",
              "          quickchartButtonEl.disabled = true;  // To prevent multiple clicks.\n",
              "          quickchartButtonEl.classList.add('colab-df-spinner');\n",
              "          try {\n",
              "            const charts = await google.colab.kernel.invokeFunction(\n",
              "                'suggestCharts', [key], {});\n",
              "          } catch (error) {\n",
              "            console.error('Error during call to suggestCharts:', error);\n",
              "          }\n",
              "          quickchartButtonEl.classList.remove('colab-df-spinner');\n",
              "          quickchartButtonEl.classList.add('colab-df-quickchart-complete');\n",
              "        }\n",
              "        (() => {\n",
              "          let quickchartButtonEl =\n",
              "            document.querySelector('#df-8c4927f5-a9dd-4b3f-9c6c-b8390f35c8ab button');\n",
              "          quickchartButtonEl.style.display =\n",
              "            google.colab.kernel.accessAllowed ? 'block' : 'none';\n",
              "        })();\n",
              "      </script>\n",
              "    </div>\n",
              "\n",
              "    </div>\n",
              "  </div>\n"
            ],
            "application/vnd.google.colaboratory.intrinsic+json": {
              "type": "dataframe",
              "summary": "{\n  \"name\": \"ventas\",\n  \"rows\": 8,\n  \"fields\": [\n    {\n      \"column\": \"ID_compra\",\n      \"properties\": {\n        \"dtype\": \"number\",\n        \"std\": 2223.0326545909456,\n        \"min\": 1.0,\n        \"max\": 6169.0,\n        \"num_unique_values\": 6,\n        \"samples\": [\n          6169.0,\n          3085.0,\n          4627.0\n        ],\n        \"semantic_type\": \"\",\n        \"description\": \"\"\n      }\n    },\n    {\n      \"column\": \"precio_unitario\",\n      \"properties\": {\n        \"dtype\": \"number\",\n        \"std\": 3141.4268457842477,\n        \"min\": 2.9,\n        \"max\": 8000.0,\n        \"num_unique_values\": 8,\n        \"samples\": [\n          873.2347382071648,\n          93.9,\n          6169.0\n        ],\n        \"semantic_type\": \"\",\n        \"description\": \"\"\n      }\n    },\n    {\n      \"column\": \"cantidad\",\n      \"properties\": {\n        \"dtype\": \"number\",\n        \"std\": 2180.090123979817,\n        \"min\": 1.0,\n        \"max\": 6169.0,\n        \"num_unique_values\": 8,\n        \"samples\": [\n          3.0048630248014265,\n          3.0,\n          6169.0\n        ],\n        \"semantic_type\": \"\",\n        \"description\": \"\"\n      }\n    },\n    {\n      \"column\": \"envio\",\n      \"properties\": {\n        \"dtype\": \"number\",\n        \"std\": 2476.5634376162216,\n        \"min\": 0.0,\n        \"max\": 6169.0,\n        \"num_unique_values\": 8,\n        \"samples\": [\n          119.23383206354353,\n          7.55,\n          6169.0\n        ],\n        \"semantic_type\": \"\",\n        \"description\": \"\"\n      }\n    }\n  ]\n}"
            }
          },
          "metadata": {},
          "execution_count": 30
        }
      ]
    },
    {
      "cell_type": "code",
      "source": [
        "# Estadísticas para columnas categóricas\n",
        "ventas.describe(include='object')"
      ],
      "metadata": {
        "colab": {
          "base_uri": "https://localhost:8080/",
          "height": 174
        },
        "id": "uIjLdUpNNacT",
        "outputId": "6be4cd05-698e-4ee3-e254-f015031da9c8"
      },
      "execution_count": 31,
      "outputs": [
        {
          "output_type": "execute_result",
          "data": {
            "text/plain": [
              "             fecha horario            categoria         metodo_pago\n",
              "count         6169    6169                 6169                6169\n",
              "unique         304     659                    8                   4\n",
              "top     2023-12-13   23:56  Alimentos y bebidas  Tarjeta de Crédito\n",
              "freq            60      26                 1495                2851"
            ],
            "text/html": [
              "\n",
              "  <div id=\"df-b11698ef-7200-4730-a71f-623d3bd640dc\" class=\"colab-df-container\">\n",
              "    <div>\n",
              "<style scoped>\n",
              "    .dataframe tbody tr th:only-of-type {\n",
              "        vertical-align: middle;\n",
              "    }\n",
              "\n",
              "    .dataframe tbody tr th {\n",
              "        vertical-align: top;\n",
              "    }\n",
              "\n",
              "    .dataframe thead th {\n",
              "        text-align: right;\n",
              "    }\n",
              "</style>\n",
              "<table border=\"1\" class=\"dataframe\">\n",
              "  <thead>\n",
              "    <tr style=\"text-align: right;\">\n",
              "      <th></th>\n",
              "      <th>fecha</th>\n",
              "      <th>horario</th>\n",
              "      <th>categoria</th>\n",
              "      <th>metodo_pago</th>\n",
              "    </tr>\n",
              "  </thead>\n",
              "  <tbody>\n",
              "    <tr>\n",
              "      <th>count</th>\n",
              "      <td>6169</td>\n",
              "      <td>6169</td>\n",
              "      <td>6169</td>\n",
              "      <td>6169</td>\n",
              "    </tr>\n",
              "    <tr>\n",
              "      <th>unique</th>\n",
              "      <td>304</td>\n",
              "      <td>659</td>\n",
              "      <td>8</td>\n",
              "      <td>4</td>\n",
              "    </tr>\n",
              "    <tr>\n",
              "      <th>top</th>\n",
              "      <td>2023-12-13</td>\n",
              "      <td>23:56</td>\n",
              "      <td>Alimentos y bebidas</td>\n",
              "      <td>Tarjeta de Crédito</td>\n",
              "    </tr>\n",
              "    <tr>\n",
              "      <th>freq</th>\n",
              "      <td>60</td>\n",
              "      <td>26</td>\n",
              "      <td>1495</td>\n",
              "      <td>2851</td>\n",
              "    </tr>\n",
              "  </tbody>\n",
              "</table>\n",
              "</div>\n",
              "    <div class=\"colab-df-buttons\">\n",
              "\n",
              "  <div class=\"colab-df-container\">\n",
              "    <button class=\"colab-df-convert\" onclick=\"convertToInteractive('df-b11698ef-7200-4730-a71f-623d3bd640dc')\"\n",
              "            title=\"Convert this dataframe to an interactive table.\"\n",
              "            style=\"display:none;\">\n",
              "\n",
              "  <svg xmlns=\"http://www.w3.org/2000/svg\" height=\"24px\" viewBox=\"0 -960 960 960\">\n",
              "    <path d=\"M120-120v-720h720v720H120Zm60-500h600v-160H180v160Zm220 220h160v-160H400v160Zm0 220h160v-160H400v160ZM180-400h160v-160H180v160Zm440 0h160v-160H620v160ZM180-180h160v-160H180v160Zm440 0h160v-160H620v160Z\"/>\n",
              "  </svg>\n",
              "    </button>\n",
              "\n",
              "  <style>\n",
              "    .colab-df-container {\n",
              "      display:flex;\n",
              "      gap: 12px;\n",
              "    }\n",
              "\n",
              "    .colab-df-convert {\n",
              "      background-color: #E8F0FE;\n",
              "      border: none;\n",
              "      border-radius: 50%;\n",
              "      cursor: pointer;\n",
              "      display: none;\n",
              "      fill: #1967D2;\n",
              "      height: 32px;\n",
              "      padding: 0 0 0 0;\n",
              "      width: 32px;\n",
              "    }\n",
              "\n",
              "    .colab-df-convert:hover {\n",
              "      background-color: #E2EBFA;\n",
              "      box-shadow: 0px 1px 2px rgba(60, 64, 67, 0.3), 0px 1px 3px 1px rgba(60, 64, 67, 0.15);\n",
              "      fill: #174EA6;\n",
              "    }\n",
              "\n",
              "    .colab-df-buttons div {\n",
              "      margin-bottom: 4px;\n",
              "    }\n",
              "\n",
              "    [theme=dark] .colab-df-convert {\n",
              "      background-color: #3B4455;\n",
              "      fill: #D2E3FC;\n",
              "    }\n",
              "\n",
              "    [theme=dark] .colab-df-convert:hover {\n",
              "      background-color: #434B5C;\n",
              "      box-shadow: 0px 1px 3px 1px rgba(0, 0, 0, 0.15);\n",
              "      filter: drop-shadow(0px 1px 2px rgba(0, 0, 0, 0.3));\n",
              "      fill: #FFFFFF;\n",
              "    }\n",
              "  </style>\n",
              "\n",
              "    <script>\n",
              "      const buttonEl =\n",
              "        document.querySelector('#df-b11698ef-7200-4730-a71f-623d3bd640dc button.colab-df-convert');\n",
              "      buttonEl.style.display =\n",
              "        google.colab.kernel.accessAllowed ? 'block' : 'none';\n",
              "\n",
              "      async function convertToInteractive(key) {\n",
              "        const element = document.querySelector('#df-b11698ef-7200-4730-a71f-623d3bd640dc');\n",
              "        const dataTable =\n",
              "          await google.colab.kernel.invokeFunction('convertToInteractive',\n",
              "                                                    [key], {});\n",
              "        if (!dataTable) return;\n",
              "\n",
              "        const docLinkHtml = 'Like what you see? Visit the ' +\n",
              "          '<a target=\"_blank\" href=https://colab.research.google.com/notebooks/data_table.ipynb>data table notebook</a>'\n",
              "          + ' to learn more about interactive tables.';\n",
              "        element.innerHTML = '';\n",
              "        dataTable['output_type'] = 'display_data';\n",
              "        await google.colab.output.renderOutput(dataTable, element);\n",
              "        const docLink = document.createElement('div');\n",
              "        docLink.innerHTML = docLinkHtml;\n",
              "        element.appendChild(docLink);\n",
              "      }\n",
              "    </script>\n",
              "  </div>\n",
              "\n",
              "\n",
              "    <div id=\"df-0b04e09c-01ec-485f-961e-41ed61153e46\">\n",
              "      <button class=\"colab-df-quickchart\" onclick=\"quickchart('df-0b04e09c-01ec-485f-961e-41ed61153e46')\"\n",
              "                title=\"Suggest charts\"\n",
              "                style=\"display:none;\">\n",
              "\n",
              "<svg xmlns=\"http://www.w3.org/2000/svg\" height=\"24px\"viewBox=\"0 0 24 24\"\n",
              "     width=\"24px\">\n",
              "    <g>\n",
              "        <path d=\"M19 3H5c-1.1 0-2 .9-2 2v14c0 1.1.9 2 2 2h14c1.1 0 2-.9 2-2V5c0-1.1-.9-2-2-2zM9 17H7v-7h2v7zm4 0h-2V7h2v10zm4 0h-2v-4h2v4z\"/>\n",
              "    </g>\n",
              "</svg>\n",
              "      </button>\n",
              "\n",
              "<style>\n",
              "  .colab-df-quickchart {\n",
              "      --bg-color: #E8F0FE;\n",
              "      --fill-color: #1967D2;\n",
              "      --hover-bg-color: #E2EBFA;\n",
              "      --hover-fill-color: #174EA6;\n",
              "      --disabled-fill-color: #AAA;\n",
              "      --disabled-bg-color: #DDD;\n",
              "  }\n",
              "\n",
              "  [theme=dark] .colab-df-quickchart {\n",
              "      --bg-color: #3B4455;\n",
              "      --fill-color: #D2E3FC;\n",
              "      --hover-bg-color: #434B5C;\n",
              "      --hover-fill-color: #FFFFFF;\n",
              "      --disabled-bg-color: #3B4455;\n",
              "      --disabled-fill-color: #666;\n",
              "  }\n",
              "\n",
              "  .colab-df-quickchart {\n",
              "    background-color: var(--bg-color);\n",
              "    border: none;\n",
              "    border-radius: 50%;\n",
              "    cursor: pointer;\n",
              "    display: none;\n",
              "    fill: var(--fill-color);\n",
              "    height: 32px;\n",
              "    padding: 0;\n",
              "    width: 32px;\n",
              "  }\n",
              "\n",
              "  .colab-df-quickchart:hover {\n",
              "    background-color: var(--hover-bg-color);\n",
              "    box-shadow: 0 1px 2px rgba(60, 64, 67, 0.3), 0 1px 3px 1px rgba(60, 64, 67, 0.15);\n",
              "    fill: var(--button-hover-fill-color);\n",
              "  }\n",
              "\n",
              "  .colab-df-quickchart-complete:disabled,\n",
              "  .colab-df-quickchart-complete:disabled:hover {\n",
              "    background-color: var(--disabled-bg-color);\n",
              "    fill: var(--disabled-fill-color);\n",
              "    box-shadow: none;\n",
              "  }\n",
              "\n",
              "  .colab-df-spinner {\n",
              "    border: 2px solid var(--fill-color);\n",
              "    border-color: transparent;\n",
              "    border-bottom-color: var(--fill-color);\n",
              "    animation:\n",
              "      spin 1s steps(1) infinite;\n",
              "  }\n",
              "\n",
              "  @keyframes spin {\n",
              "    0% {\n",
              "      border-color: transparent;\n",
              "      border-bottom-color: var(--fill-color);\n",
              "      border-left-color: var(--fill-color);\n",
              "    }\n",
              "    20% {\n",
              "      border-color: transparent;\n",
              "      border-left-color: var(--fill-color);\n",
              "      border-top-color: var(--fill-color);\n",
              "    }\n",
              "    30% {\n",
              "      border-color: transparent;\n",
              "      border-left-color: var(--fill-color);\n",
              "      border-top-color: var(--fill-color);\n",
              "      border-right-color: var(--fill-color);\n",
              "    }\n",
              "    40% {\n",
              "      border-color: transparent;\n",
              "      border-right-color: var(--fill-color);\n",
              "      border-top-color: var(--fill-color);\n",
              "    }\n",
              "    60% {\n",
              "      border-color: transparent;\n",
              "      border-right-color: var(--fill-color);\n",
              "    }\n",
              "    80% {\n",
              "      border-color: transparent;\n",
              "      border-right-color: var(--fill-color);\n",
              "      border-bottom-color: var(--fill-color);\n",
              "    }\n",
              "    90% {\n",
              "      border-color: transparent;\n",
              "      border-bottom-color: var(--fill-color);\n",
              "    }\n",
              "  }\n",
              "</style>\n",
              "\n",
              "      <script>\n",
              "        async function quickchart(key) {\n",
              "          const quickchartButtonEl =\n",
              "            document.querySelector('#' + key + ' button');\n",
              "          quickchartButtonEl.disabled = true;  // To prevent multiple clicks.\n",
              "          quickchartButtonEl.classList.add('colab-df-spinner');\n",
              "          try {\n",
              "            const charts = await google.colab.kernel.invokeFunction(\n",
              "                'suggestCharts', [key], {});\n",
              "          } catch (error) {\n",
              "            console.error('Error during call to suggestCharts:', error);\n",
              "          }\n",
              "          quickchartButtonEl.classList.remove('colab-df-spinner');\n",
              "          quickchartButtonEl.classList.add('colab-df-quickchart-complete');\n",
              "        }\n",
              "        (() => {\n",
              "          let quickchartButtonEl =\n",
              "            document.querySelector('#df-0b04e09c-01ec-485f-961e-41ed61153e46 button');\n",
              "          quickchartButtonEl.style.display =\n",
              "            google.colab.kernel.accessAllowed ? 'block' : 'none';\n",
              "        })();\n",
              "      </script>\n",
              "    </div>\n",
              "\n",
              "    </div>\n",
              "  </div>\n"
            ],
            "application/vnd.google.colaboratory.intrinsic+json": {
              "type": "dataframe",
              "summary": "{\n  \"name\": \"ventas\",\n  \"rows\": 4,\n  \"fields\": [\n    {\n      \"column\": \"fecha\",\n      \"properties\": {\n        \"dtype\": \"date\",\n        \"min\": \"1970-01-01 00:00:00.000000060\",\n        \"max\": \"2023-12-13 00:00:00\",\n        \"num_unique_values\": 4,\n        \"samples\": [\n          304,\n          \"60\",\n          \"6169\"\n        ],\n        \"semantic_type\": \"\",\n        \"description\": \"\"\n      }\n    },\n    {\n      \"column\": \"horario\",\n      \"properties\": {\n        \"dtype\": \"date\",\n        \"min\": \"1970-01-01 00:00:00.000000026\",\n        \"max\": \"2025-05-26 23:56:00\",\n        \"num_unique_values\": 4,\n        \"samples\": [\n          659,\n          \"26\",\n          \"6169\"\n        ],\n        \"semantic_type\": \"\",\n        \"description\": \"\"\n      }\n    },\n    {\n      \"column\": \"categoria\",\n      \"properties\": {\n        \"dtype\": \"string\",\n        \"num_unique_values\": 4,\n        \"samples\": [\n          8,\n          \"1495\",\n          \"6169\"\n        ],\n        \"semantic_type\": \"\",\n        \"description\": \"\"\n      }\n    },\n    {\n      \"column\": \"metodo_pago\",\n      \"properties\": {\n        \"dtype\": \"string\",\n        \"num_unique_values\": 4,\n        \"samples\": [\n          4,\n          \"2851\",\n          \"6169\"\n        ],\n        \"semantic_type\": \"\",\n        \"description\": \"\"\n      }\n    }\n  ]\n}"
            }
          },
          "metadata": {},
          "execution_count": 31
        }
      ]
    },
    {
      "cell_type": "code",
      "source": [
        "# Verificar número de ventas únicas\n",
        "ventas['ID_compra'].nunique()"
      ],
      "metadata": {
        "colab": {
          "base_uri": "https://localhost:8080/"
        },
        "id": "g4i94CZqNkTU",
        "outputId": "617c31c8-01f8-425f-b1df-b1ff76b09979"
      },
      "execution_count": 32,
      "outputs": [
        {
          "output_type": "execute_result",
          "data": {
            "text/plain": [
              "6169"
            ]
          },
          "metadata": {},
          "execution_count": 32
        }
      ]
    },
    {
      "cell_type": "code",
      "source": [
        "# Distribución de métodos de pago\n",
        "ventas['metodo_pago'].value_counts()"
      ],
      "metadata": {
        "colab": {
          "base_uri": "https://localhost:8080/",
          "height": 241
        },
        "id": "lr3xN51jNkQc",
        "outputId": "1e84becf-dfcf-4f26-ff78-851cd667fb6a"
      },
      "execution_count": 33,
      "outputs": [
        {
          "output_type": "execute_result",
          "data": {
            "text/plain": [
              "metodo_pago\n",
              "Tarjeta de Crédito    2851\n",
              "Transferencia         2244\n",
              "Tarjeta de Débito      547\n",
              "Paypal                 527\n",
              "Name: count, dtype: int64"
            ],
            "text/html": [
              "<div>\n",
              "<style scoped>\n",
              "    .dataframe tbody tr th:only-of-type {\n",
              "        vertical-align: middle;\n",
              "    }\n",
              "\n",
              "    .dataframe tbody tr th {\n",
              "        vertical-align: top;\n",
              "    }\n",
              "\n",
              "    .dataframe thead th {\n",
              "        text-align: right;\n",
              "    }\n",
              "</style>\n",
              "<table border=\"1\" class=\"dataframe\">\n",
              "  <thead>\n",
              "    <tr style=\"text-align: right;\">\n",
              "      <th></th>\n",
              "      <th>count</th>\n",
              "    </tr>\n",
              "    <tr>\n",
              "      <th>metodo_pago</th>\n",
              "      <th></th>\n",
              "    </tr>\n",
              "  </thead>\n",
              "  <tbody>\n",
              "    <tr>\n",
              "      <th>Tarjeta de Crédito</th>\n",
              "      <td>2851</td>\n",
              "    </tr>\n",
              "    <tr>\n",
              "      <th>Transferencia</th>\n",
              "      <td>2244</td>\n",
              "    </tr>\n",
              "    <tr>\n",
              "      <th>Tarjeta de Débito</th>\n",
              "      <td>547</td>\n",
              "    </tr>\n",
              "    <tr>\n",
              "      <th>Paypal</th>\n",
              "      <td>527</td>\n",
              "    </tr>\n",
              "  </tbody>\n",
              "</table>\n",
              "</div><br><label><b>dtype:</b> int64</label>"
            ]
          },
          "metadata": {},
          "execution_count": 33
        }
      ]
    },
    {
      "cell_type": "code",
      "source": [
        "# Categorías de productos más vendidas (en cantidad)\n",
        "ventas.groupby('categoria')['cantidad'].sum().sort_values(ascending=False)"
      ],
      "metadata": {
        "colab": {
          "base_uri": "https://localhost:8080/",
          "height": 366
        },
        "id": "S-Ch2Sv8NkLu",
        "outputId": "9d110d67-a951-4794-f9ff-f6ac8c2ab5b0"
      },
      "execution_count": 37,
      "outputs": [
        {
          "output_type": "execute_result",
          "data": {
            "text/plain": [
              "categoria\n",
              "Alimentos y bebidas            4484\n",
              "Belleza e higiene              3183\n",
              "Casa y aseo                    3100\n",
              "Electrodomésticos              1973\n",
              "Electrónicos                   1763\n",
              "Papelería y oficina            1729\n",
              "Herramientas y construcción    1396\n",
              "Libros                          909\n",
              "Name: cantidad, dtype: int64"
            ],
            "text/html": [
              "<div>\n",
              "<style scoped>\n",
              "    .dataframe tbody tr th:only-of-type {\n",
              "        vertical-align: middle;\n",
              "    }\n",
              "\n",
              "    .dataframe tbody tr th {\n",
              "        vertical-align: top;\n",
              "    }\n",
              "\n",
              "    .dataframe thead th {\n",
              "        text-align: right;\n",
              "    }\n",
              "</style>\n",
              "<table border=\"1\" class=\"dataframe\">\n",
              "  <thead>\n",
              "    <tr style=\"text-align: right;\">\n",
              "      <th></th>\n",
              "      <th>cantidad</th>\n",
              "    </tr>\n",
              "    <tr>\n",
              "      <th>categoria</th>\n",
              "      <th></th>\n",
              "    </tr>\n",
              "  </thead>\n",
              "  <tbody>\n",
              "    <tr>\n",
              "      <th>Alimentos y bebidas</th>\n",
              "      <td>4484</td>\n",
              "    </tr>\n",
              "    <tr>\n",
              "      <th>Belleza e higiene</th>\n",
              "      <td>3183</td>\n",
              "    </tr>\n",
              "    <tr>\n",
              "      <th>Casa y aseo</th>\n",
              "      <td>3100</td>\n",
              "    </tr>\n",
              "    <tr>\n",
              "      <th>Electrodomésticos</th>\n",
              "      <td>1973</td>\n",
              "    </tr>\n",
              "    <tr>\n",
              "      <th>Electrónicos</th>\n",
              "      <td>1763</td>\n",
              "    </tr>\n",
              "    <tr>\n",
              "      <th>Papelería y oficina</th>\n",
              "      <td>1729</td>\n",
              "    </tr>\n",
              "    <tr>\n",
              "      <th>Herramientas y construcción</th>\n",
              "      <td>1396</td>\n",
              "    </tr>\n",
              "    <tr>\n",
              "      <th>Libros</th>\n",
              "      <td>909</td>\n",
              "    </tr>\n",
              "  </tbody>\n",
              "</table>\n",
              "</div><br><label><b>dtype:</b> int64</label>"
            ]
          },
          "metadata": {},
          "execution_count": 37
        }
      ]
    },
    {
      "cell_type": "code",
      "source": [
        "# Precio promedio por categoría\n",
        "ventas.groupby('categoria')['precio_unitario'].mean().sort_values(ascending=False)"
      ],
      "metadata": {
        "colab": {
          "base_uri": "https://localhost:8080/",
          "height": 366
        },
        "id": "0vz4PtTQNj_G",
        "outputId": "4f07c775-b848-4511-f745-28e105da6f39"
      },
      "execution_count": 39,
      "outputs": [
        {
          "output_type": "execute_result",
          "data": {
            "text/plain": [
              "categoria\n",
              "Electrónicos                   6008.219483\n",
              "Electrodomésticos              2179.821504\n",
              "Herramientas y construcción     182.418565\n",
              "Belleza e higiene               133.841620\n",
              "Casa y aseo                     103.244669\n",
              "Libros                           82.242193\n",
              "Alimentos y bebidas              51.735184\n",
              "Papelería y oficina              26.231579\n",
              "Name: precio_unitario, dtype: float64"
            ],
            "text/html": [
              "<div>\n",
              "<style scoped>\n",
              "    .dataframe tbody tr th:only-of-type {\n",
              "        vertical-align: middle;\n",
              "    }\n",
              "\n",
              "    .dataframe tbody tr th {\n",
              "        vertical-align: top;\n",
              "    }\n",
              "\n",
              "    .dataframe thead th {\n",
              "        text-align: right;\n",
              "    }\n",
              "</style>\n",
              "<table border=\"1\" class=\"dataframe\">\n",
              "  <thead>\n",
              "    <tr style=\"text-align: right;\">\n",
              "      <th></th>\n",
              "      <th>precio_unitario</th>\n",
              "    </tr>\n",
              "    <tr>\n",
              "      <th>categoria</th>\n",
              "      <th></th>\n",
              "    </tr>\n",
              "  </thead>\n",
              "  <tbody>\n",
              "    <tr>\n",
              "      <th>Electrónicos</th>\n",
              "      <td>6008.219483</td>\n",
              "    </tr>\n",
              "    <tr>\n",
              "      <th>Electrodomésticos</th>\n",
              "      <td>2179.821504</td>\n",
              "    </tr>\n",
              "    <tr>\n",
              "      <th>Herramientas y construcción</th>\n",
              "      <td>182.418565</td>\n",
              "    </tr>\n",
              "    <tr>\n",
              "      <th>Belleza e higiene</th>\n",
              "      <td>133.841620</td>\n",
              "    </tr>\n",
              "    <tr>\n",
              "      <th>Casa y aseo</th>\n",
              "      <td>103.244669</td>\n",
              "    </tr>\n",
              "    <tr>\n",
              "      <th>Libros</th>\n",
              "      <td>82.242193</td>\n",
              "    </tr>\n",
              "    <tr>\n",
              "      <th>Alimentos y bebidas</th>\n",
              "      <td>51.735184</td>\n",
              "    </tr>\n",
              "    <tr>\n",
              "      <th>Papelería y oficina</th>\n",
              "      <td>26.231579</td>\n",
              "    </tr>\n",
              "  </tbody>\n",
              "</table>\n",
              "</div><br><label><b>dtype:</b> float64</label>"
            ]
          },
          "metadata": {},
          "execution_count": 39
        }
      ]
    },
    {
      "cell_type": "code",
      "source": [
        "# Total de ingresos por venta (agregamos una nueva columna temporal)\n",
        "ventas['ingreso'] = ventas['precio_unitario'] * ventas['cantidad']\n",
        "ventas['ingreso'].describe()"
      ],
      "metadata": {
        "colab": {
          "base_uri": "https://localhost:8080/",
          "height": 335
        },
        "id": "kFBqsibPNqm6",
        "outputId": "a407cd44-c87d-45cf-c197-73906e7619b4"
      },
      "execution_count": 41,
      "outputs": [
        {
          "output_type": "execute_result",
          "data": {
            "text/plain": [
              "count     6169.000000\n",
              "mean      2633.077322\n",
              "std       6300.467095\n",
              "min          2.900000\n",
              "25%        104.500000\n",
              "50%        263.600000\n",
              "75%        746.700000\n",
              "max      39884.500000\n",
              "Name: ingreso, dtype: float64"
            ],
            "text/html": [
              "<div>\n",
              "<style scoped>\n",
              "    .dataframe tbody tr th:only-of-type {\n",
              "        vertical-align: middle;\n",
              "    }\n",
              "\n",
              "    .dataframe tbody tr th {\n",
              "        vertical-align: top;\n",
              "    }\n",
              "\n",
              "    .dataframe thead th {\n",
              "        text-align: right;\n",
              "    }\n",
              "</style>\n",
              "<table border=\"1\" class=\"dataframe\">\n",
              "  <thead>\n",
              "    <tr style=\"text-align: right;\">\n",
              "      <th></th>\n",
              "      <th>ingreso</th>\n",
              "    </tr>\n",
              "  </thead>\n",
              "  <tbody>\n",
              "    <tr>\n",
              "      <th>count</th>\n",
              "      <td>6169.000000</td>\n",
              "    </tr>\n",
              "    <tr>\n",
              "      <th>mean</th>\n",
              "      <td>2633.077322</td>\n",
              "    </tr>\n",
              "    <tr>\n",
              "      <th>std</th>\n",
              "      <td>6300.467095</td>\n",
              "    </tr>\n",
              "    <tr>\n",
              "      <th>min</th>\n",
              "      <td>2.900000</td>\n",
              "    </tr>\n",
              "    <tr>\n",
              "      <th>25%</th>\n",
              "      <td>104.500000</td>\n",
              "    </tr>\n",
              "    <tr>\n",
              "      <th>50%</th>\n",
              "      <td>263.600000</td>\n",
              "    </tr>\n",
              "    <tr>\n",
              "      <th>75%</th>\n",
              "      <td>746.700000</td>\n",
              "    </tr>\n",
              "    <tr>\n",
              "      <th>max</th>\n",
              "      <td>39884.500000</td>\n",
              "    </tr>\n",
              "  </tbody>\n",
              "</table>\n",
              "</div><br><label><b>dtype:</b> float64</label>"
            ]
          },
          "metadata": {},
          "execution_count": 41
        }
      ]
    },
    {
      "cell_type": "code",
      "source": [
        "# Total de ingresos por categoría\n",
        "ventas.groupby('categoria')['ingreso'].sum().sort_values(ascending=False)"
      ],
      "metadata": {
        "colab": {
          "base_uri": "https://localhost:8080/",
          "height": 366
        },
        "id": "hsjYl6sjNqjz",
        "outputId": "d7de8894-19a6-4459-9529-dfbc647c4c11"
      },
      "execution_count": 43,
      "outputs": [
        {
          "output_type": "execute_result",
          "data": {
            "text/plain": [
              "categoria\n",
              "Electrónicos                   10547410.0\n",
              "Electrodomésticos               4351368.5\n",
              "Belleza e higiene                423262.9\n",
              "Casa y aseo                      316688.6\n",
              "Herramientas y construcción      252953.1\n",
              "Alimentos y bebidas              231284.3\n",
              "Libros                            75265.0\n",
              "Papelería y oficina               45221.6\n",
              "Name: ingreso, dtype: float64"
            ],
            "text/html": [
              "<div>\n",
              "<style scoped>\n",
              "    .dataframe tbody tr th:only-of-type {\n",
              "        vertical-align: middle;\n",
              "    }\n",
              "\n",
              "    .dataframe tbody tr th {\n",
              "        vertical-align: top;\n",
              "    }\n",
              "\n",
              "    .dataframe thead th {\n",
              "        text-align: right;\n",
              "    }\n",
              "</style>\n",
              "<table border=\"1\" class=\"dataframe\">\n",
              "  <thead>\n",
              "    <tr style=\"text-align: right;\">\n",
              "      <th></th>\n",
              "      <th>ingreso</th>\n",
              "    </tr>\n",
              "    <tr>\n",
              "      <th>categoria</th>\n",
              "      <th></th>\n",
              "    </tr>\n",
              "  </thead>\n",
              "  <tbody>\n",
              "    <tr>\n",
              "      <th>Electrónicos</th>\n",
              "      <td>10547410.0</td>\n",
              "    </tr>\n",
              "    <tr>\n",
              "      <th>Electrodomésticos</th>\n",
              "      <td>4351368.5</td>\n",
              "    </tr>\n",
              "    <tr>\n",
              "      <th>Belleza e higiene</th>\n",
              "      <td>423262.9</td>\n",
              "    </tr>\n",
              "    <tr>\n",
              "      <th>Casa y aseo</th>\n",
              "      <td>316688.6</td>\n",
              "    </tr>\n",
              "    <tr>\n",
              "      <th>Herramientas y construcción</th>\n",
              "      <td>252953.1</td>\n",
              "    </tr>\n",
              "    <tr>\n",
              "      <th>Alimentos y bebidas</th>\n",
              "      <td>231284.3</td>\n",
              "    </tr>\n",
              "    <tr>\n",
              "      <th>Libros</th>\n",
              "      <td>75265.0</td>\n",
              "    </tr>\n",
              "    <tr>\n",
              "      <th>Papelería y oficina</th>\n",
              "      <td>45221.6</td>\n",
              "    </tr>\n",
              "  </tbody>\n",
              "</table>\n",
              "</div><br><label><b>dtype:</b> float64</label>"
            ]
          },
          "metadata": {},
          "execution_count": 43
        }
      ]
    },
    {
      "cell_type": "code",
      "source": [
        "# Exploración de la variable 'envio'\n",
        "ventas['envio'].value_counts()"
      ],
      "metadata": {
        "colab": {
          "base_uri": "https://localhost:8080/",
          "height": 489
        },
        "id": "W0iGpZ-eNwJE",
        "outputId": "e68b660a-3631-49b9-bb58-9b57c763f734"
      },
      "execution_count": 44,
      "outputs": [
        {
          "output_type": "execute_result",
          "data": {
            "text/plain": [
              "envio\n",
              "0.00       1500\n",
              "3.35         13\n",
              "1.20         12\n",
              "2.09         11\n",
              "5.39         10\n",
              "           ... \n",
              "2224.30       1\n",
              "20.36         1\n",
              "69.80         1\n",
              "43.18         1\n",
              "24.82         1\n",
              "Name: count, Length: 2934, dtype: int64"
            ],
            "text/html": [
              "<div>\n",
              "<style scoped>\n",
              "    .dataframe tbody tr th:only-of-type {\n",
              "        vertical-align: middle;\n",
              "    }\n",
              "\n",
              "    .dataframe tbody tr th {\n",
              "        vertical-align: top;\n",
              "    }\n",
              "\n",
              "    .dataframe thead th {\n",
              "        text-align: right;\n",
              "    }\n",
              "</style>\n",
              "<table border=\"1\" class=\"dataframe\">\n",
              "  <thead>\n",
              "    <tr style=\"text-align: right;\">\n",
              "      <th></th>\n",
              "      <th>count</th>\n",
              "    </tr>\n",
              "    <tr>\n",
              "      <th>envio</th>\n",
              "      <th></th>\n",
              "    </tr>\n",
              "  </thead>\n",
              "  <tbody>\n",
              "    <tr>\n",
              "      <th>0.00</th>\n",
              "      <td>1500</td>\n",
              "    </tr>\n",
              "    <tr>\n",
              "      <th>3.35</th>\n",
              "      <td>13</td>\n",
              "    </tr>\n",
              "    <tr>\n",
              "      <th>1.20</th>\n",
              "      <td>12</td>\n",
              "    </tr>\n",
              "    <tr>\n",
              "      <th>2.09</th>\n",
              "      <td>11</td>\n",
              "    </tr>\n",
              "    <tr>\n",
              "      <th>5.39</th>\n",
              "      <td>10</td>\n",
              "    </tr>\n",
              "    <tr>\n",
              "      <th>...</th>\n",
              "      <td>...</td>\n",
              "    </tr>\n",
              "    <tr>\n",
              "      <th>2224.30</th>\n",
              "      <td>1</td>\n",
              "    </tr>\n",
              "    <tr>\n",
              "      <th>20.36</th>\n",
              "      <td>1</td>\n",
              "    </tr>\n",
              "    <tr>\n",
              "      <th>69.80</th>\n",
              "      <td>1</td>\n",
              "    </tr>\n",
              "    <tr>\n",
              "      <th>43.18</th>\n",
              "      <td>1</td>\n",
              "    </tr>\n",
              "    <tr>\n",
              "      <th>24.82</th>\n",
              "      <td>1</td>\n",
              "    </tr>\n",
              "  </tbody>\n",
              "</table>\n",
              "<p>2934 rows × 1 columns</p>\n",
              "</div><br><label><b>dtype:</b> int64</label>"
            ]
          },
          "metadata": {},
          "execution_count": 44
        }
      ]
    },
    {
      "cell_type": "code",
      "source": [
        "# Conversión de fechas y horas si es necesario\n",
        "ventas['fecha'] = pd.to_datetime(ventas['fecha'], format='%Y:%m:%d')"
      ],
      "metadata": {
        "id": "SzUychdsNzYS"
      },
      "execution_count": 49,
      "outputs": []
    },
    {
      "cell_type": "code",
      "source": [
        "# Día de la semana con más ventas\n",
        "ventas['dia_semana'] = ventas['fecha_compra'].dt.day_name()\n",
        "ventas['dia_semana'].value_counts()"
      ],
      "metadata": {
        "colab": {
          "base_uri": "https://localhost:8080/",
          "height": 303
        },
        "id": "-znnyPPpNzU-",
        "outputId": "c8ca5d93-d84a-48c3-8604-0651ca0fae61"
      },
      "execution_count": 50,
      "outputs": [
        {
          "output_type": "execute_result",
          "data": {
            "text/plain": [
              "dia_semana\n",
              "Saturday     1091\n",
              "Sunday       1062\n",
              "Friday       1014\n",
              "Thursday     1007\n",
              "Wednesday     999\n",
              "Tuesday       996\n",
              "Name: count, dtype: int64"
            ],
            "text/html": [
              "<div>\n",
              "<style scoped>\n",
              "    .dataframe tbody tr th:only-of-type {\n",
              "        vertical-align: middle;\n",
              "    }\n",
              "\n",
              "    .dataframe tbody tr th {\n",
              "        vertical-align: top;\n",
              "    }\n",
              "\n",
              "    .dataframe thead th {\n",
              "        text-align: right;\n",
              "    }\n",
              "</style>\n",
              "<table border=\"1\" class=\"dataframe\">\n",
              "  <thead>\n",
              "    <tr style=\"text-align: right;\">\n",
              "      <th></th>\n",
              "      <th>count</th>\n",
              "    </tr>\n",
              "    <tr>\n",
              "      <th>dia_semana</th>\n",
              "      <th></th>\n",
              "    </tr>\n",
              "  </thead>\n",
              "  <tbody>\n",
              "    <tr>\n",
              "      <th>Saturday</th>\n",
              "      <td>1091</td>\n",
              "    </tr>\n",
              "    <tr>\n",
              "      <th>Sunday</th>\n",
              "      <td>1062</td>\n",
              "    </tr>\n",
              "    <tr>\n",
              "      <th>Friday</th>\n",
              "      <td>1014</td>\n",
              "    </tr>\n",
              "    <tr>\n",
              "      <th>Thursday</th>\n",
              "      <td>1007</td>\n",
              "    </tr>\n",
              "    <tr>\n",
              "      <th>Wednesday</th>\n",
              "      <td>999</td>\n",
              "    </tr>\n",
              "    <tr>\n",
              "      <th>Tuesday</th>\n",
              "      <td>996</td>\n",
              "    </tr>\n",
              "  </tbody>\n",
              "</table>\n",
              "</div><br><label><b>dtype:</b> int64</label>"
            ]
          },
          "metadata": {},
          "execution_count": 50
        }
      ]
    },
    {
      "cell_type": "markdown",
      "source": [
        "## **1.4 - Tipos de gráficos**\n",
        "\n",
        "---\n"
      ],
      "metadata": {
        "id": "0JlV1G5ST0ij"
      }
    },
    {
      "cell_type": "markdown",
      "source": [
        "Ya hemos explorado un poco de las dos bases del proyecto y obtuvimos algunos insights interesantes que pueden ser importantes en la construcción de nuestras visualizaciones.\n",
        "\n",
        "Ahora, intentemos simplificar nuestro análisis consolidando los datos en una única tabla para, a partir de ahí, enfocarnos en las posibilidades de visuales combinando los datos. ¿Podrá GPT ayudarnos aquí?"
      ],
      "metadata": {
        "id": "viFLQ7iIT9Lk"
      }
    },
    {
      "cell_type": "markdown",
      "source": [
        "> #### <strong><font color=\"7b71ff\" size =6>Prompt:</font></strong>\n",
        "\n",
        "Ahora vamos a unir las dos bases de nuestro proyecto en una sola utilizando como llave la columna \"ID_compra\". Además, organizaremos las columnas en la siguiente secuencia:\n",
        "\n",
        "* ID_compra\n",
        "* fecha\n",
        "* horario\n",
        "* categoria\n",
        "* precio_unitario\n",
        "* cantidad\n",
        "* envio\n",
        "* metodo_pago\n",
        "* ID_cliente\n",
        "* edad\n",
        "* sexo_biologico\n",
        "* ciudad\n",
        "* estado\n",
        "* region\n",
        "* cashback\n",
        "* nota\n",
        "\n",
        "Construye un código para ejecutar esta etapa usando Python y la biblioteca Pandas.\n"
      ],
      "metadata": {
        "id": "Q9msYRqEUh6B"
      }
    },
    {
      "cell_type": "code",
      "source": [
        "# Unimos los dos DataFrames usando 'ID_compra' como llave\n",
        "df = pd.merge(ventas, clientes, on='ID_compra', how='inner')"
      ],
      "metadata": {
        "id": "Xnt5nQnX-kuS"
      },
      "execution_count": 56,
      "outputs": []
    },
    {
      "cell_type": "code",
      "source": [
        "df = df.rename(columns={\n",
        "    'fecha_compra': 'fecha',\n",
        "    'hora_compra': 'horario',\n",
        "    'categoria_producto': 'categoria',\n",
        "    'precio_unitario': 'precio_unitario',\n",
        "    'cantidad_vendida': 'cantidad',\n",
        "    'participa_cashback': 'cashback',\n",
        "    'calificacion': 'nota'\n",
        "})"
      ],
      "metadata": {
        "id": "s8x5d1ZSVdzT"
      },
      "execution_count": 59,
      "outputs": []
    },
    {
      "cell_type": "code",
      "source": [
        "# Reordenamos las columnas según la secuencia dada\n",
        "columnas_ordenadas = [\n",
        "    'ID_compra',\n",
        "    'fecha',\n",
        "    'horario',\n",
        "    'categoria',\n",
        "    'precio_unitario',\n",
        "    'cantidad',\n",
        "    'envio',\n",
        "    'metodo_pago',\n",
        "    'ID_cliente',\n",
        "    'edad',\n",
        "    'sexo_biologico',\n",
        "    'ciudad',\n",
        "    'estado',\n",
        "    'region',\n",
        "    'cashback',\n",
        "    'nota'\n",
        "]\n",
        "\n",
        "df = df[columnas_ordenadas]"
      ],
      "metadata": {
        "id": "OxWC_J80-kmI"
      },
      "execution_count": 58,
      "outputs": []
    },
    {
      "cell_type": "markdown",
      "source": [
        "Ahora le pediremos a ChatGPT ideas de visuales que podamos contruir con esos datos"
      ],
      "metadata": {
        "id": "53Rx8QHRXBDx"
      }
    },
    {
      "cell_type": "markdown",
      "source": [
        "> #### <strong><font color=\"7b71ff\" size =6>Prompt:</font></strong>\n",
        "\n",
        "Ahora con nuestro \"df\" ya construido a partir de las dos bases del proyecto, vamos a iniciar un nuevo proceso. Queremos comenzar la etapa de generación de visuales que puedan ayudar en el análisis de la facturación a lo largo del año, el perfil del cliente y otros datos que puedan ser relevantes para el análisis y la construcción de nuestra narrativa.\n",
        "\n",
        "Las columnas de \"df\" son:\n",
        "\n",
        "* ID_compra: número único asignado a la compra realizada, en formato int\n",
        "* fecha: fecha de la compra, en formato datetime\n",
        "* horario: hora de la compra, en formato object\n",
        "* categoria: categoría del producto, en formato object\n",
        "* precio_unitario: precio de una unidad del producto, en formato float\n",
        "* cantidad: cantidad vendida del producto, en formato int\n",
        "* envio: costo de envío a ser pagado en total de la compra, en formato float\n",
        "* metodo_pago: método de pago de la compra, en formato object\n",
        "* ID_cliente: número único asignado al cliente, en formato int\n",
        "* edad: edad del cliente, en formato int\n",
        "* sexo_biologico: sexo biológico del cliente, en formato object\n",
        "* ciudad: ciudad del cliente, en formato object\n",
        "* estado: estado del cliente, en formato object\n",
        "* region: región del cliente, en formato object\n",
        "* cashback: si el cliente participa o no en el programa de cashback de la tienda, en formato object\n",
        "* nota: evaluación del cliente por la compra, en formato int\n",
        "\n",
        "El objetivo es abstraer y buscar relaciones para construir visualizaciones interesantes para el análisis de los datos de los clientes y ventas de Zoop.\n",
        "\n",
        "Con base en la información proporcionada, ¿qué tipos de visualizaciones serían útiles para alcanzar el objetivo de analizar los datos?"
      ],
      "metadata": {
        "id": "RQ7xEhDRklQi"
      }
    },
    {
      "cell_type": "markdown",
      "source": [
        "---\n",
        "---\n",
        "##**Sugerencias de Visualizaciones de Chat GPT:**  \n",
        "📊 1. Análisis de facturación a lo largo del año\n",
        "Objetivo: Ver la evolución de las ventas y detectar estacionalidades.\n",
        "\n",
        "Serie temporal de ingresos mensuales\n",
        "\n",
        "📈 df.groupby(df[\"fecha\"].dt.to_period(\"M\"))[\"precio_unitario\" * \"cantidad\"].sum()\n",
        "\n",
        "Gráfico sugerido: línea o área\n",
        "\n",
        "Ingresos por día de la semana\n",
        "\n",
        "🔄 ¿Cuándo se vende más? Ideal para planificar promociones.\n",
        "\n",
        "Gráfico sugerido: barras horizontales\n",
        "\n",
        "Ingresos por hora del día\n",
        "\n",
        "⏰ Detecta picos horarios.\n",
        "\n",
        "Gráfico sugerido: histograma de horas\n",
        "\n",
        "👤 2. Perfil del cliente\n",
        "Objetivo: Entender quién es el cliente de Zoop.\n",
        "\n",
        "Distribución por edad\n",
        "\n",
        "🎂 Histograma o gráfico de densidad\n",
        "\n",
        "Útil para segmentación demográfica.\n",
        "\n",
        "Distribución por sexo biológico\n",
        "\n",
        "⚖️ Pie chart o barras\n",
        "\n",
        "Cruza con categorías para ver afinidades.\n",
        "\n",
        "Clientes por región / estado / ciudad\n",
        "\n",
        "🗺️ Mapa de calor geográfico (si es posible) o gráfico de barras\n",
        "\n",
        "¿Dónde está la mayor concentración?\n",
        "\n",
        "Participación en el programa de cashback\n",
        "\n",
        "💸 ¿Cuántos usan cashback? ¿Compran más?\n",
        "\n",
        "Barras comparando ingresos promedio con/sin cashback\n",
        "\n",
        "🛒 3. Comportamiento de compra\n",
        "Objetivo: Entender patrones y hábitos de consumo.\n",
        "\n",
        "Top categorías por ingresos y cantidad vendida\n",
        "\n",
        "🎯 ¿Qué se vende más y qué deja más margen?\n",
        "\n",
        "Gráfico de barras\n",
        "\n",
        "Método de pago más usado\n",
        "\n",
        "💳 Pie chart o barras\n",
        "\n",
        "Relación precio unitario vs cantidad\n",
        "\n",
        "🔄 Scatter plot: ¿productos más baratos se compran en más cantidad?\n",
        "\n",
        "Evaluación promedio por categoría\n",
        "\n",
        "🌟 Barras: ¿qué productos tienen más satisfacción?\n",
        "\n",
        "🔁 4. Relaciones cruzadas para descubrimientos más profundos\n",
        "Mapa de calor (heatmap) de correlaciones\n",
        "\n",
        "Entre edad, precio, cantidad, nota, etc.\n",
        "\n",
        "Boxplot de precios por categoría o sexo biológico\n",
        "\n",
        "Detecta outliers y distribuciones no evidentes.\n",
        "\n",
        "Gráfico de dispersión 3D (edad vs gasto vs nota)\n",
        "\n",
        "Requiere herramientas más avanzadas (plotly, seaborn + matplotlib)\n",
        "\n",
        "🎯 Bonus: Métricas clave tipo dashboard\n",
        "Ingresos totales, promedio por compra, ticket promedio\n",
        "\n",
        "% de participación en cashback\n",
        "\n",
        "Nota promedio general\n",
        "\n",
        "Cantidad de clientes únicos"
      ],
      "metadata": {
        "id": "NK8fYzRyXb6l"
      }
    },
    {
      "cell_type": "code",
      "source": [],
      "metadata": {
        "id": "H1sk7i27-hJm"
      },
      "execution_count": null,
      "outputs": []
    },
    {
      "cell_type": "code",
      "source": [],
      "metadata": {
        "id": "RaXOh3ye-gtT"
      },
      "execution_count": null,
      "outputs": []
    },
    {
      "cell_type": "markdown",
      "source": [
        "# **Clase 2 - Visualizando los dados**"
      ],
      "metadata": {
        "id": "s9k5kKMU1mvw"
      }
    },
    {
      "cell_type": "markdown",
      "source": [
        "ChatGPT trajo algunas ideas interesantes para la creación de los gráficos.\n",
        "\n",
        "Sin embargo, como ya tenemos algunas preguntas para guiarnos en la creación de los visuales, no vamos a seguir todas las sugerencias aquí mencionadas.\n",
        "\n",
        "Queda como una sugerencia para ayudarte cuando estés trabajando con otras bases y tengas dificultades para pensar en qué visualizaciones podrías construir.\n",
        "\n",
        "**Observación:** Recordando que es muy probable que los gráficos que se me señalaron, no sean necesariamente los mismos que aparecerán para ti, dado a la aleatoriedad de las respuestas de cualquier IA generativa."
      ],
      "metadata": {
        "id": "V12xn1TszsSs"
      }
    },
    {
      "cell_type": "markdown",
      "source": [
        "## **2.1 - Definiendo los visualizaciones**\n",
        "\n",
        "---"
      ],
      "metadata": {
        "id": "LQuD_W_n1xk3"
      }
    },
    {
      "cell_type": "markdown",
      "source": [
        "Después de la etapa de exploración de los datos, vamos a leer las preguntas que se plantearon en la demanda que recibimos. Así, comenzaremos a pensar en los visuales que vamos a construir con la ayuda de la IA.\n",
        "\n",
        "### **Preguntas**\n",
        "\n",
        "#### Ventas\n",
        "\n",
        "1. ¿Cuáles fueron los métodos de pago más utilizados en 2023?\n",
        "2. ¿Cuál fue la facturación por categoría en 2023?\n",
        "3. ¿Cómo fueron las ventas a lo largo de los meses en 2023?\n",
        "4. ¿Cómo se divide la venta por trimestre por método de pago? ¿Existe un período en que algún tipo de pago se destaca?\n",
        "\n",
        "\n",
        "#### Perfil del cliente\n",
        "\n",
        "5. ¿Cuál es la proporción de la clientela que participa en nuestro programa de cashback?\n",
        "6. ¿Cómo están distribuidas las evaluaciones del producto? ¿Tenemos buenos números generales?\n",
        "7. ¿Cómo se distribuye nuestro público por edad y sexo biológico? ¿Existe un grupo que se destaca?\n",
        "\n",
        "Inicialmente, vamos a hacer la primera versión de los gráficos, aún no refinados con los elementos visuales, para más adelante ir añadiendo las diversas técnicas de storytelling."
      ],
      "metadata": {
        "id": "UHZIUzEf4TzJ"
      }
    },
    {
      "cell_type": "markdown",
      "source": [
        "### **1ra Pregunta:** ¿Cuáles fueron los métodos de pago más utilizados en 2023?"
      ],
      "metadata": {
        "id": "nuximvEi5Jsc"
      }
    },
    {
      "cell_type": "markdown",
      "source": [
        "Le vamos pedir a ChatGPT que nos auxilie en la construcción de este visual. Primero, trataremos los datos generando una tabla resumida (que también es una especie de visual) y luego construiremos el primer gráfico."
      ],
      "metadata": {
        "id": "sp3YpxjOCdBY"
      }
    },
    {
      "cell_type": "markdown",
      "source": [
        "> #### <strong><font color=\"7b71ff\" size=6>Prompt:</font></strong>\n",
        "\n",
        "Tenemos un DataFrame llamado \"df\" y queremos construir un visual que presente cuáles métodos de pago fueron los más utilizados.\n",
        "\n",
        "En \"df\", tenemos la columna \"metodo_pago\" con los 4 tipos de pago utilizados en la compra.\n",
        "\n",
        "Inicialmente, queremos construir una tabla llamada \"metodos_de_pago\" que resuma los datos de esta columna y, a continuación, deseamos crear una visualización que muestre la cantidad de esos métodos de pago presentes en la tabla \"metodo_pago\".\n",
        "\n",
        "Utiliza las bibliotecas de visualización de datos de Python para crear esta visualización.\n"
      ],
      "metadata": {
        "id": "qHwZZA1lG6JY"
      }
    },
    {
      "cell_type": "code",
      "source": [],
      "metadata": {
        "id": "v2_h5RAO-LFW"
      },
      "execution_count": null,
      "outputs": []
    },
    {
      "cell_type": "code",
      "source": [],
      "metadata": {
        "id": "enfDEbZ6-Q7j"
      },
      "execution_count": null,
      "outputs": []
    },
    {
      "cell_type": "code",
      "source": [],
      "metadata": {
        "id": "lzcvPTO_-K_p"
      },
      "execution_count": null,
      "outputs": []
    },
    {
      "cell_type": "markdown",
      "source": [
        "\n",
        "<font color=\"7b71ff\" size=4> Comentarios: </font>\n",
        "\n",
        "---\n",
        "\n",
        "Podemos observar que, incluso sin especificar el tipo de gráfico, por la forma en que presentamos los datos a ChatGPT, logró representar con éxito un visual que muestra la información deseada. Un gráfico de barras es realmente ideal para representar las cantidades de una o más categorías de datos.\n",
        "\n",
        "Iremos ajustando poco a poco los visuales para que se adecuen a nuestro público y reflejen la identidad visual de la empresa.\n"
      ],
      "metadata": {
        "id": "kMyT9b9AMESv"
      }
    },
    {
      "cell_type": "markdown",
      "source": [
        "## **2.2 - Comparando los datos**\n",
        "\n",
        "---"
      ],
      "metadata": {
        "id": "lBBf_RevoKjD"
      }
    },
    {
      "cell_type": "markdown",
      "source": [
        "### **2da Pregunta:** ¿Cuál fue la facturación por categoria em 2023?"
      ],
      "metadata": {
        "id": "sov50T6wMN3L"
      }
    },
    {
      "cell_type": "markdown",
      "source": [
        "**Observación:** Para la facturación, consideraremos aquí el producto entre el precio unitario y la cantidad, sumados al costo de envío de cada producto.\n"
      ],
      "metadata": {
        "id": "kMl9XgD3OGrc"
      }
    },
    {
      "cell_type": "markdown",
      "source": [
        "> #### <strong><font color=\"7b71ff\" size=6>Prompt:</font></strong>\n",
        "\n",
        "Tenemos un DataFrame llamado \"df\" y queremos construir un gráfico de barras horizontales que muestre la facturación por categoría de Zoop.\n",
        "\n",
        "En \"df\", tenemos las siguientes columnas:\n",
        "* categoria: categorías de los productos\n",
        "* precio_unitario: precio de una unidad del producto\n",
        "* cantidad: cantidad vendida del producto\n",
        "* envio: costo de envío total de la compra.\n",
        "\n",
        "Deseamos crear una visualización que muestre la facturación de cada categoría, donde la facturación se calcula multiplicando el precio unitario por la cantidad y sumando el costo de envío.\n",
        "\n",
        "Utiliza las bibliotecas de visualización de datos de Python para crear esta visualización.\n"
      ],
      "metadata": {
        "id": "E4bKaRL8OprF"
      }
    },
    {
      "cell_type": "code",
      "source": [],
      "metadata": {
        "id": "qOkMMd9E-Izm"
      },
      "execution_count": null,
      "outputs": []
    },
    {
      "cell_type": "code",
      "source": [],
      "metadata": {
        "id": "xSOBv0PY-IxQ"
      },
      "execution_count": null,
      "outputs": []
    },
    {
      "cell_type": "markdown",
      "source": [
        "<font color=\"7b71ff\" size=4> Comentarios: </font>\n",
        "\n",
        "---\n",
        "\n",
        "Aquí especificamos el tipo de gráfico, guiando a ChatGPT en la creación de nuestro visual. Podemos notar que en un gráfico de barras el enfoque está más centrado en las categorías, además de ser una forma más fluida de leer textos que podrían ser demasiado extensos para un gráfico de columnas.\n"
      ],
      "metadata": {
        "id": "JtsP9QD1QrpC"
      }
    },
    {
      "cell_type": "markdown",
      "source": [
        "### **3a Pregunta:** ¿Cómo fueron las ventas a lo largo de los meses en 2023?\n"
      ],
      "metadata": {
        "id": "J_r_YqGlQ3RN"
      }
    },
    {
      "cell_type": "markdown",
      "source": [
        "> #### <strong><font color=\"7b71ff\" size=6>Prompt:</font></strong>\n",
        "\n",
        "Tenemos un DataFrame llamado \"df\" y queremos construir un gráfico de líneas que muestre las ventas totales mensuales de Zoop.\n",
        "\n",
        "En \"df\", tenemos las siguientes columnas:\n",
        "* fecha: con las fechas de las compras en formato datetime (`aaaa-mm-dd`)\n",
        "* facturación: calculada como el producto del precio unitario y la cantidad, sumado al costo de envío de cada venta.\n",
        "\n",
        "Deseamos crear una visualización que muestre las ventas por mes. Primero, agrupa los datos por mes y luego crea una nueva columna llamada \"mes\" que contenga el nombre de cada mes, traduciendo los meses del índice mediante el siguiente diccionario. Utiliza la columna \"fecha\" para agrupar los datos y construir el gráfico. La columna \"mes\" solo debe usarse para cambiar las etiquetas del eje x.\n",
        "\n",
        "```\n",
        "meses = {\n",
        "    'January': 'Ene',\n",
        "    'February': 'Feb',\n",
        "    'March': 'Mar',\n",
        "    'April': 'Abr',\n",
        "    'May': 'May',\n",
        "    'June': 'Jun',\n",
        "    'July': 'Jul',\n",
        "    'August': 'Ago',\n",
        "    'September': 'Sep',\n",
        "    'October': 'Oct',\n",
        "    'November': 'Nov',\n",
        "    'December': 'Dic'\n",
        "}\n",
        "```\n",
        "\n",
        "\n",
        "Utiliza las bibliotecas de visualización de datos de Python para crear esta visualización.\n"
      ],
      "metadata": {
        "id": "PaRBTlLgRMot"
      }
    },
    {
      "cell_type": "code",
      "source": [],
      "metadata": {
        "id": "oIHvCV0--HCy"
      },
      "execution_count": null,
      "outputs": []
    },
    {
      "cell_type": "code",
      "source": [],
      "metadata": {
        "id": "vu5IDFOr-G5L"
      },
      "execution_count": null,
      "outputs": []
    },
    {
      "cell_type": "markdown",
      "source": [
        "<font color=\"7b71ff\" size=4> Comentarios: </font>\n",
        "\n",
        "---\n",
        "\n",
        "Cuando tenemos una cantidad mayor de períodos en nuestros datos, vale la pena recurrir a gráficos de líneas, que son ideales para series temporales. Dado que nuestros datos son mensuales, utilizar un gráfico de columnas, por ejemplo, reduciría la percepción de la secuencia de los datos. Las líneas ofrecen una mayor sensación de continuidad.\n",
        "\n",
        "Siéntete libre de formular algunas hipótesis sobre los momentos de alta y baja en las compras.\n"
      ],
      "metadata": {
        "id": "_TI2LDquTpz_"
      }
    },
    {
      "cell_type": "markdown",
      "source": [
        "##**2.3 - Componiendo datos dinámicos**"
      ],
      "metadata": {
        "id": "jjxAkyE4T1PY"
      }
    },
    {
      "cell_type": "markdown",
      "source": [
        "\n",
        "Construimos algunos visuales interesantes para comparar los datos, mostrando las facturaciones de Zoop. Ahora, pasemos a una nueva categoría de visuales: composición.\n",
        "\n",
        "Vamos a hacer una composición dinámica de los datos. Para ello, añadiremos más variables al análisis, incorporando 3 variables diferentes, siendo una de ellas categórica."
      ],
      "metadata": {
        "id": "Ge60lSmKUM-T"
      }
    },
    {
      "cell_type": "markdown",
      "source": [
        "###**4a Pregunta:** ¿Cómo está dividida la venta por trimestre por método de pago? ¿Existe algún período en el que algún tipo de pago se destaque?\n"
      ],
      "metadata": {
        "id": "OkXV3JTaVwQQ"
      }
    },
    {
      "cell_type": "markdown",
      "source": [
        "> #### <strong><font color=\"7b71ff\" size=6>Prompt:</font></strong>\n",
        "\n",
        "Tenemos un DataFrame llamado \"df\" y queremos construir un gráfico de barras apiladas que muestre las ventas por trimestre en relación con el método de pago de Zoop.\n",
        "\n",
        "En \"df\", tenemos las siguientes columnas:\n",
        "* fecha: con las fechas de las compras en formato datetime (`aaaa-mm-dd`)\n",
        "* facturacion: con los valores de las ventas\n",
        "* metodo_pago: con el método de pago elegido en la compra\n",
        "\n",
        "Deseamos crear una visualización que muestre las ventas por trimestre, agrupando los métodos de pago de cada trimestre correspondientes a cada compra.\n",
        "\n",
        "Utiliza las bibliotecas de visualización de datos de Python para crear esta visualización.\n"
      ],
      "metadata": {
        "id": "JblkLnxXWEO-"
      }
    },
    {
      "cell_type": "code",
      "source": [],
      "metadata": {
        "id": "guwcgCqk-EQG"
      },
      "execution_count": null,
      "outputs": []
    },
    {
      "cell_type": "code",
      "source": [],
      "metadata": {
        "id": "90Opj9e4-FPX"
      },
      "execution_count": null,
      "outputs": []
    },
    {
      "cell_type": "markdown",
      "source": [
        "<font color=\"7b71ff\" size=4> Comentarios: </font>\n",
        "\n",
        "---\n",
        "\n",
        "El gráfico de columnas apiladas añade a la comparación entre períodos o categorías, la comparación también entre los datos de cada período/categoría. Es como si pusiéramos una \"lupa\" en cada columna y visualizáramos la composición de cada una de acuerdo con la variable deseada (aquí, las formas de pago).\n",
        "\n",
        "Siéntete libre de formular algunas hipótesis sobre las ventas por trimestre combinadas con el tipo de pago y qué ideas podemos obtener de esta base de datos.\n"
      ],
      "metadata": {
        "id": "qSypZ_2bmp_j"
      }
    },
    {
      "cell_type": "markdown",
      "source": [
        "## **3.1 - Componiendo datos estáticos**\n",
        "\n",
        "---"
      ],
      "metadata": {
        "id": "F4d02EQgm57o"
      }
    },
    {
      "cell_type": "markdown",
      "source": [
        "Inicialmente, presentaremos un ejemplo de cómo podemos utilizar la comparación de datos estáticos, es decir, un recorte en el tiempo o de las variables que poseemos."
      ],
      "metadata": {
        "id": "AlNZXGe4nB9V"
      }
    },
    {
      "cell_type": "markdown",
      "source": [
        "### **5ª Pregunta:** ¿Cuál es la proporción de la clientela que participa en nuestro programa de cashback?"
      ],
      "metadata": {
        "id": "K1Zd-qB0nG4y"
      }
    },
    {
      "cell_type": "markdown",
      "source": [
        "> #### <strong><font color=\"7b71ff\" size=6>Prompt:</font></strong>\n",
        "\n",
        "Tenemos un DataFrame llamado \"df\" y queremos construir un gráfico que muestre la proporción de usuarios(as) que están participando en el programa de cashback de Zoop.\n",
        "\n",
        "En \"df\", tenemos la columna \"cashback\" que contiene estos datos.\n",
        "\n",
        "Utiliza las bibliotecas de visualización de datos de Python para crear esta visualización.\n"
      ],
      "metadata": {
        "id": "BMMcUocynuHZ"
      }
    },
    {
      "cell_type": "code",
      "source": [],
      "metadata": {
        "id": "0GkWNql096-W"
      },
      "execution_count": null,
      "outputs": []
    },
    {
      "cell_type": "code",
      "source": [],
      "metadata": {
        "id": "zgGt0j7B96yz"
      },
      "execution_count": null,
      "outputs": []
    },
    {
      "cell_type": "markdown",
      "source": [
        "> #### <strong><font color=\"7b71ff\" size =6>Prompt:</font></strong>\n",
        "\n",
        "¿Podrías utilizar el color rojo y mantener el azul y cambiar el gráfico anterior a uno tipo rosquilla?\n",
        "\n",
        "Utiliza las bibliotecas de visualización de datos de Python para crear esta visualización.\n"
      ],
      "metadata": {
        "id": "PobyxvuVoJcs"
      }
    },
    {
      "cell_type": "code",
      "source": [],
      "metadata": {
        "id": "IFLDq1fR94iG"
      },
      "execution_count": null,
      "outputs": []
    },
    {
      "cell_type": "code",
      "source": [],
      "metadata": {
        "id": "W2RPn0R994dT"
      },
      "execution_count": null,
      "outputs": []
    },
    {
      "cell_type": "markdown",
      "source": [
        "<font color=\"7b71ff\" size=4> Comentarios: </font>\n",
        "\n",
        "---\n",
        "\n",
        "¡Mira eso! Una vez más, la IA nos presentó una buena idea de qué gráfico aplicar para este caso, pero ¿notaste que \"ella\" no tiene idea de los datos que poseemos?\n",
        "\n",
        "Debemos estar atentos a esto, ya que solo le proporcionamos los nombres de las columnas y los datos que había allí. La IA no puede saber si un valor es positivo o negativo, por ejemplo. Por eso, el \"no\" estaba en azul y el \"sí\" en verde. En el siguiente prompt, le indicamos que sustituyera el color verde por el rojo (sin mencionar el valor real de los datos) y pedimos una modificación en el visual.\n",
        "\n",
        "¿Qué tal si experimentas hacer otros pedidos y ves cómo se comporta ChatGPT?\n",
        "\n",
        "Hablando del gráfico, los gráficos de sectores son ideales para pocas categorías de datos, preferiblemente datos dicotómicos (2 categorías, como sí y no, gato y perro...). Representan la proporción de los datos de manera estática."
      ],
      "metadata": {
        "id": "8l2x5b6hp599"
      }
    },
    {
      "cell_type": "markdown",
      "source": [
        "## **3.2 - Distribuyendo Datos**\n",
        "\n",
        "---\n"
      ],
      "metadata": {
        "id": "SNbkQrsFqFNk"
      }
    },
    {
      "cell_type": "markdown",
      "source": [
        "Con la ayuda de la IA, generaremos más gráficos que serán importantes para la construcción del storytelling del informe de Zoop, según lo solicitado. Ahora, partiendo de la distribución de datos, vamos a analizar el perfil de los clientes y cómo evalúan sus compras en Zoop."
      ],
      "metadata": {
        "id": "Ug_Y1GAoqTzO"
      }
    },
    {
      "cell_type": "markdown",
      "source": [
        "### **6ª Pregunta:** ¿Cómo están distribuidas las calificaciones de la compra? ¿Tenemos buenos números en general?  \n"
      ],
      "metadata": {
        "id": "U_N9EmtCqX2h"
      }
    },
    {
      "cell_type": "markdown",
      "source": [
        "Vamos a pedirle a ChatGPT que nos ayude a construir este visual. Veamos si esta IA puede representar estos datos con un visual adecuado."
      ],
      "metadata": {
        "id": "EF6gJ5-UqxPO"
      }
    },
    {
      "cell_type": "markdown",
      "source": [
        "> #### <strong><font color=\"7b71ff\" size=6>Prompt:</font></strong>\n",
        "\n",
        "Tenemos un DataFrame llamado \"df\" y queremos construir un gráfico que muestre la distribución de las evaluaciones del público en relación con las compras realizadas en la tienda online.\n",
        "\n",
        "En \"df\", tenemos la columna \"nota\" con las calificaciones otorgadas por cada usuario en relación con la compra que realizaron, que varían de 0 a 10 en números enteros.\n",
        "\n",
        "Deseamos crear una visualización que muestre la distribución de estos datos.\n",
        "\n",
        "Utiliza las bibliotecas de visualización de datos de Python para crear este gráfico.\n"
      ],
      "metadata": {
        "id": "zx_gd4sDrJif"
      }
    },
    {
      "cell_type": "code",
      "source": [],
      "metadata": {
        "id": "2T2Oli-291qg"
      },
      "execution_count": null,
      "outputs": []
    },
    {
      "cell_type": "code",
      "source": [],
      "metadata": {
        "id": "vOEZcqg592nl"
      },
      "execution_count": null,
      "outputs": []
    },
    {
      "cell_type": "markdown",
      "source": [
        "<font color=\"7b71ff\" size=4> Comentarios: </font>\n",
        "\n",
        "---\n",
        "\n",
        "Una vez más, no necesitamos especificar directamente el tipo de gráfico, ya que al mencionar la distribución de valores numéricos de una simple columna, ChatGPT logró interpretar y proporcionar el código para un histograma de columnas. Este gráfico es ideal para presentar la distribución de una muestra de datos o población. Cada columna aquí representa la frecuencia de repetición de un valor.\n",
        "\n",
        "¿Te gustaría experimentar haciendo lo mismo solo con las edades?\n"
      ],
      "metadata": {
        "id": "HPkcf36FruTa"
      }
    },
    {
      "cell_type": "markdown",
      "source": [
        "### **7ª Pregunta:** ¿Cómo está distribuida nuestra audiencia por edad y sexo biológico? ¿Existe algún grupo que sobresalga?\n"
      ],
      "metadata": {
        "id": "4rCwNOpor_3f"
      }
    },
    {
      "cell_type": "markdown",
      "source": [
        "> #### <strong><font color=\"7b71ff\" size=6>Prompt:</font></strong>\n",
        "\n",
        "Tenemos un DataFrame llamado \"df\" y queremos construir un gráfico que muestre la distribución de nuestra audiencia por edad y sexo biológico.\n",
        "\n",
        "En \"df\", tenemos las columnas:\n",
        "* edad: edad de la persona que realizó la compra\n",
        "* sexo_biologico: sexo biológico de la persona que realizó la compra, con datos categóricos\n",
        "\n",
        "Deseamos crear una visualización que muestre la distribución de estos datos.\n",
        "\n",
        "Utiliza las bibliotecas de visualización de datos de Python para crear esta visualización.\n"
      ],
      "metadata": {
        "id": "KcN5kO0IsL3j"
      }
    },
    {
      "cell_type": "code",
      "source": [],
      "metadata": {
        "id": "VG2IJpls9y8e"
      },
      "execution_count": null,
      "outputs": []
    },
    {
      "cell_type": "code",
      "source": [],
      "metadata": {
        "id": "VQJ0ru5z9zce"
      },
      "execution_count": null,
      "outputs": []
    },
    {
      "cell_type": "markdown",
      "source": [
        "<font color=\"7b71ff\" size=4> Comentarios: </font>\n",
        "\n",
        "---\n",
        "El gráfico generado es poco práctico, ya que compila los datos del sexo biológico 'Masculino' y 'Femenino' en el gráfico de violín. Necesitamos darle una instrucción adicional a GPT para elegir un visual más adecuado.\n"
      ],
      "metadata": {
        "id": "E4paklFNtAcj"
      }
    },
    {
      "cell_type": "markdown",
      "source": [
        "> #### <strong><font color=\"7b71ff\" size=6>Prompt:</font></strong>\n",
        "\n",
        "Creo que podemos mejorar este gráfico. ¿Qué te parece cambiar a un boxplot?\n"
      ],
      "metadata": {
        "id": "aLtugLAptYov"
      }
    },
    {
      "cell_type": "code",
      "source": [],
      "metadata": {
        "id": "Jqqz4TlQ9v6q"
      },
      "execution_count": null,
      "outputs": []
    },
    {
      "cell_type": "code",
      "source": [],
      "metadata": {
        "id": "PAqCODSk9xBY"
      },
      "execution_count": null,
      "outputs": []
    },
    {
      "cell_type": "markdown",
      "source": [
        "<font color=\"7b71ff\" size=4> Comentarios: </font>\n",
        "\n",
        "---\n",
        "\n",
        "Esta vez fue necesario guiar a la IA para generar una visualización mejor para nuestros análisis.\n",
        "\n",
        "El gráfico representado es un boxplot (diagrama de caja) que es ideal para representar un conjunto de datos de acuerdo con 5 medidas de interés: valor máximo, mínimo, 1º cuartil (donde están situados el 25% de los datos), 2º cuartil o mediana (donde están situados el 50% de los datos) y 3º cuartil (donde están situados el 75% de los datos).\n",
        "\n",
        "¿Recuerdas el `describe()`? Este gráfico presenta en un solo elemento gran parte de los datos que la función muestra en tabla.\n",
        "\n",
        "Concluimos la 1ª versión de los 7 visuales que utilizaremos en nuestro proyecto. Ahora, pasaremos a la aplicación de las técnicas de storytelling para mejorar los visuales y adaptarlos a la identidad visual de Zoop antes de la exportación.\n"
      ],
      "metadata": {
        "id": "9zx_z6_atzI1"
      }
    },
    {
      "cell_type": "markdown",
      "source": [
        "## **4.1 - Definiendo los colores del proyecto**\n",
        "\n",
        "---\n"
      ],
      "metadata": {
        "id": "iY_2Eyb_t5eJ"
      }
    },
    {
      "cell_type": "markdown",
      "source": [
        "Ahora, vamos a explorar la importancia de los colores en la visualización de datos, discutir cómo las personas perciben e interpretan la información visual, y abordar la diferencia entre la capacidad de la inteligencia artificial y la visión humana en lo que respecta a la elección de colores y accesibilidad.\n",
        "\n"
      ],
      "metadata": {
        "id": "O2A2lR9Rudzm"
      }
    },
    {
      "cell_type": "markdown",
      "source": [
        "### Paleta de colores de Zoop:"
      ],
      "metadata": {
        "id": "Pk3CRrLIujxQ"
      }
    },
    {
      "cell_type": "markdown",
      "source": [
        "<img src=\"https://raw.githubusercontent.com/alura-cursos/ia-datascience-dataviz/main/imagens/paleta_cores/zoop_paleta_cores.png\" alt=\"inserir alt\" width=480>\n",
        "\n",
        "&nbsp;\n",
        "\n",
        "#### Paleta del proyecto\n",
        "\n",
        "|Rojo|||\n",
        "|------|------|------|\n",
        "| Rojo_1 |Rojo_2 |Rojo_3 |\n",
        "|#e23155 | #cc2c4e| #b32742 |\n",
        "| ![adicionar desc](https://raw.githubusercontent.com/alura-cursos/ia-datascience-dataviz/main/imagens/paleta_cores/VERMELHO_1.png)  |![adicionar desc](https://raw.githubusercontent.com/alura-cursos/ia-datascience-dataviz/main/imagens/paleta_cores/VERMELHO_2.png) |![adicionar desc](https://raw.githubusercontent.com/alura-cursos/ia-datascience-dataviz/main/imagens/paleta_cores/VERMELHO_3.png) |\n",
        "\n",
        "&nbsp;\n",
        "\n",
        "|Azul|||\n",
        "|------|------|------|\n",
        "| AZUL_1 |AZUL_2 |AZUL_3 |\n",
        "|#203f75 | #1c3867| #19325b |\n",
        "| ![adicionar desc](https://raw.githubusercontent.com/alura-cursos/ia-datascience-dataviz/main/imagens/paleta_cores/AZUL_1.png)  |![adicionar desc](https://raw.githubusercontent.com/alura-cursos/ia-datascience-dataviz/main/imagens/paleta_cores/AZUL_2.png) |![adicionar desc](https://raw.githubusercontent.com/alura-cursos/ia-datascience-dataviz/main/imagens/paleta_cores/AZUL_3.png) |\n",
        "\n",
        "&nbsp;\n",
        "\n",
        "|Gris||||||\n",
        "|------|------|------|------|------|------|\n",
        "|BLANCO| GRIS_1 |GRIS_2 |GRIS_3 |GRIS_4 |GRIS_5 |\n",
        "|#ffffff | #ebebeb | #d9d9d9| #cccccc | #555655| #231f20 |\n",
        "| ![adicionar desc](https://raw.githubusercontent.com/alura-cursos/ia-datascience-dataviz/main/imagens/paleta_cores/BRANCO.png)  |![adicionar desc](https://raw.githubusercontent.com/alura-cursos/ia-datascience-dataviz/main/imagens/paleta_cores/CINZA_1.png) |![adicionar desc](https://raw.githubusercontent.com/alura-cursos/ia-datascience-dataviz/main/imagens/paleta_cores/CINZA_2.png) |![adicionar desc](https://raw.githubusercontent.com/alura-cursos/ia-datascience-dataviz/main/imagens/paleta_cores/CINZA_3.png) |![adicionar desc](https://raw.githubusercontent.com/alura-cursos/ia-datascience-dataviz/main/imagens/paleta_cores/CINZA_4.png)|![adicionar desc](https://raw.githubusercontent.com/alura-cursos/ia-datascience-dataviz/main/imagens/paleta_cores/CINZA_5.png)|\n",
        "\n",
        "&nbsp;\n",
        "\n",
        "|Aqua|||\n",
        "|------|------|------|\n",
        "| AQUA_1 |AQUA_2 |AQUA_3 |\n",
        "|#addcd4 | #9fccc5| #96bfb9 |\n",
        "| ![adicionar desc](https://raw.githubusercontent.com/alura-cursos/ia-datascience-dataviz/main/imagens/paleta_cores/AQUA_1.png)  |![adicionar desc](https://raw.githubusercontent.com/alura-cursos/ia-datascience-dataviz/main/imagens/paleta_cores/AQUA_2.png) |![adicionar desc](https://raw.githubusercontent.com/alura-cursos/ia-datascience-dataviz/main/imagens/paleta_cores/AQUA_3.png) |\n",
        "\n",
        "&nbsp;\n"
      ],
      "metadata": {
        "id": "46BuOvoyvZDR"
      }
    },
    {
      "cell_type": "code",
      "source": [
        "# Adicionamos los colores al proyecto\n",
        "ROJO_1,\tROJO_2,\tROJO_3 = \"#e23155\",\t\"#cc2c4e\", \"#b32742\"\n",
        "AZUL_1,\tAZUL_2,\tAZUL_3 = \"#203f75\",\t\"#1c3867\", \"#19325b\"\n",
        "BLANCO,GRIS_1, GRIS_2, GRIS_3, GRIS_4,\tGRIS_5 = \"#ffffff\", \"#ebebeb\",\t\"#d9d9d9\", \"#cccccc\", \"#555655\", \"#231f20\"\n",
        "AQUA_1,\tAQUA_2,\tAQUA_3 = \"#addcd4\",\t\"#9fccc5\", \"#96bfb9\""
      ],
      "metadata": {
        "id": "Me629U_iwEky"
      },
      "execution_count": null,
      "outputs": []
    },
    {
      "cell_type": "markdown",
      "source": [
        "<font size=5> ***¿Por qué definimos nosotros mismos los colores del proyecto?*** </font>\n"
      ],
      "metadata": {
        "id": "FKvxEoocwe0h"
      }
    },
    {
      "cell_type": "markdown",
      "source": [
        "1. **Percepción humana de los colores:**\n",
        "\n",
        "Nuestro cerebro interpreta los colores de manera única, asociando emociones y significados a cada tonalidad. Es importante, al elegir los colores para representar datos, considerar la percepción humana para asegurar que la información se transmita de manera clara y eficaz. Además de seguir la identidad visual de Zoop, es decir, dar esa sensación de que el visual es de Zoop.\n",
        "\n",
        "2. **Accesibilidad:**\n",
        "\n",
        "Ciertas combinaciones de colores pueden ser difíciles de percibir para personas con deficiencias visuales. Nuestra responsabilidad como desarrolladores es garantizar que nuestras visualizaciones sean inclusivas. Aquí seguiremos algunas directrices y recomendaciones para crear gráficos accesibles.\n",
        "\n",
        "3. **IA vs. elección de colores:**\n",
        "\n",
        "Mientras que la IA puede realizar tareas complejas, como análisis de datos y reconocimiento de patrones, aún no posee el discernimiento humano cuando se trata de elegir colores significativos y garantizar la accesibilidad. Aquí es donde entra nuestra intervención creativa y consideración humana.\n",
        "\n",
        "4. **Experiencia visual:**\n",
        "\n",
        "¿Las personas pueden entender la información transmitida por los gráficos? ¿Existe algún \"conflicto\" entre los colores que perjudica la claridad del mensaje? Vamos a explorar técnicas para mejorar la experiencia visual, como el contraste adecuado, la elección cuidadosa de los colores de la paleta y el destaque de elementos clave.\n",
        "\n",
        "¿Vamos ahora a sumergirnos en la práctica e incorporar estos conceptos a nuestro proyecto?\n"
      ],
      "metadata": {
        "id": "Ow7ELrgow1h8"
      }
    },
    {
      "cell_type": "markdown",
      "source": [
        "## **4.2 - Añadiendo etiquetas y rótulos**"
      ],
      "metadata": {
        "id": "uMM8DVcByPe3"
      }
    },
    {
      "cell_type": "markdown",
      "source": [
        "Ya hemos creado anteriormente los 7 visuales y definido los colores del proyecto. Ahora, vamos a elegir solo uno de los visuales para comprender cómo podemos utilizar la IA para agregar los colores ideales, las etiquetas de los datos, títulos y etiquetas de los ejes.\n",
        "\n",
        "Entonces, tomaremos el código de ese primer gráfico (Métodos de pago utilizados) y exploraremos estos cambios a través de la utilización de la IA."
      ],
      "metadata": {
        "id": "eUirAlyP66lC"
      }
    },
    {
      "cell_type": "code",
      "source": [],
      "metadata": {
        "id": "FrvfCM5c9irn"
      },
      "execution_count": null,
      "outputs": []
    },
    {
      "cell_type": "code",
      "source": [],
      "metadata": {
        "id": "hXV8LKx-9kNb"
      },
      "execution_count": null,
      "outputs": []
    },
    {
      "cell_type": "markdown",
      "source": [
        "<strong><font color=\"7b71ff\" size =6>Prompt:</font></strong>\n",
        "\n",
        "Ahora llegó el momento de refinar nuestras visualizaciones. Comencemos con el primer gráfico que hicimos, el de los métodos de pago.\n",
        "\n",
        "Nuestro gráfico necesita seguir la identidad visual de Zoop, con el fondo de la figura y del gráfico en el color GRIS_1, las columnas en el color ROJO_1 y el tamaño de la figura debe ser de (10, 6).\n",
        "\n",
        "El título de la figura es \"Métodos de pago más utilizados en 2023\" con tamaño 18 y su color GRIS_5.\n",
        "\n",
        "Las etiquetas del eje y (yticks) deben ser suprimidas así como la etiqueta del eje y (ylabel) y las etiquetas, y la etiqueta del eje x (xticks y xlabel) deben tener tamaño 12 con el color AZUL_1. Los bordes superior, derecho e izquierdo del gráfico deben ser suprimidos.\n",
        "\n",
        "Además, es necesario mostrar el total de cada método de pago encima de cada columna, con el texto también en el color AZUL_1 y tamaño 12.\n",
        "\n",
        "Utiliza las bibliotecas de visualización de datos de Python para crear esta visualización. Recuerda que las variables de los colores que estamos utilizando tienen valores de colores ya en hexadecimal."
      ],
      "metadata": {
        "id": "Y7M7NxMO-zpp"
      }
    },
    {
      "cell_type": "code",
      "source": [],
      "metadata": {
        "id": "sFcS3Yq-9gca"
      },
      "execution_count": null,
      "outputs": []
    },
    {
      "cell_type": "code",
      "source": [],
      "metadata": {
        "id": "XxX_MQCR9hub"
      },
      "execution_count": null,
      "outputs": []
    },
    {
      "cell_type": "markdown",
      "source": [
        "<font color=\"7b71ff\" size=4> Comentarios: </font>\n",
        "\n",
        "---\n",
        "¡Vaya! Parece otro gráfico, ¿verdad?\n",
        "\n",
        "Eliminamos muchos elementos distractores y añadimos solo la información que nos interesaba. Además, cambiamos el diseño de un estado genérico a un formato que se ajusta a la identidad de Zoop, dejando nuestro gráfico listo para ser utilizado, por ejemplo, en el informe de ventas.\n",
        "\n",
        "Más adelante aplicaremos estas acciones a los otros visuales. Nuestro enfoque aquí es entender las técnicas de storytelling y cómo combinarlas con la IA puede ser bastante útil.\n"
      ],
      "metadata": {
        "id": "NDFhZh_SBDlK"
      }
    },
    {
      "cell_type": "markdown",
      "source": [
        "## **4.3 - Añadiendo textos**\n",
        "\n",
        "---\n"
      ],
      "metadata": {
        "id": "wy6Gl_00BN8y"
      }
    },
    {
      "cell_type": "markdown",
      "source": [
        "Ya hemos refinado uno de los gráficos en la etapa anterior. Ahora, vamos a traer ese gráfico, añadiendo un elemento más que puede ser importante para los análisis: textos informativos. Utilizaremos la IA nuevamente para este proceso."
      ],
      "metadata": {
        "id": "Z-sK2ZcFBfB9"
      }
    },
    {
      "cell_type": "markdown",
      "source": [
        "> #### <strong><font color=\"7b71ff\" size =6>Prompt:</font></strong>\n",
        "\n",
        "¡El gráfico quedó muy bien!\n",
        "\n",
        "Ahora quiero añadir un texto dentro del área del gráfico, ¿vamos allá?\n",
        "\n",
        "Para ello, suma los valores de las dos primeras columnas, divide por la suma de todas las columnas y convierte a formato de porcentaje, almacenando en la variable \"porcentaje\".\n",
        "\n",
        "Ahora, en la posición x=1.5 y y=2500, añade el siguiente texto con tamaño 10 y color AZUL_3: f\"$\\\\bf{porcentaje:.2f}$% de los clientes utilizan Tarjeta de Crédito o Transferencia \\npara el pago. Sería interesante considerar asociaciones con \\nbancos para la creación de un Zoop Pay con el fin de fidelizar \\na nuestra clientela.\"."
      ],
      "metadata": {
        "id": "rA4Nrw1cBi88"
      }
    },
    {
      "cell_type": "code",
      "source": [],
      "metadata": {
        "id": "Yn00W8j79Zqa"
      },
      "execution_count": null,
      "outputs": []
    },
    {
      "cell_type": "code",
      "source": [],
      "metadata": {
        "id": "JyOzs6s59cjw"
      },
      "execution_count": null,
      "outputs": []
    },
    {
      "cell_type": "markdown",
      "source": [
        "<font color=\"7b71ff\" size=4> Comentarios: </font>\n",
        "\n",
        "---\n",
        "\n",
        "Aprovechamos el área útil para presentar una *idea* que tuvimos al describir los datos de los métodos de pago. Esto aumenta significativamente la relevancia de los datos representados y proporciona más información a quien lo lee.\n"
      ],
      "metadata": {
        "id": "i-gjTFXiCa6l"
      }
    },
    {
      "cell_type": "markdown",
      "source": [
        "## **4.4 - Agregar elementos visuales**\n",
        "\n",
        "---\n"
      ],
      "metadata": {
        "id": "iDkaLxz4ChsD"
      }
    },
    {
      "cell_type": "markdown",
      "source": [
        "¿Qué tal el uso de textos informativos, verdad? ¿Y si ahora añadimos otros elementos visuales a uno de nuestros gráficos?\n",
        "\n",
        "Vamos a elegir ahora el gráfico de líneas (Ventas totales mensuales de Zoop) y aplicar una técnica más a él mediante el uso de la IA.\n"
      ],
      "metadata": {
        "id": "d0u1EJ6KC1b1"
      }
    },
    {
      "cell_type": "code",
      "source": [],
      "metadata": {
        "id": "XsIYrUqW9UgH"
      },
      "execution_count": null,
      "outputs": []
    },
    {
      "cell_type": "code",
      "source": [],
      "metadata": {
        "id": "Lye9rKE-9V8S"
      },
      "execution_count": null,
      "outputs": []
    },
    {
      "cell_type": "markdown",
      "source": [
        "> #### <strong><font color=\"7b71ff\" size =6>Prompt:</font></strong>\n",
        "\n",
        "¿Vamos a explorar otro de los gráficos que hicimos? Ahora vamos a utilizar el de Ventas totales mensuales de Zoop. La variable que pasa los valores mensuales es:\n",
        "```\n",
        "ventas_mensuales = df.groupby(df['fecha'].dt.to_period('M'))['facturacion'].sum().reset_index()\n",
        "```\n",
        "Pero debes sustituirla por:\n",
        "```\n",
        "df['mes'] = df['fecha'].dt.strftime('%B')\n",
        "ventas_mensuales = df.groupby('mes')['facturacion'].sum().reindex(meses.keys())\n",
        "```\n",
        "En el que `df['fecha']` corresponde a las fechas en formato datetime y `df['facturacion']` a los valores de las ventas.\n",
        "\n",
        "Y lo que generó el gráfico original fue:\n",
        "\n",
        "```\n",
        "sns.lineplot(x='mes', y='facturacion', data=ventas_mensuales, marker='o', sort=False)\n",
        "```\n",
        "Pero debes utilizar únicamente la biblioteca matplotlib con la creación del gráfico siguiendo este ejemplo:\n",
        "\n",
        "```\n",
        "plt.plot(ventas_mensuales.index, ventas_mensuales, marker='o', color='#1890FF', linewidth=2)\n",
        "```\n",
        "\n",
        "Nuestro gráfico debe seguir la identidad visual de Zoop, con el fondo de la figura y del gráfico en color GRIS_1, la línea en color AZUL_1 y el tamaño de la figura debe ser de (12, 6).\n",
        "\n",
        "El título de la figura es \"Ventas totales mensuales en 2023\" con tamaño 18 y su color GRIS_5.\n",
        "\n",
        "Las etiquetas del eje y (yticks) deben estar en el formato \"MXN$ valor M\" con dos decimales, tamaño 12 y color AZUL_1.\n",
        "\n",
        "Las etiquetas del eje X (xticks) deben tener tamaño 12 con color AZUL_1. Los labels de los ejes x e y (xlabel e ylabel) deben ser suprimidos. Los bordes del gráfico en la parte superior y el lado derecho deben ser suprimidos.\n",
        "\n",
        "Utiliza las bibliotecas de visualización de datos de Python para crear esta visualización. Recuerda que las variables de colores que estamos utilizando tienen valores de colores ya en hexadecimal.\n"
      ],
      "metadata": {
        "id": "OW7diglQDdZS"
      }
    },
    {
      "cell_type": "code",
      "source": [],
      "metadata": {
        "id": "qCsO8Oh_9SkC"
      },
      "execution_count": null,
      "outputs": []
    },
    {
      "cell_type": "code",
      "source": [],
      "metadata": {
        "id": "JNAntiF09W1L"
      },
      "execution_count": null,
      "outputs": []
    },
    {
      "cell_type": "markdown",
      "source": [
        "> #### <strong><font color=\"7b71ff\" size =6>Prompt:</font></strong>\n",
        "\n",
        "¡Genial! Ahora que nuestro gráfico ya tiene la identidad visual, vamos a añadir algunos elementos visuales adicionales.\n",
        "\n",
        "Dibuja 4 círculos de radio 200, transparentes con el borde en color ROJO_1 y con el centro en las coordenadas del 5º, 8º, 11º y 12º puntos, respectivamente. A la izquierda de cada círculo enumera del 1 al 4.\n"
      ],
      "metadata": {
        "id": "2AwdD-waFPEX"
      }
    },
    {
      "cell_type": "code",
      "source": [],
      "metadata": {
        "id": "o5_JOMJd9Nhy"
      },
      "execution_count": null,
      "outputs": []
    },
    {
      "cell_type": "code",
      "source": [],
      "metadata": {
        "id": "O7GqzHlg9XWb"
      },
      "execution_count": null,
      "outputs": []
    },
    {
      "cell_type": "markdown",
      "source": [
        "<font color=\"7b71ff\" size=4> Comentarios: </font>\n",
        "\n",
        "---\n",
        "\n",
        "Hemos añadido 4 círculos que representan los puntos con mayor volumen de ventas de Zoop en 2023. Podemos plantear algunas hipótesis:\n",
        "\n",
        "1. En mayo, tenemos una de las fechas más relevantes en ventas: el Día de las Madres, lo que puede justificar el aumento en las ventas de Zoop.\n",
        "2. En agosto, hay una situación que pueden explicar el crecimiento: la vuelta a clases en el segundo semestre en algunos estados de Mexico.\n",
        "3. En noviembre, destaca la Black Friday, uno de los principales períodos de alta en las ventas, considerado de gran relevancia para el comercio minorista.\n",
        "4. En diciembre, tenemos  las festividades de Año Nuevo, consideradas el período de mayores ventas no solo para Zoop, sino para el comercio minorista en general.\n",
        "\n",
        "La recomendación es investigar más a fondo los datos y llegar a tus propias conclusiones.\n"
      ],
      "metadata": {
        "id": "IjV7mgbSF7HL"
      }
    },
    {
      "cell_type": "markdown",
      "source": [
        "Antes de ajustar los últimos 5 visuales de nuestro proyecto, vamos a hacer una pequeña modificación en los 2 primeros, convirtiéndolos en funciones, lo que facilitará más adelante cuando realicemos la exportación\n"
      ],
      "metadata": {
        "id": "ynaOuTScHfzi"
      }
    },
    {
      "cell_type": "markdown",
      "source": [
        "# **Clase 5 - Finalizando el proyecto**"
      ],
      "metadata": {
        "id": "NdXjUc-K6N0r"
      }
    },
    {
      "cell_type": "markdown",
      "source": [
        "Antes de ajustar los últimos 5 visuales de nuestro proyecto, haremos una pequeña modificación en los 2 primeros pasándolos a función, lo que facilitará más adelante cuando realicemos la exportación de los visuales.\n"
      ],
      "metadata": {
        "id": "nPd_trF36h7_"
      }
    },
    {
      "cell_type": "markdown",
      "source": [
        "### **Gráfico 1 - Métodos de pago más utilizados en 2023:**"
      ],
      "metadata": {
        "id": "2RnTvZsv8Ejs"
      }
    },
    {
      "cell_type": "code",
      "source": [],
      "metadata": {
        "id": "SsgOQNU68_qO"
      },
      "execution_count": null,
      "outputs": []
    },
    {
      "cell_type": "code",
      "source": [],
      "metadata": {
        "id": "mqqKAc3q8_i0"
      },
      "execution_count": null,
      "outputs": []
    },
    {
      "cell_type": "markdown",
      "source": [
        "### **Gráfico 2 - Total de ventas mensuales en 2023:**"
      ],
      "metadata": {
        "id": "7__1mu6pA5iX"
      }
    },
    {
      "cell_type": "code",
      "source": [],
      "metadata": {
        "id": "RIHH6PyH89ir"
      },
      "execution_count": null,
      "outputs": []
    },
    {
      "cell_type": "code",
      "source": [],
      "metadata": {
        "id": "zP_x0_QF89Ul"
      },
      "execution_count": null,
      "outputs": []
    },
    {
      "cell_type": "markdown",
      "source": [
        "Ahora que guardamos los 2 primeros gráficos en función, vamos a modificar uno más, **Facturación por categoría de producto en 2023**, utilizando las técnicas de storytelling que ya hemos aprendido.\n"
      ],
      "metadata": {
        "id": "j4QB6Ph8XyPt"
      }
    },
    {
      "cell_type": "markdown",
      "source": [
        "### **Gráfico 3 - Facturación por categoría de producto en 2023:**\n"
      ],
      "metadata": {
        "id": "cC-LvjjVYMXJ"
      }
    },
    {
      "cell_type": "markdown",
      "source": [
        "Vamos a continuar con los gráficos generados a lo largo de las clases, partiendo ahora del gráfico de facturación por categoría de producto aplicando las técnicas de storytelling que aprendimos aquí en el curso mediante el uso de la IA.\n"
      ],
      "metadata": {
        "id": "4vux7UVbYXLz"
      }
    },
    {
      "cell_type": "code",
      "source": [],
      "metadata": {
        "id": "ygY4gS5K87Zr"
      },
      "execution_count": null,
      "outputs": []
    },
    {
      "cell_type": "markdown",
      "source": [
        "> #### <strong><font color=\"7b71ff\" size=6>Prompt:</font></strong>\n",
        "\n",
        "¿Vamos a proceder con otro gráfico? Ahora, vamos refinar el gráfico de facturación por categoría. Recuerda que este gráfico fue de barras horizontales.\n",
        "\n",
        "El script original del gráfico es el siguiente:\n",
        "\n",
        "```python\n",
        "\n",
        "# 1. Calcular la facturación para cada compra\n",
        "df['facturacion'] = (df['precio_unitario'] * df['cantidad']) + df['envio']\n",
        "\n",
        "# 2. Agrupar por categoría y sumar la facturación\n",
        "facturacion_categoria = df.groupby('categoria')['facturacion'].sum().reset_index()\n",
        "\n",
        "# 3. Ordenar los datos por facturación de mayor a menor\n",
        "facturacion_categoria = facturacion_categoria.sort_values(by='facturacion', ascending=False)\n",
        "\n",
        "# 4. Crear el gráfico de barras horizontales\n",
        "plt.figure(figsize=(10, 6))\n",
        "sns.barplot(x='facturacion', y='categoria', data=facturacion_categoria, palette='viridis',orient='h')\n",
        "\n",
        "# 5. Añadir etiquetas y título\n",
        "plt.title('Facturación por Categoría de Producto', fontsize=16)\n",
        "plt.xlabel('Facturación (en MXN$)', fontsize=12)\n",
        "plt.ylabel('Categoría', fontsize=12)\n",
        "\n",
        "# 6. Mostrar el gráfico\n",
        "plt.show()\n",
        "```\n",
        "Nuestro gráfico debe seguir la identidad visual de Zoop, con el fondo de la figura y del gráfico en el color GRIS_1, las barras en el color AQUA_1 y el tamaño de la figura debe ser de (10, 6).\n",
        "\n",
        "El título de la figura es \"Facturación por categoría de producto en 2023\" con tamaño 18 y su color GRIS_5.\n",
        "\n",
        "Las etiquetas del eje x (xticks) deben ser suprimidas al igual que los labels de los ejes x y y (xlabel y ylabel), y las etiquetas del eje y (yticks) deben tener tamaño 12 con el color AZUL_1. Todas las bordes del gráfico deben ser suprimidas.\n",
        "\n",
        "Además, es necesario mostrar el total de la facturación de cada categoría al lado derecho de cada barra, con el texto también en color AZUL_1 y tamaño 12.\n",
        "\n",
        "También vamos a agregar un texto dentro del área del gráfico. Para ello, divide el valor de la 1ª barra entre la suma de todas las barras y conviértelo en un porcentaje, almacenándolo en la variable \"porcentaje\".\n",
        "\n",
        "Ahora, en la posición x = 0.4e7 y y = 5, agrega el siguiente texto con tamaño 12 y color AZUL_3: `f\"$\\\\bf{porcentaje:.2f}$% de las ventas corresponden únicamente a las ventas de Electrónica.\\nEsto equivale a casi el doble en relación con todas las demás categorías\\npresentes en el portafolio de Zoop.\"`.\n",
        "\n",
        "Utiliza las bibliotecas de visualización de datos de Python para crear esta visualización.\n"
      ],
      "metadata": {
        "id": "NQieRpg1h8zh"
      }
    },
    {
      "cell_type": "code",
      "source": [],
      "metadata": {
        "id": "95i11Mwu85gF"
      },
      "execution_count": null,
      "outputs": []
    },
    {
      "cell_type": "code",
      "source": [],
      "metadata": {
        "id": "lC5AgN8s85ZT"
      },
      "execution_count": null,
      "outputs": []
    },
    {
      "cell_type": "markdown",
      "source": [
        "<font color=\"7b71ff\" size=4> Comentarios: </font>\n",
        "\n",
        "---\n",
        "\n",
        "Hicimos con un solo prompt la inserción de las etiquetas, la modificación de los colores y añadimos un texto explicativo. Con la secuencia de explicaciones para ChatGPT, este reconoce algunos patrones en la construcción y genera parte del código incluso sin más detalles.\n"
      ],
      "metadata": {
        "id": "fhxRtCmbrpjM"
      }
    },
    {
      "cell_type": "markdown",
      "source": [
        "## **5.2 - Ajustando los visuales de composición**\n",
        "\n",
        "---\n"
      ],
      "metadata": {
        "id": "KsEbRFBXsVcV"
      }
    },
    {
      "cell_type": "markdown",
      "source": [
        "Ya hemos llegado a prácticamente la mitad de los gráficos refinados. Ahora, en este tema, ajustaremos 2 más aplicando las técnicas de storytelling que aprendimos aquí en el curso mediante el uso de la IA.\n"
      ],
      "metadata": {
        "id": "hMgOAYDnsfPQ"
      }
    },
    {
      "cell_type": "markdown",
      "source": [
        "### **Gráfico 4 - Ventas por trimestre y método de pago:**"
      ],
      "metadata": {
        "id": "KUwT_68wPtt7"
      }
    },
    {
      "cell_type": "code",
      "source": [],
      "metadata": {
        "id": "QX0rdGsW83ZL"
      },
      "execution_count": null,
      "outputs": []
    },
    {
      "cell_type": "markdown",
      "source": [
        "> #### <strong><font color=\"7b71ff\" size=6>Prompt:</font></strong>\n",
        "\n",
        "Ahora vamos con el gráfico de Ventas por Trimestre y Método de Pago que producimos anteriormente. Vamos a refinarlo usando las siguientes directrices.\n",
        "\n",
        "Recuerda que el script original del gráfico es el siguiente:\n",
        "```python\n",
        "\n",
        "# 1. Crear una nueva columna 'trimestre' que extrae el trimestre de la columna 'fecha'\n",
        "df['trimestre'] = df['fecha'].dt.to_period('Q')\n",
        "\n",
        "# 2. Agrupar los datos por trimestre y método de pago, sumando la facturación\n",
        "ventas_trimestre = df.groupby(['trimestre', 'metodo_pago'])['facturacion'].sum().unstack()\n",
        "\n",
        "# 3. Crear el gráfico de barras apiladas\n",
        "ventas_trimestre.plot(kind='bar', stacked=True, figsize=(10, 6), colormap='viridis')\n",
        "\n",
        "# 4. Añadir etiquetas y título\n",
        "plt.title('Ventas por Trimestre y Método de Pago', fontsize=16)\n",
        "plt.xlabel('Trimestre', fontsize=12)\n",
        "plt.ylabel('Facturación Total', fontsize=12)\n",
        "plt.xticks(rotation=0)  # Rotar las etiquetas del eje x para mayor claridad\n",
        "\n",
        "# 5. Mostrar el gráfico\n",
        "plt.legend(title='Método de Pago por trimestre de 2023')\n",
        "plt.tight_layout()\n",
        "plt.show()\n",
        "\n",
        "```\n",
        "\n",
        "Nuestro gráfico debe seguir la identidad visual de Zoop, con el fondo de la figura y del gráfico en el color GRIS_1 y el tamaño de la figura debe ser de (10, 6). La secuencia de colores de las columnas apiladas (palette) es [BLANCO, GRIS_3, GRIS_1, GRIS_3].\n",
        "\n",
        "El título de la figura es \"Ventas por Trimestre y Método de Pago en 2023\" con tamaño 18 y su color GRIS_5.\n",
        "\n",
        "Las etiquetas del eje x (xticks) deben estar a 0 grados y tener tamaño 12 con el color AZUL_1. Las etiquetas del eje y (yticks) deben estar en el formato f\"MXN$ valor M\" sin decimales y las etiquetas de los ejes x e y (xlabel e ylabel) deben ser suprimidas. Todos los bordes del gráfico deben ser suprimidos(['top','bottom','left','right]).\n",
        "\n",
        "También agrega una cuadrícula punteada en y.\n",
        "\n",
        "Utiliza las bibliotecas de visualización de datos de Python para crear esta visualización.\n"
      ],
      "metadata": {
        "id": "1krG9wE7zRrL"
      }
    },
    {
      "cell_type": "code",
      "source": [],
      "metadata": {
        "id": "KDQDgK1580-3"
      },
      "execution_count": null,
      "outputs": []
    },
    {
      "cell_type": "code",
      "source": [],
      "metadata": {
        "id": "i3rYEAqC8064"
      },
      "execution_count": null,
      "outputs": []
    },
    {
      "cell_type": "markdown",
      "source": [
        "<font color=\"7b71ff\" size=4> Comentarios: </font>\n",
        "\n",
        "---\n",
        "\n",
        "Ajustamos el gráfico de barras apiladas representando con colores más suaves los valores de los métodos de pago. Podemos notar cosas interesantes en este gráfico, como: el 2º y 4º trimestre siendo los momentos en que Zoop factura más con ventas, y también el aumento en los pagos de las compras realizadas por los clientes mediante tarjeta de crédito.\n"
      ],
      "metadata": {
        "id": "HJT8PZtF23f2"
      }
    },
    {
      "cell_type": "markdown",
      "source": [
        "### **Gráfico 5 - Clientes participantes del programa de cashback:**"
      ],
      "metadata": {
        "id": "xQaEH5ul3CPs"
      }
    },
    {
      "cell_type": "markdown",
      "source": [
        "Ahora ha llegado el momento del gráfico de sectores. Ya está bien encaminado, pero necesitamos realizar algunos ajustes.\n"
      ],
      "metadata": {
        "id": "StsTmw_i3N0q"
      }
    },
    {
      "cell_type": "code",
      "source": [],
      "metadata": {
        "id": "HPNBxhSh8yzy"
      },
      "execution_count": null,
      "outputs": []
    },
    {
      "cell_type": "markdown",
      "source": [
        "> #### <strong><font color=\"7b71ff\" size =6>Prompt:</font></strong>\n",
        "\n",
        "Ahora, vamos a refinar el gráfico de dona que produjimos para la proporción de usuarios que se adhieren al programa de cashback.\n",
        "\n",
        "Recuerda que el script original del gráfico es el siguiente:\n",
        "\n",
        "```python\n",
        "plt.figure(figsize=(6, 6))\n",
        "plt.pie(cashback_proporcion, labels=cashback_proporcion.index, autopct='%1.1f%%',\n",
        "        colors=['#FF6666', '#66b3ff'], startangle=90, explode=(0.05, 0), wedgeprops={'width': 0.4})\n",
        "\n",
        "# 3. Añadir título\n",
        "plt.title('Proporción de Usuarios Participando en el Programa de Cashback', fontsize=16)\n",
        "\n",
        "# 4. Mostrar el gráfico\n",
        "plt.axis('equal')  # Asegura que el gráfico sea un círculo\n",
        "plt.show()\n",
        "```\n",
        "\n",
        "Nuestro gráfico debe seguir la identidad visual de Zoop, con el fondo de la figura y del gráfico en el color GRIS_1, el color de la porción de valor \"No\" igual a GRIS_3, el color de la porción de valor \"Sí\" igual a AZUL_1 y el tamaño de la figura debe ser de (6, 6).\n",
        "\n",
        "El título de la figura es \"¿Participan en el programa de cashback?\" con un tamaño de 18 y su color GRIS_5.\n",
        "\n",
        "Las etiquetas de las porciones deben tener el mismo color que las porciones y un tamaño de 12, y los porcentajes deben estar en color BLANCO, también con un tamaño de 12.\n",
        "\n",
        "La propiedad de ancho de la dona (`wedgeprops`) debe ser de 0.4, la posición de los porcentajes dentro de la porción (`pctdistance`) debe ser de 0.8, el ángulo de inicio debe ser de 180 (`startangle`), y sin explosión de porciones.\n",
        "\n",
        "Utiliza las bibliotecas de visualización de datos de Python para crear esta visualización.\n"
      ],
      "metadata": {
        "id": "8MVLAZBb4l4Z"
      }
    },
    {
      "cell_type": "code",
      "source": [],
      "metadata": {
        "id": "3mTu1c-Y8wTi"
      },
      "execution_count": null,
      "outputs": []
    },
    {
      "cell_type": "code",
      "source": [],
      "metadata": {
        "id": "D8tlN45x8wP7"
      },
      "execution_count": null,
      "outputs": []
    },
    {
      "cell_type": "markdown",
      "source": [
        "<font color=\"7b71ff\" size=4> Comentarios: </font>\n",
        "\n",
        "---\n",
        "\n",
        "Hemos modificado otro gráfico, ahora el de dona, para representar la proporción de nuestros(as) clientes. Dimos mayor destaque al \"Sí\", utilizando el color como recurso de punto focal.\n"
      ],
      "metadata": {
        "id": "t-F0cRvT54ki"
      }
    },
    {
      "cell_type": "markdown",
      "source": [
        "## **5.3 - Ajustando los visuales de distribución**\n",
        "\n",
        "---\n"
      ],
      "metadata": {
        "id": "0W8lFf-U6N42"
      }
    },
    {
      "cell_type": "markdown",
      "source": [
        "Ahora vamos con los últimos 2 gráficos antes de la exportación de los visuales. Vamos a aplicar más técnicas de storytelling que aprendimos mediante el uso de la IA.\n"
      ],
      "metadata": {
        "id": "pk9VbSCp6v0g"
      }
    },
    {
      "cell_type": "markdown",
      "source": [
        "### **Gráfico 6 - Evaluaciones de los productos:**\n"
      ],
      "metadata": {
        "id": "ENCbI1v37u03"
      }
    },
    {
      "cell_type": "markdown",
      "source": [
        "Agora vamos para a distribuição das avaliações dos produtos em que criamos um histograma. Vamos adicionar mais um novo elemento visual e realizar alguns ajustes."
      ],
      "metadata": {
        "id": "t6Yp9lPW8SRp"
      }
    },
    {
      "cell_type": "code",
      "source": [],
      "metadata": {
        "id": "AoWfvsEL8uCL"
      },
      "execution_count": null,
      "outputs": []
    },
    {
      "cell_type": "markdown",
      "source": [
        "> #### <strong><font color=\"7b71ff\" size =6>Prompt:</font></strong>\n",
        "\n",
        "Ahora vamos con el gráfico de la Distribución de las Evaluaciones de Compra que produjimos anteriormente. Vamos a refinarlo usando las siguientes orientaciones.\n",
        "\n",
        "El script original que genera el gráfico es el siguiente:\n",
        "\n",
        "```python\n",
        "# 1. Configurar el tamaño del gráfico\n",
        "plt.figure(figsize=(10, 6))\n",
        "\n",
        "# 2. Crear el gráfico de distribución (histograma)\n",
        "sns.histplot(df['nota'], bins=11, kde=False, color='skyblue')\n",
        "\n",
        "# 3. Añadir etiquetas y título\n",
        "plt.title('Distribución de las Calificaciones de las Compras', fontsize=16)\n",
        "plt.xlabel('Calificación (0-10)', fontsize=12)\n",
        "plt.ylabel('Frecuencia', fontsize=12)\n",
        "\n",
        "# 4. Mostrar el gráfico\n",
        "plt.show()\n",
        "```\n",
        "\n",
        "Nuestro gráfico necesita seguir la identidad visual de Zoop, con el fondo de la figura y del gráfico en el color GRIS_1, el color de las columnas en ROJO_1 y el tamaño de la figura debe ser de (10, 6).\n",
        "\n",
        "El título de la figura es \"Distribución de las evaluaciones de las compras en 2023\" con tamaño 18 y su color GRIS_5.\n",
        "\n",
        "Las etiquetas del eje x (xticks) deben estar en el rango de 0 a 10 con 11 bins y tener tamaño 12 con el color AZUL_1. Las etiquetas del eje y (yticks) deben tener tamaño 12 con el color AZUL_1 y las etiquetas de los ejes x e y (xlabel e ylabel) también deben tener tamaño 12 con el color AZUL_1. Todos los bordes del gráfico deben ser suprimidos (['top', 'bottom', 'left', 'right']).\n",
        "\n",
        "El grid del eje y debe estar detrás del gráfico (`ax.set_axisbelow(True)`).\n",
        "\n",
        "Vamos a añadir una caja de anotación (`ax.annotate()`) con el fondo en color BLANCO y el borde en color GRIS_3 dentro del área del gráfico. El texto de la anotación es\n",
        "\n",
        "```python\n",
        "f\"Promedio de calificaciones = {df['nota'].mean().round(2)}\\n Calificación más común = {df['nota'].value_counts().idxmax()}\\n Frecuencia más común = {df['nota'].value_counts().max()}\"\n",
        "```\n",
        "\n",
        "en color AZUL_1. Añade la caja de anotación con el texto en la posición xytext=(2, 1800) y coloca una flecha, en color AZUL_1, saliendo de la caja hasta la posición xy=(8.7, 2250).\n",
        "\n",
        "Utiliza las bibliotecas de visualización de datos de Python para crear esta visualización.\n"
      ],
      "metadata": {
        "id": "9wauvnM5-8tl"
      }
    },
    {
      "cell_type": "code",
      "source": [],
      "metadata": {
        "id": "GggHmSJI8rBW"
      },
      "execution_count": null,
      "outputs": []
    },
    {
      "cell_type": "code",
      "source": [],
      "metadata": {
        "id": "CCEWR9S58q97"
      },
      "execution_count": null,
      "outputs": []
    },
    {
      "cell_type": "markdown",
      "source": [
        "<font color=\"7b71ff\" size=4> Comentarios: </font>\n",
        "\n",
        "---\n",
        "\n",
        "¡Una novedad más en nuestro gráfico! Añadimos la función de caja de anotaciones, que es muy útil para proporcionar información sobre los datos. Con ella es posible utilizar flechas como indicadores para destacar detalles.\n"
      ],
      "metadata": {
        "id": "xQZOKIRDBv00"
      }
    },
    {
      "cell_type": "markdown",
      "source": [
        "### **Gráfico 7 - Distribución del público por edad y sexo biológico:**\n"
      ],
      "metadata": {
        "id": "OvX96VEzB16Y"
      }
    },
    {
      "cell_type": "markdown",
      "source": [
        "Ahora vamos con nuestra última visualización.\n"
      ],
      "metadata": {
        "id": "A5-EoWVgCR28"
      }
    },
    {
      "cell_type": "code",
      "source": [],
      "metadata": {
        "id": "fATZ9ek88lCq"
      },
      "execution_count": null,
      "outputs": []
    },
    {
      "cell_type": "markdown",
      "source": [
        "> #### <strong><font color=\"7b71ff\" size =6>Prompt:</font></strong>\n",
        "\n",
        "Ahora vamos al gráfico de boxplot de la Distribución de la Edad por Sexo Biológico que produjimos anteriormente. Vamos a refinado usando las siguientes orientaciones.\n",
        "\n",
        "El script original que genera el gráfico es el siguiente:\n",
        "\n",
        "```python\n",
        "# 1. Configurar el tamaño del gráfico\n",
        "plt.figure(figsize=(10, 6))\n",
        "\n",
        "# 2. Crear el gráfico de boxplot\n",
        "sns.boxplot(x='sexo_biologico', y='edad', data=df, palette='Set2')\n",
        "\n",
        "# 3. Añadir etiquetas y título\n",
        "plt.title('Distribución de la Audiencia por Edad y Sexo Biológico', fontsize=16)\n",
        "plt.xlabel('Sexo Biológico', fontsize=12)\n",
        "plt.ylabel('Edad', fontsize=12)\n",
        "\n",
        "# 4. Mostrar el gráfico\n",
        "plt.show()\n",
        "```\n",
        "\n",
        "Nuestro gráfico debe seguir la identidad visual de Zoop, con el fondo de la figura y del gráfico en el color GRIS_1, y el tamaño de la figura debe ser de (10, 6).\n",
        "\n",
        "El título de la figura es \"Distribución de la Edad por Sexo Biológico de los  clientes\" con tamaño 18 y su color GRIS_5.\n",
        "\n",
        "La columna 'sexo_biologico' está representada en el eje x y la 'edad' en el eje y. La paleta de colores para los valores de x es [AZUL_1, AQUA_1].\n",
        "\n",
        "La etiqueta del eje x (xlabel) debe ser suprimida. Los rótulos del eje x y y (xticks y yticks) deben tener tamaño 12 con el color AZUL_1 y la etiqueta del eje y (ylabel) también debe tener tamaño 12 con el color AZUL_1. Todos los bordes del gráfico deben ser suprimidos y la cuadrícula del eje y debe estar detrás del gráfico (`ax.set_axisbelow(True)`).\n",
        "\n",
        "Vamos a agregar dos cajas de anotación (`ax.annotate()`) con el fondo en color BLANCO y el borde en color GRIS_3 dentro del área del gráfico.\n",
        "\n",
        "El texto de la primera anotación en color AZUL_1 es\n",
        "\n",
        "```python\n",
        "f\"Mínimo = df.groupby(\"sexo_biologico\")[\"edad\"].min()[1]\\n 1º quartil = df.groupby(\"sexo_biologico\")[\"edad\"].quantile(.25)[1]\\n 2º quartil = df.groupby(\"sexo_biologico\")[\"edad\"].median()[1]\\n 3º quartil = df.groupby(\"sexo_biologico\")[\"edad\"].quantile(.75)[1]\\n Máximo = df.groupby(\"sexo_biologico\")[\"edad\"].max()[1]\"\n",
        "```\n",
        "\n",
        "Agrega la caja de anotación con el texto en la posición xytext=(-0.4, 50) y coloca una flecha, en color AZUL_1, saliendo de la caja hasta la posición xy=(-0.1, 45).\n",
        "\n",
        "El texto de la segunda anotación en color AZUL_1 es\n",
        "\n",
        "```python\n",
        "f\"Mínimo = df.groupby(\"sexo_biologico\")[\"edad\"].min()[0]\\n 1º quartil = df.groupby(\"sexo_biologico\")[\"edad\"].quantile(.25)[0]\\n 2º quartil = df.groupby(\"sexo_biologico\")[\"edad\"].median()[0]\\n 3º quartil = df.groupby(\"sexo_biologico\")[\"edad\"].quantile(.75)[0]\\n Máximo = df.groupby(\"sexo_biologico\")[\"edad\"].max()[0]\"\n",
        "```\n",
        "\n",
        "\n",
        "Agrega la caja de anotación con el texto en la posición xytext=(0.6, 50) y coloca una flecha, en color AZUL_1, saliendo de la caja hasta la posición xy=(0.9, 45).\n",
        "\n",
        "Utiliza las bibliotecas de visualización de datos de Python para crear esta visualización.\n"
      ],
      "metadata": {
        "id": "u2WV7yloFTGp"
      }
    },
    {
      "cell_type": "code",
      "source": [],
      "metadata": {
        "id": "VwyrFJbh8iYq"
      },
      "execution_count": null,
      "outputs": []
    },
    {
      "cell_type": "code",
      "source": [],
      "metadata": {
        "id": "KokeV69t8iP-"
      },
      "execution_count": null,
      "outputs": []
    },
    {
      "cell_type": "markdown",
      "source": [
        "<font color=\"7b71ff\" size=4> Comentarios: </font>\n",
        "\n",
        "---\n",
        "\n",
        "Para nuestro último gráfico, creamos nuevamente el bloque de anotaciones señalando los valores que se muestran en un boxplot. Notamos que la distribución entre los clientes de sexo biológico masculino y femenino es bastante cercana, con solo un año de diferencia en el rango intercuartil (del 1º al 3º cuartil) en el caso del sexo biológico masculino. Zoop tiene en la mediana una clientela de 38 años de edad para ambos sexos.\n"
      ],
      "metadata": {
        "id": "hNRa4k9ABYTs"
      }
    },
    {
      "cell_type": "markdown",
      "source": [
        "## **5.4 - Exportando las visualizaciones**\n",
        "\n",
        "---\n",
        "\n"
      ],
      "metadata": {
        "id": "mTK8l5u7BlER"
      }
    },
    {
      "cell_type": "markdown",
      "source": [
        "¡Listo! Ahora que hemos finalizado los ajustes de todos los gráficos solicitados, generaremos un último código para exportar cada uno de los gráficos que transformamos en funciones en formato de imagen (PNG)."
      ],
      "metadata": {
        "id": "3tspl9LkCBcm"
      }
    },
    {
      "cell_type": "markdown",
      "source": [
        "<strong><font color=\"7b71ff\" size =6>Prompt:</font></strong>\n",
        "Ahora, vamos a nuestra última etapa: guardar las visualizaciones como imagen. Coloca cada uno de los gráficos que generamos dentro de una función y quiero que se aplique el siguiente procedimiento a cada una de ellas:\n",
        "\n",
        "```\n",
        "nombre_imagen = nombre_funcion()\n",
        "nombre_imagen.savefig('nombre_imagen.png', bbox_inches='tight')\n",
        "nombre_imagen.close()\n",
        "```\n",
        "Las funciones son:\n",
        "\n",
        "\n",
        "*   metodo_pago()\n",
        "*   ventas_mensuales()\n",
        "*   facturacion_por_categoria()\n",
        "*   ventas_por_trimestre()\n",
        "*   proporcion_cashback()\n",
        "*   distribucion_calificaciones()\n",
        "*   box_plot_edad_sexo()\n",
        "\n",
        "Reemplaza la variable \"nombre_imagen\" por \"grafico_\" seguido del nombre de la función que genera el gráfico.\n",
        "\n",
        "Utiliza el lenguaje Python para crear el código y no mostrar las imágenes."
      ],
      "metadata": {
        "id": "csUc52BgCb7C"
      }
    },
    {
      "cell_type": "code",
      "source": [],
      "metadata": {
        "id": "E8MJHMN98ewE"
      },
      "execution_count": null,
      "outputs": []
    },
    {
      "cell_type": "markdown",
      "source": [
        "¡Ahora es tu turno! ¿Qué tal descargar los gráficos y generar un informe con algunos insights y explicando los resultados?\n",
        "\n",
        "¡Espero que hayas disfrutado este curso y saques el máximo provecho del contenido!"
      ],
      "metadata": {
        "id": "kTJalNIIDsyA"
      }
    },
    {
      "cell_type": "markdown",
      "source": [
        "##**Estudios:**\n",
        "Generando un prompt para la exploración de datos:\n",
        "Daniela es una analista de datos en Serenatto - Café & Bistrô, una franquicia de restaurantes populares que ofrece una amplia variedad de platos de la cocina francesa e italiana. Ha recibido una solicitud para analizar, en poco tiempo, los datos de las ventas diarias de la sucursal de San José. Podemos observar una parte de los datos en la tabla a continuación:  \n",
        "![1.png](data:image/png;base64,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)"
      ],
      "metadata": {
        "id": "OnceupktQAeH"
      }
    },
    {
      "cell_type": "markdown",
      "source": [
        "Ella pensó en elaborar un pequeño prompt que realizara las siguientes tareas: leer el archivo .xlsx con los datos pasándolos a un DataFrame, cambiar el formato de la fecha a uno que pudiera ser fácilmente utilizado en visualizaciones, explorar brevemente los datos y crear una nueva base manteniendo solo las columnas con las fechas y los valores de las ventas.\n",
        "\n",
        "Considerando las etapas descritas anteriormente, ¿cuál de los prompts a continuación tiene mayor probabilidad de ser interpretado correctamente por ChatGPT, generando así los tratamientos deseados por Daniela?"
      ],
      "metadata": {
        "id": "Rv7lRzYBRAls"
      }
    },
    {
      "cell_type": "code",
      "source": [
        "# prompt: Crea un código en Python que lea la base de datos ventas.xlsx pasándola al DataFrame “df”. Cambia el formato de la columna “fecha” a datetime, donde la fecha originalmente está en el formato “DD-MM-YYYY”. Explora brevemente los datos y crea un DataFrame llamado “ventas” con solo las columnas “fecha” y “valor” de “df”.\n",
        "\n",
        "# df = pd.read_excel('ventas.xlsx')\n",
        "# df['fecha'] = pd.to_datetime(df['fecha'], format='%d-%m-%Y')\n",
        "# print(df.info())\n",
        "# print(df.head())\n",
        "# ventas = df[['fecha', 'valor']].copy()\n",
        "# print(ventas.head())\n"
      ],
      "metadata": {
        "id": "x1xjRlBHRHWc"
      },
      "execution_count": 55,
      "outputs": []
    },
    {
      "cell_type": "markdown",
      "source": [
        "**Desafío: Zoop Pay**\n",
        "\n",
        "Has recibido una nueva solicitud de las partes interesadas de Zoop, en la que será necesario agregar más columnas de otra base de datos a la tabla consolidada en el video anterior.\n",
        "\n",
        "A diferencia de las actividades que estamos realizando en los videos de este curso, aquí también utilizaremos esta nueva base para la construcción de los visuales dentro de los ejercicios de \"Manos a la obra\", enfocándonos en las demandas presentadas en las instrucciones de los ejercicios.\n",
        "\n",
        "Los archivos que vamos a utilizar en esta parte del proyecto son:\n",
        "\n",
        "Datos de clientes del e-commerce de Zoop, separados por el código identificador de la compra.\n",
        "Datos de ventas del e-commerce de Zoop en 2023, separados por el código identificador de la compra.\n",
        "Datos de clientes pre-registrados en Zoop Pay, la billetera digital de Zoop que está en proceso de implementación.\n",
        "Estos datos se leerán a través de enlaces (URL) que compartimos a continuación:"
      ],
      "metadata": {
        "id": "LOMtN_J8ZIB1"
      }
    },
    {
      "cell_type": "code",
      "source": [
        "url_clientes = \"https://gist.githubusercontent.com/ahcamachod/d08898e1cc84c7271856e78d9558ca3d/raw/2f7e1fa53711efe6433a5c5ec79948f600591cb9/clientes_zoop.csv\"\n",
        "url_ventas = \"https://gist.githubusercontent.com/ahcamachod/966d7162a3c3a2769b8770b35abf1bcc/raw/d79941b3fa46a450f3611589abd8663399c1277b/ventas_zoop.csv\"\n",
        "url_zoop_pay = \"https://gist.githubusercontent.com/ahcamachod/ce728231a836a973c0df94a9f03ed871/raw/8db6da43d7cd94fcab937208067d0fceb521b78c/zoop_pay.csv\""
      ],
      "metadata": {
        "id": "FxoQNZWhZPVM"
      },
      "execution_count": 60,
      "outputs": []
    },
    {
      "cell_type": "markdown",
      "source": [
        "Ahora que ya sabemos cuáles son los datos necesarios para la realización del proyecto, vamos a abrir el notebook mencionado anteriormente y realizar la siguiente actividad:\n",
        "\n",
        "Construye y ejecuta un prompt en ChatGPT solicitando que lea las tres bases de datos y cree una única tabla concatenándolas. Recuerda ser bastante específico en cuanto al orden de las columnas y cuáles serán necesarias para realizar la concatenación de los datos, además de tratar la columna de fecha para el formato adecuado."
      ],
      "metadata": {
        "id": "hIOipfNiZVDi"
      }
    },
    {
      "cell_type": "markdown",
      "source": [
        "Consejo 1: Para facilitar el proceso, pide a ChatGPT que primero concatene los datos de clientes y ventas en una tabla llamada df y, finalmente, que concatene esta nueva tabla con la base de clientes pre-registrados en Zoop Pay, generando así la tabla consolidada con todos los datos. Este proceso puede realizarse paso a paso en dos prompts, por ejemplo."
      ],
      "metadata": {
        "id": "962jQ_5xZY1m"
      }
    },
    {
      "cell_type": "markdown",
      "source": [
        "Vamos a comenzar uniendo las dos primeras bases de nuestro proyecto (\"ventas\" y \"clientes\") en un DataFrame llamado \"df\" utilizando como clave la columna \"ID_compra\". Además, vamos a organizar las columnas en la siguiente secuencia:"
      ],
      "metadata": {
        "id": "JDA2jGNFZjXG"
      }
    },
    {
      "cell_type": "code",
      "source": [
        "[\"ID_compra\", \"fecha\", \"hora\", \"categoría\", \"precio_unitario\", \"cantidad\", \"envio\", \"metodo_pago\", \"ID_cliente\", \"edad\", \"sexo_biologico\", \"ciudad\", \"estado\", \"region\", \"cashback\", \"nota\"]"
      ],
      "metadata": {
        "colab": {
          "base_uri": "https://localhost:8080/"
        },
        "id": "lGjc91qbZgd0",
        "outputId": "a5975df8-fc8a-4eef-e3dc-9c2d94d8eb26"
      },
      "execution_count": 61,
      "outputs": [
        {
          "output_type": "execute_result",
          "data": {
            "text/plain": [
              "['ID_compra',\n",
              " 'fecha',\n",
              " 'hora',\n",
              " 'categoría',\n",
              " 'precio_unitario',\n",
              " 'cantidad',\n",
              " 'envio',\n",
              " 'metodo_pago',\n",
              " 'ID_cliente',\n",
              " 'edad',\n",
              " 'sexo_biologico',\n",
              " 'ciudad',\n",
              " 'estado',\n",
              " 'region',\n",
              " 'cashback',\n",
              " 'nota']"
            ]
          },
          "metadata": {},
          "execution_count": 61
        }
      ]
    },
    {
      "cell_type": "markdown",
      "source": [
        "Construye un código para ejecutar esta etapa usando Python y la biblioteca Pandas.\n",
        "\n",
        "Utilizando la respuesta de ChatGPT, obtenemos el siguiente código:"
      ],
      "metadata": {
        "id": "ESk-zYJIZnOV"
      }
    },
    {
      "cell_type": "code",
      "source": [
        "import pandas as pd\n",
        "\n",
        "# Ejemplo de cómo cargar los DataFrames, si es necesario:\n",
        "# ventas = pd.read_csv('ruta_al_archivo_de_ventas.csv')\n",
        "# clientes = pd.read_csv('ruta_al_archivo_de_clientes.csv')\n",
        "\n",
        "# Uniendo las bases \"ventas\" y \"clientes\" usando la columna \"ID_compra\" como clave\n",
        "df = pd.merge(ventas, clientes, on=\"ID_compra\")\n",
        "\n",
        "# Organizando las columnas en la secuencia especificada\n",
        "columnas_ordenadas = [\"ID_compra\", \"fecha\", \"precio_unitario\", \"cantidad\", \"envio\", \"metodo_pago\", \"ID_cliente\", \"edad\", \"sexo_biologico\", \"ciudad\", \"estado\", \"region\", \"cashback\", \"nota\"]\n",
        "\n",
        "df = df[columnas_ordenadas]\n",
        "\n",
        "# Mostrando las primeras filas del DataFrame resultante para verificación\n",
        "df.head()"
      ],
      "metadata": {
        "colab": {
          "base_uri": "https://localhost:8080/",
          "height": 293
        },
        "id": "RL7JcJO0Zpfm",
        "outputId": "bb54a28e-3034-45e6-a99a-34477aab9d73"
      },
      "execution_count": 65,
      "outputs": [
        {
          "output_type": "execute_result",
          "data": {
            "text/plain": [
              "   ID_compra      fecha  precio_unitario  cantidad   envio  \\\n",
              "0          6 2023-01-03           4457.9         4  713.26   \n",
              "1          5 2023-01-03            115.9         1    0.00   \n",
              "2          9 2023-01-03             68.9         2   13.78   \n",
              "3          4 2023-01-03             80.9         5   40.45   \n",
              "4          8 2023-01-03            165.0         4    0.00   \n",
              "\n",
              "          metodo_pago  ID_cliente  edad sexo_biologico            ciudad  \\\n",
              "0              Paypal        6149    30      Masculino        Hermosillo   \n",
              "1       Transferencia        9491    36      Masculino  Ciudad de México   \n",
              "2  Tarjeta de Crédito        5288    39       Femenino    Aguascalientes   \n",
              "3       Transferencia        9679    35      Masculino          Veracruz   \n",
              "4       Transferencia        1380    50      Masculino  Ciudad de México   \n",
              "\n",
              "             estado        region cashback  nota  \n",
              "0            Sonora      Noroeste       Sí    10  \n",
              "1  Ciudad de México        Centro       Sí     8  \n",
              "2    Aguascalientes  Centro-Norte       No     7  \n",
              "3          Veracruz         Golfo       Sí     9  \n",
              "4  Ciudad de México        Centro       No     9  "
            ],
            "text/html": [
              "\n",
              "  <div id=\"df-24c52b9c-d148-4b3c-9790-325e82c4073a\" class=\"colab-df-container\">\n",
              "    <div>\n",
              "<style scoped>\n",
              "    .dataframe tbody tr th:only-of-type {\n",
              "        vertical-align: middle;\n",
              "    }\n",
              "\n",
              "    .dataframe tbody tr th {\n",
              "        vertical-align: top;\n",
              "    }\n",
              "\n",
              "    .dataframe thead th {\n",
              "        text-align: right;\n",
              "    }\n",
              "</style>\n",
              "<table border=\"1\" class=\"dataframe\">\n",
              "  <thead>\n",
              "    <tr style=\"text-align: right;\">\n",
              "      <th></th>\n",
              "      <th>ID_compra</th>\n",
              "      <th>fecha</th>\n",
              "      <th>precio_unitario</th>\n",
              "      <th>cantidad</th>\n",
              "      <th>envio</th>\n",
              "      <th>metodo_pago</th>\n",
              "      <th>ID_cliente</th>\n",
              "      <th>edad</th>\n",
              "      <th>sexo_biologico</th>\n",
              "      <th>ciudad</th>\n",
              "      <th>estado</th>\n",
              "      <th>region</th>\n",
              "      <th>cashback</th>\n",
              "      <th>nota</th>\n",
              "    </tr>\n",
              "  </thead>\n",
              "  <tbody>\n",
              "    <tr>\n",
              "      <th>0</th>\n",
              "      <td>6</td>\n",
              "      <td>2023-01-03</td>\n",
              "      <td>4457.9</td>\n",
              "      <td>4</td>\n",
              "      <td>713.26</td>\n",
              "      <td>Paypal</td>\n",
              "      <td>6149</td>\n",
              "      <td>30</td>\n",
              "      <td>Masculino</td>\n",
              "      <td>Hermosillo</td>\n",
              "      <td>Sonora</td>\n",
              "      <td>Noroeste</td>\n",
              "      <td>Sí</td>\n",
              "      <td>10</td>\n",
              "    </tr>\n",
              "    <tr>\n",
              "      <th>1</th>\n",
              "      <td>5</td>\n",
              "      <td>2023-01-03</td>\n",
              "      <td>115.9</td>\n",
              "      <td>1</td>\n",
              "      <td>0.00</td>\n",
              "      <td>Transferencia</td>\n",
              "      <td>9491</td>\n",
              "      <td>36</td>\n",
              "      <td>Masculino</td>\n",
              "      <td>Ciudad de México</td>\n",
              "      <td>Ciudad de México</td>\n",
              "      <td>Centro</td>\n",
              "      <td>Sí</td>\n",
              "      <td>8</td>\n",
              "    </tr>\n",
              "    <tr>\n",
              "      <th>2</th>\n",
              "      <td>9</td>\n",
              "      <td>2023-01-03</td>\n",
              "      <td>68.9</td>\n",
              "      <td>2</td>\n",
              "      <td>13.78</td>\n",
              "      <td>Tarjeta de Crédito</td>\n",
              "      <td>5288</td>\n",
              "      <td>39</td>\n",
              "      <td>Femenino</td>\n",
              "      <td>Aguascalientes</td>\n",
              "      <td>Aguascalientes</td>\n",
              "      <td>Centro-Norte</td>\n",
              "      <td>No</td>\n",
              "      <td>7</td>\n",
              "    </tr>\n",
              "    <tr>\n",
              "      <th>3</th>\n",
              "      <td>4</td>\n",
              "      <td>2023-01-03</td>\n",
              "      <td>80.9</td>\n",
              "      <td>5</td>\n",
              "      <td>40.45</td>\n",
              "      <td>Transferencia</td>\n",
              "      <td>9679</td>\n",
              "      <td>35</td>\n",
              "      <td>Masculino</td>\n",
              "      <td>Veracruz</td>\n",
              "      <td>Veracruz</td>\n",
              "      <td>Golfo</td>\n",
              "      <td>Sí</td>\n",
              "      <td>9</td>\n",
              "    </tr>\n",
              "    <tr>\n",
              "      <th>4</th>\n",
              "      <td>8</td>\n",
              "      <td>2023-01-03</td>\n",
              "      <td>165.0</td>\n",
              "      <td>4</td>\n",
              "      <td>0.00</td>\n",
              "      <td>Transferencia</td>\n",
              "      <td>1380</td>\n",
              "      <td>50</td>\n",
              "      <td>Masculino</td>\n",
              "      <td>Ciudad de México</td>\n",
              "      <td>Ciudad de México</td>\n",
              "      <td>Centro</td>\n",
              "      <td>No</td>\n",
              "      <td>9</td>\n",
              "    </tr>\n",
              "  </tbody>\n",
              "</table>\n",
              "</div>\n",
              "    <div class=\"colab-df-buttons\">\n",
              "\n",
              "  <div class=\"colab-df-container\">\n",
              "    <button class=\"colab-df-convert\" onclick=\"convertToInteractive('df-24c52b9c-d148-4b3c-9790-325e82c4073a')\"\n",
              "            title=\"Convert this dataframe to an interactive table.\"\n",
              "            style=\"display:none;\">\n",
              "\n",
              "  <svg xmlns=\"http://www.w3.org/2000/svg\" height=\"24px\" viewBox=\"0 -960 960 960\">\n",
              "    <path d=\"M120-120v-720h720v720H120Zm60-500h600v-160H180v160Zm220 220h160v-160H400v160Zm0 220h160v-160H400v160ZM180-400h160v-160H180v160Zm440 0h160v-160H620v160ZM180-180h160v-160H180v160Zm440 0h160v-160H620v160Z\"/>\n",
              "  </svg>\n",
              "    </button>\n",
              "\n",
              "  <style>\n",
              "    .colab-df-container {\n",
              "      display:flex;\n",
              "      gap: 12px;\n",
              "    }\n",
              "\n",
              "    .colab-df-convert {\n",
              "      background-color: #E8F0FE;\n",
              "      border: none;\n",
              "      border-radius: 50%;\n",
              "      cursor: pointer;\n",
              "      display: none;\n",
              "      fill: #1967D2;\n",
              "      height: 32px;\n",
              "      padding: 0 0 0 0;\n",
              "      width: 32px;\n",
              "    }\n",
              "\n",
              "    .colab-df-convert:hover {\n",
              "      background-color: #E2EBFA;\n",
              "      box-shadow: 0px 1px 2px rgba(60, 64, 67, 0.3), 0px 1px 3px 1px rgba(60, 64, 67, 0.15);\n",
              "      fill: #174EA6;\n",
              "    }\n",
              "\n",
              "    .colab-df-buttons div {\n",
              "      margin-bottom: 4px;\n",
              "    }\n",
              "\n",
              "    [theme=dark] .colab-df-convert {\n",
              "      background-color: #3B4455;\n",
              "      fill: #D2E3FC;\n",
              "    }\n",
              "\n",
              "    [theme=dark] .colab-df-convert:hover {\n",
              "      background-color: #434B5C;\n",
              "      box-shadow: 0px 1px 3px 1px rgba(0, 0, 0, 0.15);\n",
              "      filter: drop-shadow(0px 1px 2px rgba(0, 0, 0, 0.3));\n",
              "      fill: #FFFFFF;\n",
              "    }\n",
              "  </style>\n",
              "\n",
              "    <script>\n",
              "      const buttonEl =\n",
              "        document.querySelector('#df-24c52b9c-d148-4b3c-9790-325e82c4073a button.colab-df-convert');\n",
              "      buttonEl.style.display =\n",
              "        google.colab.kernel.accessAllowed ? 'block' : 'none';\n",
              "\n",
              "      async function convertToInteractive(key) {\n",
              "        const element = document.querySelector('#df-24c52b9c-d148-4b3c-9790-325e82c4073a');\n",
              "        const dataTable =\n",
              "          await google.colab.kernel.invokeFunction('convertToInteractive',\n",
              "                                                    [key], {});\n",
              "        if (!dataTable) return;\n",
              "\n",
              "        const docLinkHtml = 'Like what you see? Visit the ' +\n",
              "          '<a target=\"_blank\" href=https://colab.research.google.com/notebooks/data_table.ipynb>data table notebook</a>'\n",
              "          + ' to learn more about interactive tables.';\n",
              "        element.innerHTML = '';\n",
              "        dataTable['output_type'] = 'display_data';\n",
              "        await google.colab.output.renderOutput(dataTable, element);\n",
              "        const docLink = document.createElement('div');\n",
              "        docLink.innerHTML = docLinkHtml;\n",
              "        element.appendChild(docLink);\n",
              "      }\n",
              "    </script>\n",
              "  </div>\n",
              "\n",
              "\n",
              "    <div id=\"df-627de09d-eab5-4b54-8e59-2f301857c95d\">\n",
              "      <button class=\"colab-df-quickchart\" onclick=\"quickchart('df-627de09d-eab5-4b54-8e59-2f301857c95d')\"\n",
              "                title=\"Suggest charts\"\n",
              "                style=\"display:none;\">\n",
              "\n",
              "<svg xmlns=\"http://www.w3.org/2000/svg\" height=\"24px\"viewBox=\"0 0 24 24\"\n",
              "     width=\"24px\">\n",
              "    <g>\n",
              "        <path d=\"M19 3H5c-1.1 0-2 .9-2 2v14c0 1.1.9 2 2 2h14c1.1 0 2-.9 2-2V5c0-1.1-.9-2-2-2zM9 17H7v-7h2v7zm4 0h-2V7h2v10zm4 0h-2v-4h2v4z\"/>\n",
              "    </g>\n",
              "</svg>\n",
              "      </button>\n",
              "\n",
              "<style>\n",
              "  .colab-df-quickchart {\n",
              "      --bg-color: #E8F0FE;\n",
              "      --fill-color: #1967D2;\n",
              "      --hover-bg-color: #E2EBFA;\n",
              "      --hover-fill-color: #174EA6;\n",
              "      --disabled-fill-color: #AAA;\n",
              "      --disabled-bg-color: #DDD;\n",
              "  }\n",
              "\n",
              "  [theme=dark] .colab-df-quickchart {\n",
              "      --bg-color: #3B4455;\n",
              "      --fill-color: #D2E3FC;\n",
              "      --hover-bg-color: #434B5C;\n",
              "      --hover-fill-color: #FFFFFF;\n",
              "      --disabled-bg-color: #3B4455;\n",
              "      --disabled-fill-color: #666;\n",
              "  }\n",
              "\n",
              "  .colab-df-quickchart {\n",
              "    background-color: var(--bg-color);\n",
              "    border: none;\n",
              "    border-radius: 50%;\n",
              "    cursor: pointer;\n",
              "    display: none;\n",
              "    fill: var(--fill-color);\n",
              "    height: 32px;\n",
              "    padding: 0;\n",
              "    width: 32px;\n",
              "  }\n",
              "\n",
              "  .colab-df-quickchart:hover {\n",
              "    background-color: var(--hover-bg-color);\n",
              "    box-shadow: 0 1px 2px rgba(60, 64, 67, 0.3), 0 1px 3px 1px rgba(60, 64, 67, 0.15);\n",
              "    fill: var(--button-hover-fill-color);\n",
              "  }\n",
              "\n",
              "  .colab-df-quickchart-complete:disabled,\n",
              "  .colab-df-quickchart-complete:disabled:hover {\n",
              "    background-color: var(--disabled-bg-color);\n",
              "    fill: var(--disabled-fill-color);\n",
              "    box-shadow: none;\n",
              "  }\n",
              "\n",
              "  .colab-df-spinner {\n",
              "    border: 2px solid var(--fill-color);\n",
              "    border-color: transparent;\n",
              "    border-bottom-color: var(--fill-color);\n",
              "    animation:\n",
              "      spin 1s steps(1) infinite;\n",
              "  }\n",
              "\n",
              "  @keyframes spin {\n",
              "    0% {\n",
              "      border-color: transparent;\n",
              "      border-bottom-color: var(--fill-color);\n",
              "      border-left-color: var(--fill-color);\n",
              "    }\n",
              "    20% {\n",
              "      border-color: transparent;\n",
              "      border-left-color: var(--fill-color);\n",
              "      border-top-color: var(--fill-color);\n",
              "    }\n",
              "    30% {\n",
              "      border-color: transparent;\n",
              "      border-left-color: var(--fill-color);\n",
              "      border-top-color: var(--fill-color);\n",
              "      border-right-color: var(--fill-color);\n",
              "    }\n",
              "    40% {\n",
              "      border-color: transparent;\n",
              "      border-right-color: var(--fill-color);\n",
              "      border-top-color: var(--fill-color);\n",
              "    }\n",
              "    60% {\n",
              "      border-color: transparent;\n",
              "      border-right-color: var(--fill-color);\n",
              "    }\n",
              "    80% {\n",
              "      border-color: transparent;\n",
              "      border-right-color: var(--fill-color);\n",
              "      border-bottom-color: var(--fill-color);\n",
              "    }\n",
              "    90% {\n",
              "      border-color: transparent;\n",
              "      border-bottom-color: var(--fill-color);\n",
              "    }\n",
              "  }\n",
              "</style>\n",
              "\n",
              "      <script>\n",
              "        async function quickchart(key) {\n",
              "          const quickchartButtonEl =\n",
              "            document.querySelector('#' + key + ' button');\n",
              "          quickchartButtonEl.disabled = true;  // To prevent multiple clicks.\n",
              "          quickchartButtonEl.classList.add('colab-df-spinner');\n",
              "          try {\n",
              "            const charts = await google.colab.kernel.invokeFunction(\n",
              "                'suggestCharts', [key], {});\n",
              "          } catch (error) {\n",
              "            console.error('Error during call to suggestCharts:', error);\n",
              "          }\n",
              "          quickchartButtonEl.classList.remove('colab-df-spinner');\n",
              "          quickchartButtonEl.classList.add('colab-df-quickchart-complete');\n",
              "        }\n",
              "        (() => {\n",
              "          let quickchartButtonEl =\n",
              "            document.querySelector('#df-627de09d-eab5-4b54-8e59-2f301857c95d button');\n",
              "          quickchartButtonEl.style.display =\n",
              "            google.colab.kernel.accessAllowed ? 'block' : 'none';\n",
              "        })();\n",
              "      </script>\n",
              "    </div>\n",
              "\n",
              "    </div>\n",
              "  </div>\n"
            ],
            "application/vnd.google.colaboratory.intrinsic+json": {
              "type": "dataframe",
              "variable_name": "df",
              "summary": "{\n  \"name\": \"df\",\n  \"rows\": 6169,\n  \"fields\": [\n    {\n      \"column\": \"ID_compra\",\n      \"properties\": {\n        \"dtype\": \"number\",\n        \"std\": 1780,\n        \"min\": 1,\n        \"max\": 6169,\n        \"num_unique_values\": 6169,\n        \"samples\": [\n          5998,\n          409,\n          1489\n        ],\n        \"semantic_type\": \"\",\n        \"description\": \"\"\n      }\n    },\n    {\n      \"column\": \"fecha\",\n      \"properties\": {\n        \"dtype\": \"date\",\n        \"min\": \"2023-01-03 00:00:00\",\n        \"max\": \"2023-12-31 00:00:00\",\n        \"num_unique_values\": 304,\n        \"samples\": [\n          \"2023-08-05 00:00:00\",\n          \"2023-07-06 00:00:00\",\n          \"2023-05-17 00:00:00\"\n        ],\n        \"semantic_type\": \"\",\n        \"description\": \"\"\n      }\n    },\n    {\n      \"column\": \"precio_unitario\",\n      \"properties\": {\n        \"dtype\": \"number\",\n        \"std\": 1852.0643423194142,\n        \"min\": 2.9,\n        \"max\": 8000.0,\n        \"num_unique_values\": 1655,\n        \"samples\": [\n          6291.9,\n          52.9,\n          31.0\n        ],\n        \"semantic_type\": \"\",\n        \"description\": \"\"\n      }\n    },\n    {\n      \"column\": \"cantidad\",\n      \"properties\": {\n        \"dtype\": \"number\",\n        \"std\": 1,\n        \"min\": 1,\n        \"max\": 5,\n        \"num_unique_values\": 5,\n        \"samples\": [\n          1,\n          3,\n          2\n        ],\n        \"semantic_type\": \"\",\n        \"description\": \"\"\n      }\n    },\n    {\n      \"column\": \"envio\",\n      \"properties\": {\n        \"dtype\": \"number\",\n        \"std\": 366.14922483792856,\n        \"min\": 0.0,\n        \"max\": 4521.54,\n        \"num_unique_values\": 2934,\n        \"samples\": [\n          30.58,\n          21.21,\n          14.23\n        ],\n        \"semantic_type\": \"\",\n        \"description\": \"\"\n      }\n    },\n    {\n      \"column\": \"metodo_pago\",\n      \"properties\": {\n        \"dtype\": \"category\",\n        \"num_unique_values\": 4,\n        \"samples\": [\n          \"Transferencia\",\n          \"Tarjeta de D\\u00e9bito\",\n          \"Paypal\"\n        ],\n        \"semantic_type\": \"\",\n        \"description\": \"\"\n      }\n    },\n    {\n      \"column\": \"ID_cliente\",\n      \"properties\": {\n        \"dtype\": \"number\",\n        \"std\": 2610,\n        \"min\": 1005,\n        \"max\": 9999,\n        \"num_unique_values\": 4453,\n        \"samples\": [\n          7826,\n          3212,\n          2734\n        ],\n        \"semantic_type\": \"\",\n        \"description\": \"\"\n      }\n    },\n    {\n      \"column\": \"edad\",\n      \"properties\": {\n        \"dtype\": \"number\",\n        \"std\": 9,\n        \"min\": 18,\n        \"max\": 70,\n        \"num_unique_values\": 53,\n        \"samples\": [\n          47,\n          20,\n          70\n        ],\n        \"semantic_type\": \"\",\n        \"description\": \"\"\n      }\n    },\n    {\n      \"column\": \"sexo_biologico\",\n      \"properties\": {\n        \"dtype\": \"category\",\n        \"num_unique_values\": 2,\n        \"samples\": [\n          \"Femenino\",\n          \"Masculino\"\n        ],\n        \"semantic_type\": \"\",\n        \"description\": \"\"\n      }\n    },\n    {\n      \"column\": \"ciudad\",\n      \"properties\": {\n        \"dtype\": \"category\",\n        \"num_unique_values\": 94,\n        \"samples\": [\n          \"Mazatl\\u00e1n\",\n          \"Tlaquepaque\"\n        ],\n        \"semantic_type\": \"\",\n        \"description\": \"\"\n      }\n    },\n    {\n      \"column\": \"estado\",\n      \"properties\": {\n        \"dtype\": \"category\",\n        \"num_unique_values\": 28,\n        \"samples\": [\n          \"Coahuila\",\n          \"Chiapas\"\n        ],\n        \"semantic_type\": \"\",\n        \"description\": \"\"\n      }\n    },\n    {\n      \"column\": \"region\",\n      \"properties\": {\n        \"dtype\": \"category\",\n        \"num_unique_values\": 9,\n        \"samples\": [\n          \"Occidente\",\n          \"Centro\"\n        ],\n        \"semantic_type\": \"\",\n        \"description\": \"\"\n      }\n    },\n    {\n      \"column\": \"cashback\",\n      \"properties\": {\n        \"dtype\": \"category\",\n        \"num_unique_values\": 2,\n        \"samples\": [\n          \"No\",\n          \"S\\u00ed\"\n        ],\n        \"semantic_type\": \"\",\n        \"description\": \"\"\n      }\n    },\n    {\n      \"column\": \"nota\",\n      \"properties\": {\n        \"dtype\": \"number\",\n        \"std\": 1,\n        \"min\": 0,\n        \"max\": 10,\n        \"num_unique_values\": 11,\n        \"samples\": [\n          2,\n          10\n        ],\n        \"semantic_type\": \"\",\n        \"description\": \"\"\n      }\n    }\n  ]\n}"
            }
          },
          "metadata": {},
          "execution_count": 65
        }
      ]
    },
    {
      "cell_type": "markdown",
      "source": [
        "Nota que en este código generado por ChatGPT necesitamos ajustar la parte que lee los datos de las bases, pasando los enlaces como creados al inicio del cuaderno de Desafíos.\n",
        "\n",
        "Ahora, vamos a la segunda parte del problema, concatenando este DataFrame creado con la base Zoop Pay y ajustando la columna de fecha a formato datetime. Por lo tanto, podemos utilizar el siguiente prompt para la resolución de estos procesos:\n",
        "\n",
        "Ahora, vamos a unir el \"df\" con la base \"zoop_pay\", leída a partir de la URL \"url_zoop_pay\", generando un nuevo \"df\". Para unir las bases, utilizaremos la columna \"ID_cliente\". Además, ajustaremos la columna \"fecha\" al formato datetime, donde su formato en la base de datos es \"YYYY-MM-DD\".\n",
        "\n",
        "Utilizando la respuesta de ChatGPT, obtenemos el siguiente código:"
      ],
      "metadata": {
        "id": "u-gyVrFGaE_z"
      }
    },
    {
      "cell_type": "code",
      "source": [
        "import pandas as pd\n",
        "\n",
        "# Sustituye url_zoop_pay por la URL real proporcionada para la base zoop_pay\n",
        "zoop_pay = pd.read_csv(url_zoop_pay)\n",
        "\n",
        "# Uniendo el DataFrame df con la base zoop_pay utilizando la columna \"ID_cliente\"\n",
        "df = pd.merge(df, zoop_pay, on=\"ID_cliente\")\n",
        "\n",
        "# Ajustando la columna \"fecha\" al formato datetime\n",
        "df['fecha'] = pd.to_datetime(df['fecha'], format='%Y-%m-%d')\n",
        "\n",
        "# Mostrando las primeras filas del DataFrame resultante para verificación\n",
        "df.head()"
      ],
      "metadata": {
        "colab": {
          "base_uri": "https://localhost:8080/",
          "height": 313
        },
        "id": "hgoIpgWVaIDF",
        "outputId": "b328c5fd-699d-439f-e292-f12142508085"
      },
      "execution_count": 66,
      "outputs": [
        {
          "output_type": "execute_result",
          "data": {
            "text/plain": [
              "   ID_compra      fecha  precio_unitario  cantidad   envio  \\\n",
              "0          6 2023-01-03           4457.9         4  713.26   \n",
              "1          5 2023-01-03            115.9         1    0.00   \n",
              "2          9 2023-01-03             68.9         2   13.78   \n",
              "3          4 2023-01-03             80.9         5   40.45   \n",
              "4          8 2023-01-03            165.0         4    0.00   \n",
              "\n",
              "          metodo_pago  ID_cliente  edad sexo_biologico            ciudad  \\\n",
              "0              Paypal        6149    30      Masculino        Hermosillo   \n",
              "1       Transferencia        9491    36      Masculino  Ciudad de México   \n",
              "2  Tarjeta de Crédito        5288    39       Femenino    Aguascalientes   \n",
              "3       Transferencia        9679    35      Masculino          Veracruz   \n",
              "4       Transferencia        1380    50      Masculino  Ciudad de México   \n",
              "\n",
              "             estado        region cashback  nota zoop_pay  \n",
              "0            Sonora      Noroeste       Sí    10       No  \n",
              "1  Ciudad de México        Centro       Sí     8       Sí  \n",
              "2    Aguascalientes  Centro-Norte       No     7       No  \n",
              "3          Veracruz         Golfo       Sí     9       Sí  \n",
              "4  Ciudad de México        Centro       No     9       No  "
            ],
            "text/html": [
              "\n",
              "  <div id=\"df-8f5e58e8-c841-4591-8b16-5e0120a90458\" class=\"colab-df-container\">\n",
              "    <div>\n",
              "<style scoped>\n",
              "    .dataframe tbody tr th:only-of-type {\n",
              "        vertical-align: middle;\n",
              "    }\n",
              "\n",
              "    .dataframe tbody tr th {\n",
              "        vertical-align: top;\n",
              "    }\n",
              "\n",
              "    .dataframe thead th {\n",
              "        text-align: right;\n",
              "    }\n",
              "</style>\n",
              "<table border=\"1\" class=\"dataframe\">\n",
              "  <thead>\n",
              "    <tr style=\"text-align: right;\">\n",
              "      <th></th>\n",
              "      <th>ID_compra</th>\n",
              "      <th>fecha</th>\n",
              "      <th>precio_unitario</th>\n",
              "      <th>cantidad</th>\n",
              "      <th>envio</th>\n",
              "      <th>metodo_pago</th>\n",
              "      <th>ID_cliente</th>\n",
              "      <th>edad</th>\n",
              "      <th>sexo_biologico</th>\n",
              "      <th>ciudad</th>\n",
              "      <th>estado</th>\n",
              "      <th>region</th>\n",
              "      <th>cashback</th>\n",
              "      <th>nota</th>\n",
              "      <th>zoop_pay</th>\n",
              "    </tr>\n",
              "  </thead>\n",
              "  <tbody>\n",
              "    <tr>\n",
              "      <th>0</th>\n",
              "      <td>6</td>\n",
              "      <td>2023-01-03</td>\n",
              "      <td>4457.9</td>\n",
              "      <td>4</td>\n",
              "      <td>713.26</td>\n",
              "      <td>Paypal</td>\n",
              "      <td>6149</td>\n",
              "      <td>30</td>\n",
              "      <td>Masculino</td>\n",
              "      <td>Hermosillo</td>\n",
              "      <td>Sonora</td>\n",
              "      <td>Noroeste</td>\n",
              "      <td>Sí</td>\n",
              "      <td>10</td>\n",
              "      <td>No</td>\n",
              "    </tr>\n",
              "    <tr>\n",
              "      <th>1</th>\n",
              "      <td>5</td>\n",
              "      <td>2023-01-03</td>\n",
              "      <td>115.9</td>\n",
              "      <td>1</td>\n",
              "      <td>0.00</td>\n",
              "      <td>Transferencia</td>\n",
              "      <td>9491</td>\n",
              "      <td>36</td>\n",
              "      <td>Masculino</td>\n",
              "      <td>Ciudad de México</td>\n",
              "      <td>Ciudad de México</td>\n",
              "      <td>Centro</td>\n",
              "      <td>Sí</td>\n",
              "      <td>8</td>\n",
              "      <td>Sí</td>\n",
              "    </tr>\n",
              "    <tr>\n",
              "      <th>2</th>\n",
              "      <td>9</td>\n",
              "      <td>2023-01-03</td>\n",
              "      <td>68.9</td>\n",
              "      <td>2</td>\n",
              "      <td>13.78</td>\n",
              "      <td>Tarjeta de Crédito</td>\n",
              "      <td>5288</td>\n",
              "      <td>39</td>\n",
              "      <td>Femenino</td>\n",
              "      <td>Aguascalientes</td>\n",
              "      <td>Aguascalientes</td>\n",
              "      <td>Centro-Norte</td>\n",
              "      <td>No</td>\n",
              "      <td>7</td>\n",
              "      <td>No</td>\n",
              "    </tr>\n",
              "    <tr>\n",
              "      <th>3</th>\n",
              "      <td>4</td>\n",
              "      <td>2023-01-03</td>\n",
              "      <td>80.9</td>\n",
              "      <td>5</td>\n",
              "      <td>40.45</td>\n",
              "      <td>Transferencia</td>\n",
              "      <td>9679</td>\n",
              "      <td>35</td>\n",
              "      <td>Masculino</td>\n",
              "      <td>Veracruz</td>\n",
              "      <td>Veracruz</td>\n",
              "      <td>Golfo</td>\n",
              "      <td>Sí</td>\n",
              "      <td>9</td>\n",
              "      <td>Sí</td>\n",
              "    </tr>\n",
              "    <tr>\n",
              "      <th>4</th>\n",
              "      <td>8</td>\n",
              "      <td>2023-01-03</td>\n",
              "      <td>165.0</td>\n",
              "      <td>4</td>\n",
              "      <td>0.00</td>\n",
              "      <td>Transferencia</td>\n",
              "      <td>1380</td>\n",
              "      <td>50</td>\n",
              "      <td>Masculino</td>\n",
              "      <td>Ciudad de México</td>\n",
              "      <td>Ciudad de México</td>\n",
              "      <td>Centro</td>\n",
              "      <td>No</td>\n",
              "      <td>9</td>\n",
              "      <td>No</td>\n",
              "    </tr>\n",
              "  </tbody>\n",
              "</table>\n",
              "</div>\n",
              "    <div class=\"colab-df-buttons\">\n",
              "\n",
              "  <div class=\"colab-df-container\">\n",
              "    <button class=\"colab-df-convert\" onclick=\"convertToInteractive('df-8f5e58e8-c841-4591-8b16-5e0120a90458')\"\n",
              "            title=\"Convert this dataframe to an interactive table.\"\n",
              "            style=\"display:none;\">\n",
              "\n",
              "  <svg xmlns=\"http://www.w3.org/2000/svg\" height=\"24px\" viewBox=\"0 -960 960 960\">\n",
              "    <path d=\"M120-120v-720h720v720H120Zm60-500h600v-160H180v160Zm220 220h160v-160H400v160Zm0 220h160v-160H400v160ZM180-400h160v-160H180v160Zm440 0h160v-160H620v160ZM180-180h160v-160H180v160Zm440 0h160v-160H620v160Z\"/>\n",
              "  </svg>\n",
              "    </button>\n",
              "\n",
              "  <style>\n",
              "    .colab-df-container {\n",
              "      display:flex;\n",
              "      gap: 12px;\n",
              "    }\n",
              "\n",
              "    .colab-df-convert {\n",
              "      background-color: #E8F0FE;\n",
              "      border: none;\n",
              "      border-radius: 50%;\n",
              "      cursor: pointer;\n",
              "      display: none;\n",
              "      fill: #1967D2;\n",
              "      height: 32px;\n",
              "      padding: 0 0 0 0;\n",
              "      width: 32px;\n",
              "    }\n",
              "\n",
              "    .colab-df-convert:hover {\n",
              "      background-color: #E2EBFA;\n",
              "      box-shadow: 0px 1px 2px rgba(60, 64, 67, 0.3), 0px 1px 3px 1px rgba(60, 64, 67, 0.15);\n",
              "      fill: #174EA6;\n",
              "    }\n",
              "\n",
              "    .colab-df-buttons div {\n",
              "      margin-bottom: 4px;\n",
              "    }\n",
              "\n",
              "    [theme=dark] .colab-df-convert {\n",
              "      background-color: #3B4455;\n",
              "      fill: #D2E3FC;\n",
              "    }\n",
              "\n",
              "    [theme=dark] .colab-df-convert:hover {\n",
              "      background-color: #434B5C;\n",
              "      box-shadow: 0px 1px 3px 1px rgba(0, 0, 0, 0.15);\n",
              "      filter: drop-shadow(0px 1px 2px rgba(0, 0, 0, 0.3));\n",
              "      fill: #FFFFFF;\n",
              "    }\n",
              "  </style>\n",
              "\n",
              "    <script>\n",
              "      const buttonEl =\n",
              "        document.querySelector('#df-8f5e58e8-c841-4591-8b16-5e0120a90458 button.colab-df-convert');\n",
              "      buttonEl.style.display =\n",
              "        google.colab.kernel.accessAllowed ? 'block' : 'none';\n",
              "\n",
              "      async function convertToInteractive(key) {\n",
              "        const element = document.querySelector('#df-8f5e58e8-c841-4591-8b16-5e0120a90458');\n",
              "        const dataTable =\n",
              "          await google.colab.kernel.invokeFunction('convertToInteractive',\n",
              "                                                    [key], {});\n",
              "        if (!dataTable) return;\n",
              "\n",
              "        const docLinkHtml = 'Like what you see? Visit the ' +\n",
              "          '<a target=\"_blank\" href=https://colab.research.google.com/notebooks/data_table.ipynb>data table notebook</a>'\n",
              "          + ' to learn more about interactive tables.';\n",
              "        element.innerHTML = '';\n",
              "        dataTable['output_type'] = 'display_data';\n",
              "        await google.colab.output.renderOutput(dataTable, element);\n",
              "        const docLink = document.createElement('div');\n",
              "        docLink.innerHTML = docLinkHtml;\n",
              "        element.appendChild(docLink);\n",
              "      }\n",
              "    </script>\n",
              "  </div>\n",
              "\n",
              "\n",
              "    <div id=\"df-2bfa6e5c-aae8-4160-bd24-136e45ddf4d0\">\n",
              "      <button class=\"colab-df-quickchart\" onclick=\"quickchart('df-2bfa6e5c-aae8-4160-bd24-136e45ddf4d0')\"\n",
              "                title=\"Suggest charts\"\n",
              "                style=\"display:none;\">\n",
              "\n",
              "<svg xmlns=\"http://www.w3.org/2000/svg\" height=\"24px\"viewBox=\"0 0 24 24\"\n",
              "     width=\"24px\">\n",
              "    <g>\n",
              "        <path d=\"M19 3H5c-1.1 0-2 .9-2 2v14c0 1.1.9 2 2 2h14c1.1 0 2-.9 2-2V5c0-1.1-.9-2-2-2zM9 17H7v-7h2v7zm4 0h-2V7h2v10zm4 0h-2v-4h2v4z\"/>\n",
              "    </g>\n",
              "</svg>\n",
              "      </button>\n",
              "\n",
              "<style>\n",
              "  .colab-df-quickchart {\n",
              "      --bg-color: #E8F0FE;\n",
              "      --fill-color: #1967D2;\n",
              "      --hover-bg-color: #E2EBFA;\n",
              "      --hover-fill-color: #174EA6;\n",
              "      --disabled-fill-color: #AAA;\n",
              "      --disabled-bg-color: #DDD;\n",
              "  }\n",
              "\n",
              "  [theme=dark] .colab-df-quickchart {\n",
              "      --bg-color: #3B4455;\n",
              "      --fill-color: #D2E3FC;\n",
              "      --hover-bg-color: #434B5C;\n",
              "      --hover-fill-color: #FFFFFF;\n",
              "      --disabled-bg-color: #3B4455;\n",
              "      --disabled-fill-color: #666;\n",
              "  }\n",
              "\n",
              "  .colab-df-quickchart {\n",
              "    background-color: var(--bg-color);\n",
              "    border: none;\n",
              "    border-radius: 50%;\n",
              "    cursor: pointer;\n",
              "    display: none;\n",
              "    fill: var(--fill-color);\n",
              "    height: 32px;\n",
              "    padding: 0;\n",
              "    width: 32px;\n",
              "  }\n",
              "\n",
              "  .colab-df-quickchart:hover {\n",
              "    background-color: var(--hover-bg-color);\n",
              "    box-shadow: 0 1px 2px rgba(60, 64, 67, 0.3), 0 1px 3px 1px rgba(60, 64, 67, 0.15);\n",
              "    fill: var(--button-hover-fill-color);\n",
              "  }\n",
              "\n",
              "  .colab-df-quickchart-complete:disabled,\n",
              "  .colab-df-quickchart-complete:disabled:hover {\n",
              "    background-color: var(--disabled-bg-color);\n",
              "    fill: var(--disabled-fill-color);\n",
              "    box-shadow: none;\n",
              "  }\n",
              "\n",
              "  .colab-df-spinner {\n",
              "    border: 2px solid var(--fill-color);\n",
              "    border-color: transparent;\n",
              "    border-bottom-color: var(--fill-color);\n",
              "    animation:\n",
              "      spin 1s steps(1) infinite;\n",
              "  }\n",
              "\n",
              "  @keyframes spin {\n",
              "    0% {\n",
              "      border-color: transparent;\n",
              "      border-bottom-color: var(--fill-color);\n",
              "      border-left-color: var(--fill-color);\n",
              "    }\n",
              "    20% {\n",
              "      border-color: transparent;\n",
              "      border-left-color: var(--fill-color);\n",
              "      border-top-color: var(--fill-color);\n",
              "    }\n",
              "    30% {\n",
              "      border-color: transparent;\n",
              "      border-left-color: var(--fill-color);\n",
              "      border-top-color: var(--fill-color);\n",
              "      border-right-color: var(--fill-color);\n",
              "    }\n",
              "    40% {\n",
              "      border-color: transparent;\n",
              "      border-right-color: var(--fill-color);\n",
              "      border-top-color: var(--fill-color);\n",
              "    }\n",
              "    60% {\n",
              "      border-color: transparent;\n",
              "      border-right-color: var(--fill-color);\n",
              "    }\n",
              "    80% {\n",
              "      border-color: transparent;\n",
              "      border-right-color: var(--fill-color);\n",
              "      border-bottom-color: var(--fill-color);\n",
              "    }\n",
              "    90% {\n",
              "      border-color: transparent;\n",
              "      border-bottom-color: var(--fill-color);\n",
              "    }\n",
              "  }\n",
              "</style>\n",
              "\n",
              "      <script>\n",
              "        async function quickchart(key) {\n",
              "          const quickchartButtonEl =\n",
              "            document.querySelector('#' + key + ' button');\n",
              "          quickchartButtonEl.disabled = true;  // To prevent multiple clicks.\n",
              "          quickchartButtonEl.classList.add('colab-df-spinner');\n",
              "          try {\n",
              "            const charts = await google.colab.kernel.invokeFunction(\n",
              "                'suggestCharts', [key], {});\n",
              "          } catch (error) {\n",
              "            console.error('Error during call to suggestCharts:', error);\n",
              "          }\n",
              "          quickchartButtonEl.classList.remove('colab-df-spinner');\n",
              "          quickchartButtonEl.classList.add('colab-df-quickchart-complete');\n",
              "        }\n",
              "        (() => {\n",
              "          let quickchartButtonEl =\n",
              "            document.querySelector('#df-2bfa6e5c-aae8-4160-bd24-136e45ddf4d0 button');\n",
              "          quickchartButtonEl.style.display =\n",
              "            google.colab.kernel.accessAllowed ? 'block' : 'none';\n",
              "        })();\n",
              "      </script>\n",
              "    </div>\n",
              "\n",
              "    </div>\n",
              "  </div>\n"
            ],
            "application/vnd.google.colaboratory.intrinsic+json": {
              "type": "dataframe",
              "variable_name": "df",
              "summary": "{\n  \"name\": \"df\",\n  \"rows\": 6169,\n  \"fields\": [\n    {\n      \"column\": \"ID_compra\",\n      \"properties\": {\n        \"dtype\": \"number\",\n        \"std\": 1780,\n        \"min\": 1,\n        \"max\": 6169,\n        \"num_unique_values\": 6169,\n        \"samples\": [\n          5998,\n          409,\n          1489\n        ],\n        \"semantic_type\": \"\",\n        \"description\": \"\"\n      }\n    },\n    {\n      \"column\": \"fecha\",\n      \"properties\": {\n        \"dtype\": \"date\",\n        \"min\": \"2023-01-03 00:00:00\",\n        \"max\": \"2023-12-31 00:00:00\",\n        \"num_unique_values\": 304,\n        \"samples\": [\n          \"2023-08-05 00:00:00\",\n          \"2023-07-06 00:00:00\",\n          \"2023-05-17 00:00:00\"\n        ],\n        \"semantic_type\": \"\",\n        \"description\": \"\"\n      }\n    },\n    {\n      \"column\": \"precio_unitario\",\n      \"properties\": {\n        \"dtype\": \"number\",\n        \"std\": 1852.0643423194142,\n        \"min\": 2.9,\n        \"max\": 8000.0,\n        \"num_unique_values\": 1655,\n        \"samples\": [\n          6291.9,\n          52.9,\n          31.0\n        ],\n        \"semantic_type\": \"\",\n        \"description\": \"\"\n      }\n    },\n    {\n      \"column\": \"cantidad\",\n      \"properties\": {\n        \"dtype\": \"number\",\n        \"std\": 1,\n        \"min\": 1,\n        \"max\": 5,\n        \"num_unique_values\": 5,\n        \"samples\": [\n          1,\n          3,\n          2\n        ],\n        \"semantic_type\": \"\",\n        \"description\": \"\"\n      }\n    },\n    {\n      \"column\": \"envio\",\n      \"properties\": {\n        \"dtype\": \"number\",\n        \"std\": 366.14922483792856,\n        \"min\": 0.0,\n        \"max\": 4521.54,\n        \"num_unique_values\": 2934,\n        \"samples\": [\n          30.58,\n          21.21,\n          14.23\n        ],\n        \"semantic_type\": \"\",\n        \"description\": \"\"\n      }\n    },\n    {\n      \"column\": \"metodo_pago\",\n      \"properties\": {\n        \"dtype\": \"category\",\n        \"num_unique_values\": 4,\n        \"samples\": [\n          \"Transferencia\",\n          \"Tarjeta de D\\u00e9bito\",\n          \"Paypal\"\n        ],\n        \"semantic_type\": \"\",\n        \"description\": \"\"\n      }\n    },\n    {\n      \"column\": \"ID_cliente\",\n      \"properties\": {\n        \"dtype\": \"number\",\n        \"std\": 2610,\n        \"min\": 1005,\n        \"max\": 9999,\n        \"num_unique_values\": 4453,\n        \"samples\": [\n          7826,\n          3212,\n          2734\n        ],\n        \"semantic_type\": \"\",\n        \"description\": \"\"\n      }\n    },\n    {\n      \"column\": \"edad\",\n      \"properties\": {\n        \"dtype\": \"number\",\n        \"std\": 9,\n        \"min\": 18,\n        \"max\": 70,\n        \"num_unique_values\": 53,\n        \"samples\": [\n          47,\n          20,\n          70\n        ],\n        \"semantic_type\": \"\",\n        \"description\": \"\"\n      }\n    },\n    {\n      \"column\": \"sexo_biologico\",\n      \"properties\": {\n        \"dtype\": \"category\",\n        \"num_unique_values\": 2,\n        \"samples\": [\n          \"Femenino\",\n          \"Masculino\"\n        ],\n        \"semantic_type\": \"\",\n        \"description\": \"\"\n      }\n    },\n    {\n      \"column\": \"ciudad\",\n      \"properties\": {\n        \"dtype\": \"category\",\n        \"num_unique_values\": 94,\n        \"samples\": [\n          \"Mazatl\\u00e1n\",\n          \"Tlaquepaque\"\n        ],\n        \"semantic_type\": \"\",\n        \"description\": \"\"\n      }\n    },\n    {\n      \"column\": \"estado\",\n      \"properties\": {\n        \"dtype\": \"category\",\n        \"num_unique_values\": 28,\n        \"samples\": [\n          \"Coahuila\",\n          \"Chiapas\"\n        ],\n        \"semantic_type\": \"\",\n        \"description\": \"\"\n      }\n    },\n    {\n      \"column\": \"region\",\n      \"properties\": {\n        \"dtype\": \"category\",\n        \"num_unique_values\": 9,\n        \"samples\": [\n          \"Occidente\",\n          \"Centro\"\n        ],\n        \"semantic_type\": \"\",\n        \"description\": \"\"\n      }\n    },\n    {\n      \"column\": \"cashback\",\n      \"properties\": {\n        \"dtype\": \"category\",\n        \"num_unique_values\": 2,\n        \"samples\": [\n          \"No\",\n          \"S\\u00ed\"\n        ],\n        \"semantic_type\": \"\",\n        \"description\": \"\"\n      }\n    },\n    {\n      \"column\": \"nota\",\n      \"properties\": {\n        \"dtype\": \"number\",\n        \"std\": 1,\n        \"min\": 0,\n        \"max\": 10,\n        \"num_unique_values\": 11,\n        \"samples\": [\n          2,\n          10\n        ],\n        \"semantic_type\": \"\",\n        \"description\": \"\"\n      }\n    },\n    {\n      \"column\": \"zoop_pay\",\n      \"properties\": {\n        \"dtype\": \"category\",\n        \"num_unique_values\": 2,\n        \"samples\": [\n          \"S\\u00ed\",\n          \"No\"\n        ],\n        \"semantic_type\": \"\",\n        \"description\": \"\"\n      }\n    }\n  ]\n}"
            }
          },
          "metadata": {},
          "execution_count": 66
        }
      ]
    },
    {
      "cell_type": "markdown",
      "source": [
        "La práctica siempre es muy importante para fijar el contenido. Utilizar IAs para ayudar en el análisis de datos es una gran herramienta para optimizar el tiempo en la construcción del código y también puede generar ideas que contribuyan mucho en tu proceso de análisis exploratorio de datos. Pero recuerda, es muy importante que analices las respuestas generadas por las IAs para investigar si lo que se ha presentado tiene sentido y si realmente resuelve el problema que estás enfrentando.\n",
        "\n",
        "Compartir tus conocimientos y las prácticas que has estado desarrollando en este punto es clave para tu crecimiento dentro de la carrera de datos. Por lo tanto, busca realizar los ejercicios propuestos y observa cómo esto puede ayudarte a progresar en tus habilidades de análisis de datos con IAs.\n",
        "\n",
        "Si tienes alguna duda, puedes usar el foro o el Discord de Alura."
      ],
      "metadata": {
        "id": "2HAOD1gRaNrJ"
      }
    }
  ]
}