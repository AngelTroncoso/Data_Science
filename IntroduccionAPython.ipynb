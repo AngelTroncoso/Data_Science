{
  "cells": [
    {
      "cell_type": "markdown",
      "metadata": {
        "id": "view-in-github",
        "colab_type": "text"
      },
      "source": [
        "<a href=\"https://colab.research.google.com/github/AngelTroncoso/Data_Science/blob/main/IntroduccionAPython.ipynb\" target=\"_parent\"><img src=\"https://colab.research.google.com/assets/colab-badge.svg\" alt=\"Open In Colab\"/></a>"
      ]
    },
    {
      "cell_type": "markdown",
      "metadata": {
        "id": "m2O1quoc6pQw"
      },
      "source": [
        "# Clase  : Introducción a la programación con Python\n"
      ]
    },
    {
      "cell_type": "markdown",
      "metadata": {
        "id": "u9vPsH7X6pQy"
      },
      "source": [
        "### Tipo de Datos\n",
        "\n",
        "* Simple:"
      ]
    },
    {
      "cell_type": "markdown",
      "metadata": {
        "id": "vEpQ_hYt6pQz"
      },
      "source": [
        "#### Número Entero (int)\n",
        "Este tipo de dato se corresponde con números enteros, es decir, sin parte decimal."
      ]
    },
    {
      "cell_type": "code",
      "execution_count": 1,
      "metadata": {
        "id": "bxoPP4ma6pQz",
        "colab": {
          "base_uri": "https://localhost:8080/"
        },
        "outputId": "20ef52b0-8c59-4a49-b1c1-11058a9fde75"
      },
      "outputs": [
        {
          "output_type": "stream",
          "name": "stdout",
          "text": [
            "El resultado de la variable es: 10 de tipo <class 'int'>\n"
          ]
        }
      ],
      "source": [
        "# 1. Pon valores de sin decimal, por ejemplo: 99, 59 ,1 ,10\n",
        "entero = 10\n",
        "print(\"El resultado de la variable es:\",entero,\"de tipo\",type(entero))"
      ]
    },
    {
      "cell_type": "markdown",
      "metadata": {
        "id": "SRMWMTG46pQ1"
      },
      "source": [
        "#### Número Decimal (float)\n",
        "\n",
        "Este tipo de dato se corresponde con números reales con parte decimal. Cabe destacar que el separador decimal en Python es el punto (.) y no la coma (,)."
      ]
    },
    {
      "cell_type": "code",
      "execution_count": 2,
      "metadata": {
        "id": "2YoHf-7c6pQ1",
        "colab": {
          "base_uri": "https://localhost:8080/"
        },
        "outputId": "9042951e-1295-46c2-a6b9-1ba7f1d97c48"
      },
      "outputs": [
        {
          "output_type": "stream",
          "name": "stdout",
          "text": [
            "El resultado de la variable es: 1.0 de tipo <class 'float'>\n"
          ]
        }
      ],
      "source": [
        "# 1. Pon valores de sin decimal, por ejemplo: 1.0, 3.879 , 78.0001 ,10.9999\n",
        "decimal = 1.0\n",
        "print(\"El resultado de la variable es:\",decimal,\"de tipo\",type(decimal))"
      ]
    },
    {
      "cell_type": "markdown",
      "metadata": {
        "id": "9ZzS2JLe6pQ2"
      },
      "source": [
        "#### Booleano (bool)\n",
        "\n",
        "Este tipo de dato reconoce solamente dos valores: Verdadero (True) y Falso (False)"
      ]
    },
    {
      "cell_type": "code",
      "execution_count": 3,
      "metadata": {
        "id": "BoUJ0lHo6pQ2",
        "colab": {
          "base_uri": "https://localhost:8080/"
        },
        "outputId": "eb52c490-380f-4821-a54d-9b87779e3b24"
      },
      "outputs": [
        {
          "output_type": "stream",
          "name": "stdout",
          "text": [
            "El resultado de la variable es: False de tipo <class 'bool'>\n"
          ]
        }
      ],
      "source": [
        "# 1. Pon valores de True o False\n",
        "# 2. Incluye la variable Booleano en la función print\n",
        "Booleano = False\n",
        "print(\"El resultado de la variable es:\",Booleano,\"de tipo\",type(Booleano))"
      ]
    },
    {
      "cell_type": "markdown",
      "metadata": {
        "id": "y3sHrziS6pQ2"
      },
      "source": [
        "#### String\n",
        "\n",
        "El tipo de dato String se utiliza para representar una cadena de caracteres (texto)"
      ]
    },
    {
      "cell_type": "code",
      "source": [
        "x = \"poderes magicos\""
      ],
      "metadata": {
        "id": "PDmgThXoGGRE"
      },
      "execution_count": 4,
      "outputs": []
    },
    {
      "cell_type": "code",
      "execution_count": 5,
      "metadata": {
        "id": "YNpfzM8x6pQ2",
        "colab": {
          "base_uri": "https://localhost:8080/"
        },
        "outputId": "4ca41426-368f-4899-93cd-a14a019aaa8c"
      },
      "outputs": [
        {
          "output_type": "stream",
          "name": "stdout",
          "text": [
            "El resultado de la variable es:poderes magicos de tipo <class 'str'> \n"
          ]
        }
      ],
      "source": [
        "# 1. Pon en la variable String \"Hola Mundo!\"\n",
        "# 2. Remplazar la variable String por _\n",
        "String = x\n",
        "print(\"El resultado de la variable es:{0} de tipo {1} \".format(String,type(String)))"
      ]
    },
    {
      "cell_type": "markdown",
      "metadata": {
        "id": "Rn4BeCci6pQ3"
      },
      "source": [
        "### Tipo de Datos\n",
        "\n",
        "* Estructurado (Colección):"
      ]
    },
    {
      "cell_type": "markdown",
      "metadata": {
        "id": "VGOn4cc86pQ3"
      },
      "source": [
        "#### Lista\n",
        "Las listas en Python son un tipo de dato que permirte contener cualquier variable sin importar que tipo de dato sea."
      ]
    },
    {
      "cell_type": "code",
      "execution_count": 6,
      "metadata": {
        "id": "Tm39b8j-6pQ3",
        "colab": {
          "base_uri": "https://localhost:8080/"
        },
        "outputId": "2ee033e8-81ca-4e2d-98e6-f0d5d2f1a010"
      },
      "outputs": [
        {
          "output_type": "stream",
          "name": "stdout",
          "text": [
            "['poderes magicos', False, 1.0, 10]\n"
          ]
        }
      ],
      "source": [
        "# 1. Utiliza la variables previamente asignadas en la lista (String, Booleano, decimal, entero)\n",
        "Lista = [String, Booleano,decimal, entero]\n",
        "print(Lista)"
      ]
    },
    {
      "cell_type": "code",
      "source": [
        "type(Lista)"
      ],
      "metadata": {
        "id": "RXZD4Z4nOSe3",
        "colab": {
          "base_uri": "https://localhost:8080/"
        },
        "outputId": "611b17c8-e35b-438b-ca70-9baa3c00ef03"
      },
      "execution_count": 7,
      "outputs": [
        {
          "output_type": "execute_result",
          "data": {
            "text/plain": [
              "list"
            ]
          },
          "metadata": {},
          "execution_count": 7
        }
      ]
    },
    {
      "cell_type": "code",
      "source": [
        "Lista[2:]"
      ],
      "metadata": {
        "colab": {
          "base_uri": "https://localhost:8080/"
        },
        "id": "PeY7yBU6IGOp",
        "outputId": "2e83b42f-2296-4a36-c3c7-06e7984a899f"
      },
      "execution_count": 8,
      "outputs": [
        {
          "output_type": "execute_result",
          "data": {
            "text/plain": [
              "[1.0, 10]"
            ]
          },
          "metadata": {},
          "execution_count": 8
        }
      ]
    },
    {
      "cell_type": "markdown",
      "metadata": {
        "id": "IHrTl9Gj6pQ3"
      },
      "source": [
        "* Curiosidad: La lista de una lista se le conoce como lista anidada"
      ]
    },
    {
      "cell_type": "code",
      "execution_count": 9,
      "metadata": {
        "id": "-N-PuTAo6pQ4",
        "colab": {
          "base_uri": "https://localhost:8080/"
        },
        "outputId": "290c0bff-87d4-4445-8df0-1f66cd0f0937"
      },
      "outputs": [
        {
          "output_type": "execute_result",
          "data": {
            "text/plain": [
              "([[1, 2, 3], [4, 5, 7]], [[5, 7, 9]])"
            ]
          },
          "metadata": {},
          "execution_count": 9
        }
      ],
      "source": [
        "[[1, 2, 3], [4, 5, 7]], [[5,7,9]]"
      ]
    },
    {
      "cell_type": "markdown",
      "metadata": {
        "id": "o2O-UVyJ6pQ4"
      },
      "source": [
        "<p>Acceder al componente de una lista, se debe hacer los siguiente ---> lista[0]: Primer valor <br>\n",
        "Para acceder el ultimo componente de la lista puedes poner el número N-1 o -1 ---> lista[-1]: Primer valor</p>"
      ]
    },
    {
      "cell_type": "code",
      "execution_count": 10,
      "metadata": {
        "id": "tvdMZawp6pQ4",
        "colab": {
          "base_uri": "https://localhost:8080/"
        },
        "outputId": "f8727b3a-8f7d-4ff6-8dfb-ba44f0c34d01"
      },
      "outputs": [
        {
          "output_type": "stream",
          "name": "stdout",
          "text": [
            "poderes magicos\n",
            "False\n",
            "10\n",
            "1.0\n"
          ]
        }
      ],
      "source": [
        "# 1. Accede al primer y segundo componente\n",
        "# 2. Accede al ultimo valor y penultimo valor\n",
        "\n",
        "print(Lista[0])\n",
        "print(Lista[1])\n",
        "print(Lista[-1])\n",
        "print(Lista[-2])"
      ]
    },
    {
      "cell_type": "markdown",
      "metadata": {
        "id": "W3YhHCZe6pQ4"
      },
      "source": [
        "#### Diccionarios\n",
        "\n",
        "En los Diccionarios cada elemento se compone de un par clave-valor, y para su definición es necesario encerrar los elementos entre llaves."
      ]
    },
    {
      "cell_type": "code",
      "execution_count": 11,
      "metadata": {
        "id": "Ho_4hsqZ6pQ5",
        "colab": {
          "base_uri": "https://localhost:8080/"
        },
        "outputId": "39c4d96c-cbbe-470b-d0db-ae2eccd4a341"
      },
      "outputs": [
        {
          "output_type": "stream",
          "name": "stdout",
          "text": [
            "{'Nacimiento y Muerte': [1917, 1963], 'Nombre': 'John F. Kennedy'}\n"
          ]
        }
      ],
      "source": [
        "# 1. Agrega el año de nacimiento de John F. Kennedy (1917)\n",
        "# 2. Luego en modo lista junto con la muerte 1963\n",
        "# {key:valor}\n",
        "\n",
        "diccionario = {\"Nacimiento y Muerte\":[1917,1963],\"Nombre\": \"John F. Kennedy\"}\n",
        "print(diccionario)"
      ]
    },
    {
      "cell_type": "code",
      "source": [
        "diccionario.keys()"
      ],
      "metadata": {
        "id": "pWlQxBLhP0nT",
        "colab": {
          "base_uri": "https://localhost:8080/"
        },
        "outputId": "dc20d296-8724-45c9-b3bb-f0477c99c6c5"
      },
      "execution_count": 12,
      "outputs": [
        {
          "output_type": "execute_result",
          "data": {
            "text/plain": [
              "dict_keys(['Nacimiento y Muerte', 'Nombre'])"
            ]
          },
          "metadata": {},
          "execution_count": 12
        }
      ]
    },
    {
      "cell_type": "code",
      "source": [
        "diccionario.values()"
      ],
      "metadata": {
        "id": "re5KwhWjP7P3",
        "colab": {
          "base_uri": "https://localhost:8080/"
        },
        "outputId": "5644c70e-b4be-4443-95c1-12d1c614802c"
      },
      "execution_count": 13,
      "outputs": [
        {
          "output_type": "execute_result",
          "data": {
            "text/plain": [
              "dict_values([[1917, 1963], 'John F. Kennedy'])"
            ]
          },
          "metadata": {},
          "execution_count": 13
        }
      ]
    },
    {
      "cell_type": "markdown",
      "metadata": {
        "id": "7pDpmQGc6pQ5"
      },
      "source": [
        "#### Tuplas\n",
        "\n",
        "Las Tuplas son básicamente Listas de elementos estáticas, es decir, que no pueden modificarse (decimos que las Tuplas son inmutables en Python). Para su definición, en lugar de corchetes se encierran valores separados por comas entre paréntesis."
      ]
    },
    {
      "cell_type": "code",
      "execution_count": 14,
      "metadata": {
        "id": "TDt4n9IA6pQ5",
        "colab": {
          "base_uri": "https://localhost:8080/"
        },
        "outputId": "752ffed0-0a9d-44bb-ec31-a29c81560388"
      },
      "outputs": [
        {
          "output_type": "stream",
          "name": "stdout",
          "text": [
            "('poderes magicos', False, 1.0, 10)\n"
          ]
        }
      ],
      "source": [
        "# 1. Utiliza la variables previamente asignadas en la lista (String, Booleano, decimal, entero)\n",
        "Tuple  = (String, Booleano, decimal, entero)\n",
        "print(Tuple)"
      ]
    },
    {
      "cell_type": "code",
      "source": [
        "Lista[0] = True"
      ],
      "metadata": {
        "id": "rSb9TIOkRLOU"
      },
      "execution_count": 15,
      "outputs": []
    },
    {
      "cell_type": "code",
      "source": [
        "Lista"
      ],
      "metadata": {
        "id": "4gyoTN_hRSsx",
        "colab": {
          "base_uri": "https://localhost:8080/"
        },
        "outputId": "c8ebd7d8-5ca3-4425-de4c-a453ec4441d8"
      },
      "execution_count": 16,
      "outputs": [
        {
          "output_type": "execute_result",
          "data": {
            "text/plain": [
              "[True, False, 1.0, 10]"
            ]
          },
          "metadata": {},
          "execution_count": 16
        }
      ]
    },
    {
      "cell_type": "code",
      "source": [
        "Tuple"
      ],
      "metadata": {
        "id": "4W2Qxw79RXZx",
        "colab": {
          "base_uri": "https://localhost:8080/"
        },
        "outputId": "a3b85353-10b8-42f7-e577-d03eec3e3790"
      },
      "execution_count": 17,
      "outputs": [
        {
          "output_type": "execute_result",
          "data": {
            "text/plain": [
              "('poderes magicos', False, 1.0, 10)"
            ]
          },
          "metadata": {},
          "execution_count": 17
        }
      ]
    },
    {
      "cell_type": "code",
      "source": [
        "Tuple[0] = \"Argetina\""
      ],
      "metadata": {
        "id": "Xuvyn2M4RZdY",
        "colab": {
          "base_uri": "https://localhost:8080/",
          "height": 141
        },
        "outputId": "9981def8-39ea-4453-8924-afa396060666"
      },
      "execution_count": 18,
      "outputs": [
        {
          "output_type": "error",
          "ename": "TypeError",
          "evalue": "'tuple' object does not support item assignment",
          "traceback": [
            "\u001b[0;31m---------------------------------------------------------------------------\u001b[0m",
            "\u001b[0;31mTypeError\u001b[0m                                 Traceback (most recent call last)",
            "\u001b[0;32m<ipython-input-18-6c15200ef49a>\u001b[0m in \u001b[0;36m<cell line: 0>\u001b[0;34m()\u001b[0m\n\u001b[0;32m----> 1\u001b[0;31m \u001b[0mTuple\u001b[0m\u001b[0;34m[\u001b[0m\u001b[0;36m0\u001b[0m\u001b[0;34m]\u001b[0m \u001b[0;34m=\u001b[0m \u001b[0;34m\"Argetina\"\u001b[0m\u001b[0;34m\u001b[0m\u001b[0;34m\u001b[0m\u001b[0m\n\u001b[0m",
            "\u001b[0;31mTypeError\u001b[0m: 'tuple' object does not support item assignment"
          ]
        }
      ]
    },
    {
      "cell_type": "markdown",
      "source": [
        "## Operadores"
      ],
      "metadata": {
        "id": "zBjxPuZ_ub2L"
      }
    },
    {
      "cell_type": "code",
      "source": [
        "a = 10\n",
        "b = 3"
      ],
      "metadata": {
        "id": "8ak7pKojMffH"
      },
      "execution_count": 19,
      "outputs": []
    },
    {
      "cell_type": "code",
      "source": [
        "a, b = 10, 3"
      ],
      "metadata": {
        "id": "dxTd4Z9nMi_a"
      },
      "execution_count": 20,
      "outputs": []
    },
    {
      "cell_type": "code",
      "source": [
        "print(\"=== Operadores Aritméticos ===\")\n",
        "a, b = 10, 3\n",
        "print(\"Suma:\", a + b)\n",
        "print(\"Resta:\", a - b)\n",
        "print(\"Multiplicación:\", a * b)\n",
        "print(\"División:\", a / b)\n",
        "print(\"División Entera:\", a // b)\n",
        "print(\"Módulo:\", a % b)\n",
        "print(\"Exponente:\", a ** b)"
      ],
      "metadata": {
        "id": "TAkfKQI-u7e1",
        "colab": {
          "base_uri": "https://localhost:8080/"
        },
        "outputId": "b01d1fe2-94bc-4bcc-ce91-518d587f5b46"
      },
      "execution_count": 21,
      "outputs": [
        {
          "output_type": "stream",
          "name": "stdout",
          "text": [
            "=== Operadores Aritméticos ===\n",
            "Suma: 13\n",
            "Resta: 7\n",
            "Multiplicación: 30\n",
            "División: 3.3333333333333335\n",
            "División Entera: 3\n",
            "Módulo: 1\n",
            "Exponente: 1000\n"
          ]
        }
      ]
    },
    {
      "cell_type": "code",
      "source": [
        "x = 5"
      ],
      "metadata": {
        "id": "JaxShE_CNt6M"
      },
      "execution_count": 22,
      "outputs": []
    },
    {
      "cell_type": "code",
      "source": [
        "print(\"\\n=== Operadores de Asignación ===\")\n",
        "x = 5\n",
        "x += 3     # x = x + 3\n",
        "print(\"x += 3:\", x)\n",
        "x *= 2     # x = x * 2\n",
        "print(\"x *= 2:\", x)\n",
        "x -= 1     # x = x - 1\n",
        "print(\"x -= 1:\", x)\n",
        "x /= 3     # x = x / 3\n",
        "print(\"x /= 3:\", x)"
      ],
      "metadata": {
        "id": "g4lBsXLCufGs",
        "colab": {
          "base_uri": "https://localhost:8080/"
        },
        "outputId": "eee6f207-cabf-4258-b883-3aad7c43a0ac"
      },
      "execution_count": 23,
      "outputs": [
        {
          "output_type": "stream",
          "name": "stdout",
          "text": [
            "\n",
            "=== Operadores de Asignación ===\n",
            "x += 3: 8\n",
            "x *= 2: 16\n",
            "x -= 1: 15\n",
            "x /= 3: 5.0\n"
          ]
        }
      ]
    },
    {
      "cell_type": "code",
      "source": [
        "a, b = 10, 3\n",
        "print(\"\\n=== Operadores de Comparación ===\")\n",
        "print(\"¿a == b?\", a == b)\n",
        "print(\"¿a != b?\", a != b)\n",
        "print(\"¿a > b?\", a > b)\n",
        "print(\"¿a < b?\", a < b)\n",
        "print(\"¿a >= b?\", a >= b)\n",
        "print(\"¿a <= b?\", a <= b)"
      ],
      "metadata": {
        "id": "aW0sHRtXvAPX",
        "colab": {
          "base_uri": "https://localhost:8080/"
        },
        "outputId": "7745ac89-546c-4109-8281-e43aeb741273"
      },
      "execution_count": 24,
      "outputs": [
        {
          "output_type": "stream",
          "name": "stdout",
          "text": [
            "\n",
            "=== Operadores de Comparación ===\n",
            "¿a == b? False\n",
            "¿a != b? True\n",
            "¿a > b? True\n",
            "¿a < b? False\n",
            "¿a >= b? True\n",
            "¿a <= b? False\n"
          ]
        }
      ]
    },
    {
      "cell_type": "markdown",
      "metadata": {
        "id": "RqhmrDL16pQ6"
      },
      "source": [
        "### ESTRUCTURAS DE CONTROL:\n",
        "FOR, WHILE, IF\n"
      ]
    },
    {
      "cell_type": "code",
      "source": [
        "x = 10\n",
        "y = 20"
      ],
      "metadata": {
        "id": "YvDGfsQASbJB"
      },
      "execution_count": 25,
      "outputs": []
    },
    {
      "cell_type": "code",
      "source": [
        "if y < x: #Si esto es Verdadero\n",
        "  print(\"primer condición 1\")\n",
        "else: #Si no se cumple lo anterior, se ejecutara esta respuesta por default\n",
        "  print(\"segunda condición 2 \")"
      ],
      "metadata": {
        "id": "gUgPSfFeSCet",
        "colab": {
          "base_uri": "https://localhost:8080/"
        },
        "outputId": "e09e11f0-5777-4561-95e4-fb521456ca9c"
      },
      "execution_count": 26,
      "outputs": [
        {
          "output_type": "stream",
          "name": "stdout",
          "text": [
            "segunda condición 2 \n"
          ]
        }
      ]
    },
    {
      "cell_type": "markdown",
      "metadata": {
        "id": "qs-bUxAJ6pQ6"
      },
      "source": [
        "Estructura condicional (IF)"
      ]
    },
    {
      "cell_type": "code",
      "execution_count": 27,
      "metadata": {
        "id": "VaIJoha46pQ7",
        "colab": {
          "base_uri": "https://localhost:8080/"
        },
        "outputId": "671e5e0a-2956-4b73-c431-e6a519a18975"
      },
      "outputs": [
        {
          "output_type": "stream",
          "name": "stdout",
          "text": [
            "10 es 10\n"
          ]
        }
      ],
      "source": [
        "# 1. Intenta cambiar x por 5\n",
        "# 2. Intenta cambiar x por 10\n",
        "# 3. Intenta cambiar x por 100\n",
        "\n",
        "x = 10\n",
        "if x < 10:                     # Pregunto si x es menor a 10\n",
        "    print(x, \"es menor a 10\")   # Si es así muestro mensaje\n",
        "elif x > 10:                    # Si no es así, pregunto si x es mayor\n",
        "    print(x, \"es mayor a 10\")   # a 10 y si es así muestro mensaje\n",
        "else:                           # Si nada de lo anterior se\n",
        "    print(x, \"es 10\")           # cumple, ejecuto esto\n"
      ]
    },
    {
      "cell_type": "markdown",
      "metadata": {
        "id": "eFd-eScK6pQ7"
      },
      "source": [
        "#### Estructura FOR"
      ]
    },
    {
      "cell_type": "markdown",
      "metadata": {
        "id": "1HNBExNb6pQ7"
      },
      "source": [
        "Primera forma"
      ]
    },
    {
      "cell_type": "code",
      "execution_count": 28,
      "metadata": {
        "id": "jOf3qk-16pQ8",
        "colab": {
          "base_uri": "https://localhost:8080/"
        },
        "outputId": "0507597e-0f96-4f5b-b0ad-7faf96e26ca6"
      },
      "outputs": [
        {
          "output_type": "stream",
          "name": "stdout",
          "text": [
            "1\n",
            "2\n",
            "3\n",
            "4\n",
            "5\n",
            "6\n",
            "7\n",
            "8\n",
            "9\n"
          ]
        }
      ],
      "source": [
        "# for i in rango(1,2,3,4,5,6,7,8,9) = range(1 incluyente,10 excluyente) ---\n",
        "# primera iteración 1: i = 1\n",
        "# segunda iteración 2: i = 2\n",
        "# tercer iteración 3: i = 3...\n",
        "\n",
        "for i in range(1,10):\n",
        "    print(i)\n"
      ]
    },
    {
      "cell_type": "markdown",
      "metadata": {
        "id": "DN4MtdZR6pQ8"
      },
      "source": [
        "Segunda Forma"
      ]
    },
    {
      "cell_type": "code",
      "execution_count": 29,
      "metadata": {
        "id": "Gu2JlxNE6pQ8",
        "colab": {
          "base_uri": "https://localhost:8080/"
        },
        "outputId": "33e2b2fb-ad52-4781-c7c2-299f3c236dc1"
      },
      "outputs": [
        {
          "output_type": "stream",
          "name": "stdout",
          "text": [
            "1\n",
            "4\n",
            "6\n",
            "2\n",
            "poderes magicos\n",
            "10\n"
          ]
        }
      ],
      "source": [
        "#primera iteración: a = 1\n",
        "#segunda iteración: a = 4\n",
        "#cuarta iteración: a = 2\n",
        "\n",
        "for a in [1,4,6,2,String, entero]:\n",
        "    print(a)\n"
      ]
    },
    {
      "cell_type": "markdown",
      "metadata": {
        "id": "zromNiWv6pQ8"
      },
      "source": [
        "Combina utiliza For con condicional If"
      ]
    },
    {
      "cell_type": "code",
      "source": [
        "#4%2 : par\n",
        "#5%2 : impar\n",
        "#6%2 : par\n",
        "#7%2 : impar\n",
        "\n",
        "if 8%2 ==0:\n",
        "  print(\"Esto es un par\")\n",
        "else:\n",
        "  print(\"Esto es un impar\")"
      ],
      "metadata": {
        "id": "lGNKCRMoY-Bo",
        "colab": {
          "base_uri": "https://localhost:8080/"
        },
        "outputId": "004b2916-7b82-411b-c607-d3ae7208cca9"
      },
      "execution_count": 30,
      "outputs": [
        {
          "output_type": "stream",
          "name": "stdout",
          "text": [
            "Esto es un par\n"
          ]
        }
      ]
    },
    {
      "cell_type": "code",
      "execution_count": 31,
      "metadata": {
        "id": "5skINmfJ6pQ8",
        "colab": {
          "base_uri": "https://localhost:8080/"
        },
        "outputId": "88e4af3a-b094-43fd-902e-75d8a2f53df8"
      },
      "outputs": [
        {
          "output_type": "stream",
          "name": "stdout",
          "text": [
            "Es par 2\n",
            "Es par 4\n",
            "Es par 6\n",
            "No es par 7\n"
          ]
        }
      ],
      "source": [
        "# 1. Evalua si el valor dentro de la lista es par\n",
        "# 2. Utiliza el operador modulo %\n",
        "# 3. Recuerda utilizar i\n",
        "\n",
        "for i in [2,4,6,7]:\n",
        "    if  i%2== 0:\n",
        "        print(\"Es par {}\".format(i))\n",
        "    else:\n",
        "        print(\"No es par {}\".format(i))"
      ]
    },
    {
      "cell_type": "code",
      "source": [
        "# 1. Evalua si el valor dentro de la lista es par\n",
        "# 2. Utiliza el operador modulo %\n",
        "# 3. Recuerda utilizar i\n",
        "\n",
        "for i in range(1,10):\n",
        "    if  i%2== 0:\n",
        "        print(\"Es par {}\".format(i))\n",
        "    else:\n",
        "        print(\"No es par {}\".format(i))"
      ],
      "metadata": {
        "id": "Oiu8lSxxaL6I",
        "colab": {
          "base_uri": "https://localhost:8080/"
        },
        "outputId": "341c5ed8-4612-4247-93e5-8098f168fa60"
      },
      "execution_count": 32,
      "outputs": [
        {
          "output_type": "stream",
          "name": "stdout",
          "text": [
            "No es par 1\n",
            "Es par 2\n",
            "No es par 3\n",
            "Es par 4\n",
            "No es par 5\n",
            "Es par 6\n",
            "No es par 7\n",
            "Es par 8\n",
            "No es par 9\n"
          ]
        }
      ]
    },
    {
      "cell_type": "code",
      "source": [
        "x = 2\n",
        "print(\"Esto es un par\", x )"
      ],
      "metadata": {
        "id": "pdyWUMgNaYH4",
        "colab": {
          "base_uri": "https://localhost:8080/"
        },
        "outputId": "700d564d-864a-4496-eb26-b7c0c888f59a"
      },
      "execution_count": 33,
      "outputs": [
        {
          "output_type": "stream",
          "name": "stdout",
          "text": [
            "Esto es un par 2\n"
          ]
        }
      ]
    },
    {
      "cell_type": "code",
      "source": [
        "\"Esto es un par {}\".format(x)"
      ],
      "metadata": {
        "id": "NtmH_Z5Gah7g",
        "colab": {
          "base_uri": "https://localhost:8080/",
          "height": 35
        },
        "outputId": "ff9c5403-647b-4532-decc-f44811d08307"
      },
      "execution_count": 34,
      "outputs": [
        {
          "output_type": "execute_result",
          "data": {
            "text/plain": [
              "'Esto es un par 2'"
            ],
            "application/vnd.google.colaboratory.intrinsic+json": {
              "type": "string"
            }
          },
          "metadata": {},
          "execution_count": 34
        }
      ]
    },
    {
      "cell_type": "markdown",
      "metadata": {
        "id": "L2FRshDj6pQ9"
      },
      "source": [
        "#### Estructura WHILE\n",
        "Repite una secuencia de comandos “mientras” una condición se cumpla. Cuando la condición no se cumple más, termina la repetición."
      ]
    },
    {
      "cell_type": "code",
      "execution_count": 35,
      "metadata": {
        "id": "eRyr1a5Z6pQ9",
        "colab": {
          "base_uri": "https://localhost:8080/"
        },
        "outputId": "b5b5e29c-d6b8-4529-e10c-f4f227ba60d0"
      },
      "outputs": [
        {
          "output_type": "stream",
          "name": "stdout",
          "text": [
            "1\n",
            "2\n",
            "3\n",
            "4\n"
          ]
        }
      ],
      "source": [
        "#Iteración 1:\n",
        "# i = 1\n",
        "# While pregunta si i<5 ---1<5 (True)\n",
        "# print(i) : su valor es 1\n",
        "# i=i+1 ---> i=1+1 ---> i = 2\n",
        "\n",
        "#Iteración 2\n",
        "# i = 2\n",
        "# While pregunta si i < 5 ----> i = 2 (True)\n",
        "# print(i) : su valor es 2\n",
        "# i=i+1 ---> i=2+1 ---> i = 3\n",
        "#.....One million year+\n",
        "\n",
        "#Iteración 5\n",
        "# i = 5\n",
        "# While pregunta si i < 5 ----> i = 5 (False)\n",
        "#Termina la ejecución\n",
        "\n",
        "i = 1\n",
        "while i < 5:   # el código luego de los dos puntos se ejecuta\n",
        "    print(i)        # mientras i es menor a 10.\n",
        "    i += 1          #i=i+1  # cuando i llega a 10 termina la ejecución"
      ]
    },
    {
      "cell_type": "code",
      "source": [
        "# while True:\n",
        "  # print(\"Se ejecuta\")"
      ],
      "metadata": {
        "id": "G_F75jO48ZNX"
      },
      "execution_count": 36,
      "outputs": []
    },
    {
      "cell_type": "markdown",
      "metadata": {
        "id": "oVGTeJu06pQ9"
      },
      "source": [
        "Siempre pongan un incremental en el While!"
      ]
    },
    {
      "cell_type": "markdown",
      "metadata": {
        "id": "8VYloiFR6pQ-"
      },
      "source": [
        "### Funciones, argumentos y retorno"
      ]
    },
    {
      "cell_type": "markdown",
      "metadata": {
        "id": "TGWw9u9d6pQ-"
      },
      "source": [
        "Las funciones tienen al menos 3 elementos:\n",
        "* El nombre de la función\n",
        "* Cero o más argumentos (variables de entrada)\n",
        "* Un valor de retorno (salida de la función)"
      ]
    },
    {
      "cell_type": "code",
      "execution_count": 37,
      "metadata": {
        "id": "emKbTdpx6pQ-",
        "colab": {
          "base_uri": "https://localhost:8080/"
        },
        "outputId": "6a610d15-da7e-45cd-be95-159558c3f1f6"
      },
      "outputs": [
        {
          "output_type": "stream",
          "name": "stdout",
          "text": [
            "9\n"
          ]
        }
      ],
      "source": [
        "def suma(x,y):  # aquí definimos una función propia con argumentos x e y\n",
        "    z = x + y   # la función suma los valores x e y, y asigna resultado a z\n",
        "    return z    # el valor de retorno es z\n",
        "\n",
        "res = suma(2,7) # aplicamos la función definida a los números 2 y 3\n",
        "                # y guardamos el resultado en res\n",
        "print (res)     # mostramos el resultado: 2 + 3 = 5"
      ]
    },
    {
      "cell_type": "code",
      "source": [
        "def promedio(elemento1, elemento2, elemento3):\n",
        "  resultado = (elemento1 + elemento2 + elemento3)/3\n",
        "  return resultado"
      ],
      "metadata": {
        "id": "sprQYoYCerl2"
      },
      "execution_count": 38,
      "outputs": []
    },
    {
      "cell_type": "code",
      "source": [
        "promedio(10,10,10)"
      ],
      "metadata": {
        "id": "aMJBRK8wfQln",
        "colab": {
          "base_uri": "https://localhost:8080/"
        },
        "outputId": "f76559e3-81d8-4d29-9f27-baec392f55db"
      },
      "execution_count": 39,
      "outputs": [
        {
          "output_type": "execute_result",
          "data": {
            "text/plain": [
              "10.0"
            ]
          },
          "metadata": {},
          "execution_count": 39
        }
      ]
    },
    {
      "cell_type": "code",
      "source": [
        "def promedio(elemento1=0, elemento2=0, elemento3=0):\n",
        "  resultado = (elemento1 + elemento2 + elemento3)/3\n",
        "  return resultado"
      ],
      "metadata": {
        "id": "-QfhUDVQgWBt"
      },
      "execution_count": 40,
      "outputs": []
    },
    {
      "cell_type": "code",
      "source": [
        "promedio(elemento2 = 10,elemento3 = 10)\n"
      ],
      "metadata": {
        "id": "nGJOL6O6gftG",
        "colab": {
          "base_uri": "https://localhost:8080/"
        },
        "outputId": "48be3ed5-751c-443a-db74-90dd3608549f"
      },
      "execution_count": 41,
      "outputs": [
        {
          "output_type": "execute_result",
          "data": {
            "text/plain": [
              "6.666666666666667"
            ]
          },
          "metadata": {},
          "execution_count": 41
        }
      ]
    },
    {
      "cell_type": "markdown",
      "metadata": {
        "id": "17Nkz6HT6pQ9"
      },
      "source": [
        "## Ejercicio Generico"
      ]
    },
    {
      "cell_type": "code",
      "execution_count": 44,
      "metadata": {
        "id": "9Yd3ztdy6pQ9",
        "colab": {
          "base_uri": "https://localhost:8080/"
        },
        "outputId": "db1aa7b6-98ee-4b29-cf9c-8687c0d33ee3"
      },
      "outputs": [
        {
          "output_type": "stream",
          "name": "stdout",
          "text": [
            "Resultado del factorial es:  120\n"
          ]
        }
      ],
      "source": [
        "# Ejercicio 1.\n",
        "# Se busca el factorial de x = 5!---> 1*2*3*4*5\n",
        "# Se va a requerir un for usando un range\n",
        "# Recuerden usar los operadores aritmeticos de la clase 3.\n",
        "# Remplazar ___ por la respuesta\n",
        "\n",
        "fac = _\n",
        "# Ejercicio 1.\n",
        "# Se busca el factorial de x = 5!---> 1*2*3*4*5\n",
        "# Se va a requerir un for usando un range\n",
        "# Recuerden usar los operadores aritmeticos de la clase 3.\n",
        "# Remplazar ___ por la respuesta\n",
        "\n",
        "fac = 1\n",
        "\n",
        "for i in range(1,6):\n",
        "    fac *= i  # fac =  fac * i\n",
        "\n",
        "print(\"Resultado del factorial es: \", fac)"
      ]
    },
    {
      "cell_type": "code",
      "execution_count": 46,
      "metadata": {
        "scrolled": true,
        "id": "4cuAOJX06pQ-",
        "colab": {
          "base_uri": "https://localhost:8080/"
        },
        "outputId": "77456245-c544-4988-8a07-adaae5a39198"
      },
      "outputs": [
        {
          "output_type": "stream",
          "name": "stdout",
          "text": [
            "1 0\n",
            "2 1\n",
            "3 3\n",
            "4 6\n",
            "5 10\n",
            "6 15\n",
            "7 21\n",
            "8 28\n",
            "9 36\n",
            "10 45\n",
            "11 55\n",
            "12 66\n",
            "13 78\n",
            "14 91\n",
            "15 105\n",
            "16 120\n",
            "17 136\n",
            "18 153\n",
            "19 171\n",
            "20 190\n",
            "21 210\n",
            "22 231\n",
            "23 253\n",
            "24 276\n",
            "25 300\n",
            "26 325\n",
            "27 351\n",
            "28 378\n",
            "29 406\n",
            "30 435\n",
            "31 465\n",
            "32 496\n",
            "33 528\n",
            "34 561\n",
            "35 595\n",
            "36 630\n",
            "37 666\n",
            "38 703\n",
            "39 741\n",
            "40 780\n",
            "41 820\n",
            "42 861\n",
            "43 903\n",
            "44 946\n",
            "45 990\n",
            "46 1035\n",
            "47 1081\n",
            "48 1128\n",
            "49 1176\n",
            "50 1225\n",
            "51 1275\n",
            "52 1326\n",
            "53 1378\n",
            "54 1431\n",
            "55 1485\n",
            "56 1540\n",
            "57 1596\n",
            "58 1653\n",
            "59 1711\n",
            "60 1770\n",
            "61 1830\n",
            "62 1891\n",
            "63 1953\n",
            "64 2016\n",
            "65 2080\n",
            "66 2145\n",
            "67 2211\n",
            "68 2278\n",
            "69 2346\n",
            "70 2415\n",
            "71 2485\n",
            "72 2556\n",
            "73 2628\n",
            "74 2701\n",
            "75 2775\n",
            "76 2850\n",
            "77 2926\n",
            "78 3003\n",
            "79 3081\n",
            "80 3160\n",
            "81 3240\n",
            "82 3321\n",
            "83 3403\n",
            "84 3486\n",
            "85 3570\n",
            "86 3655\n",
            "87 3741\n",
            "88 3828\n",
            "89 3916\n",
            "90 4005\n",
            "91 4095\n",
            "92 4186\n",
            "93 4278\n",
            "94 4371\n",
            "95 4465\n",
            "96 4560\n",
            "97 4656\n",
            "98 4753\n",
            "99 4851\n",
            "100 4950\n",
            "Resultado de la suma es:  5050\n"
          ]
        }
      ],
      "source": [
        "# Ejercicio 2.\n",
        "# Se sumar  1 al 100 por ejemplo: 1+2+3+4+5... +100\n",
        "# Se va a requerir un for usando un range\n",
        "# Recuerden usar los operadores aritmeticos de la clase 3.\n",
        "# Remplazar ___ por la respuesta\n",
        "\n",
        "suma = _\n",
        "\n",
        "# Ejercicio 2.\n",
        "# Se sumar  1 al 100 por ejemplo: 1+2+3+4+5... +100\n",
        "# Se va a requerir un for usando un range\n",
        "# Recuerden usar los operadores aritmeticos de la clase 3.\n",
        "# Remplazar ___ por la respuesta\n",
        "\n",
        "suma = 0\n",
        "\n",
        "for i in range(1,101):\n",
        "    print(i,suma)\n",
        "    suma = suma +i\n",
        "\n",
        "print(\"Resultado de la suma es: \",suma)"
      ]
    }
  ],
  "metadata": {
    "kernelspec": {
      "display_name": "Python 3 (ipykernel)",
      "language": "python",
      "name": "python3"
    },
    "language_info": {
      "codemirror_mode": {
        "name": "ipython",
        "version": 3
      },
      "file_extension": ".py",
      "mimetype": "text/x-python",
      "name": "python",
      "nbconvert_exporter": "python",
      "pygments_lexer": "ipython3",
      "version": "3.9.7"
    },
    "colab": {
      "provenance": [],
      "include_colab_link": true
    }
  },
  "nbformat": 4,
  "nbformat_minor": 0
}