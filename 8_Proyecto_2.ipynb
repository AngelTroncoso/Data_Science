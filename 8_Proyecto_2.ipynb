{
  "nbformat": 4,
  "nbformat_minor": 0,
  "metadata": {
    "colab": {
      "provenance": [],
      "authorship_tag": "ABX9TyOsMQSza4rNNI+8sH0BAyj8",
      "include_colab_link": true
    },
    "kernelspec": {
      "name": "python3",
      "display_name": "Python 3"
    },
    "language_info": {
      "name": "python"
    }
  },
  "cells": [
    {
      "cell_type": "markdown",
      "metadata": {
        "id": "view-in-github",
        "colab_type": "text"
      },
      "source": [
        "<a href=\"https://colab.research.google.com/github/AngelTroncoso/Data_Science/blob/main/8_Proyecto_2.ipynb\" target=\"_parent\"><img src=\"https://colab.research.google.com/assets/colab-badge.svg\" alt=\"Open In Colab\"/></a>"
      ]
    },
    {
      "cell_type": "markdown",
      "source": [
        "##**Proyecto Desafío 2: Administración de Condominios**"
      ],
      "metadata": {
        "id": "mdyfWG9ck9Jq"
      }
    },
    {
      "cell_type": "markdown",
      "source": [
        "Administrar condominios es una tarea que requiere mucha atención y organización. Entre las diversas responsabilidades de gestión se encuentra el cobro del alquiler a los inquilinos. Para garantizar la buena salud financiera de la empresa, es fundamental que estos pagos se realicen de forma regular y puntual. Sin embargo, sabemos que esto no siempre sucede.\n",
        "\n",
        "Teniendo esto en cuenta, propongo un desafío de procesamiento de datos con el objetivo de analizar el retraso en el pago del alquiler en el condominio de algunos residentes. Pongo a disposición la base de datos dados_locacao_imoveis.json, que contiene información sobre el departamento de los inquilinos, el día acordado para el pago del alquiler, el día en que se realiza el pago del alquiler y el monto del alquiler.\n",
        "\n",
        "Con esta información, el desafío del proyecto 2: administración del condominio será similar al desafío del proyecto 1, abrir la base de datos con Pandas y aplicar json_normalize al DataFrame."
      ],
      "metadata": {
        "id": "Rd9TcmOplCSj"
      }
    },
    {
      "cell_type": "code",
      "execution_count": null,
      "metadata": {
        "id": "upS1K6Rdk44-"
      },
      "outputs": [],
      "source": [
        "# Import de pandas\n",
        "import pandas as pd\n",
        "# Leer el archivo json con read_json\n",
        "datos = pd.read_json('/content/dados_locacao_imoveis.json')\n",
        "# Aplicar json_normalize en la columna dados_locacao\n",
        "datos = pd.json_normalize(datos['dados_locacao'])\n",
        "# Mostrar valores\n",
        "datos"
      ]
    }
  ]
}